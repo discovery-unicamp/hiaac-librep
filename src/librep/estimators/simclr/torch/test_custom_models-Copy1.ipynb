{
 "cells": [
  {
   "cell_type": "code",
   "execution_count": 1,
   "id": "1062bcd3-71df-4f75-82ca-56c9c62ed376",
   "metadata": {},
   "outputs": [
    {
     "name": "stderr",
     "output_type": "stream",
     "text": [
      "/usr/local/lib/python3.10/site-packages/tqdm/auto.py:21: TqdmWarning: IProgress not found. Please update jupyter and ipywidgets. See https://ipywidgets.readthedocs.io/en/stable/user_install.html\n",
      "  from .autonotebook import tqdm as notebook_tqdm\n",
      "2023-11-01 17:08:51.721134: I tensorflow/tsl/cuda/cudart_stub.cc:28] Could not find cuda drivers on your machine, GPU will not be used.\n",
      "2023-11-01 17:08:51.756136: E tensorflow/compiler/xla/stream_executor/cuda/cuda_dnn.cc:9342] Unable to register cuDNN factory: Attempting to register factory for plugin cuDNN when one has already been registered\n",
      "2023-11-01 17:08:51.756190: E tensorflow/compiler/xla/stream_executor/cuda/cuda_fft.cc:609] Unable to register cuFFT factory: Attempting to register factory for plugin cuFFT when one has already been registered\n",
      "2023-11-01 17:08:51.756215: E tensorflow/compiler/xla/stream_executor/cuda/cuda_blas.cc:1518] Unable to register cuBLAS factory: Attempting to register factory for plugin cuBLAS when one has already been registered\n",
      "2023-11-01 17:08:51.763077: I tensorflow/core/platform/cpu_feature_guard.cc:182] This TensorFlow binary is optimized to use available CPU instructions in performance-critical operations.\n",
      "To enable the following instructions: AVX2 FMA, in other operations, rebuild TensorFlow with the appropriate compiler flags.\n",
      "2023-11-01 17:08:52.651158: W tensorflow/compiler/tf2tensorrt/utils/py_utils.cc:38] TF-TRT Warning: Could not find TensorRT\n"
     ]
    }
   ],
   "source": [
    "import os\n",
    "os.environ[\"CUDA_VISIBLE_DEVICES\"] = \"1\"  \n",
    "%load_ext autoreload\n",
    "%autoreload 2\n",
    "from librep.estimators.simclr.torch.standartized_balanced import StandardizedBalancedDataset\n",
    "import os,torch\n",
    "device = torch.device(\"cuda:1\" if torch.cuda.is_available() else \"cpu\")\n",
    "def get_data(dataset_name,sensors,normalize_data):    \n",
    "    working_directory=f\"result/{dataset_name}/\"\n",
    "    data_folder = f\"../../../../../../experiment_executor/data/standartized_balanced/{dataset_name}/\"\n",
    "    dataset = StandardizedBalancedDataset(data_folder, sensors=sensors)\n",
    "    X_train, y_train,X_test, y_test,X_val, y_val = dataset.get_all_data(normalize_data=normalize_data, resize_data=False)\n",
    "    return X_train, y_train,X_test, y_test,X_val, y_val\n",
    "        #print(f\"shape: X_train {X_train.shape} --- X_test {X_test.shape} --- X_test {X_val.shape}\")"
   ]
  },
  {
   "cell_type": "code",
   "execution_count": 2,
   "id": "7b4dc3ef-13ed-491d-b4e3-0e883781717d",
   "metadata": {},
   "outputs": [],
   "source": [
    "device = torch.device(\"cuda:1\" if torch.cuda.is_available() else \"cpu\")\n"
   ]
  },
  {
   "cell_type": "code",
   "execution_count": 3,
   "id": "46d7e470-a5a5-4d69-b8ef-9e0c1db18552",
   "metadata": {},
   "outputs": [
    {
     "data": {
      "text/plain": [
       "device(type='cpu')"
      ]
     },
     "execution_count": 3,
     "metadata": {},
     "output_type": "execute_result"
    }
   ],
   "source": [
    "device"
   ]
  },
  {
   "cell_type": "code",
   "execution_count": 4,
   "id": "63042be7-97c0-44b9-bb1c-f74b90ee8055",
   "metadata": {},
   "outputs": [],
   "source": [
    "import torch\n",
    "for i in range(torch.cuda.device_count()):\n",
    "    print(f\"GPU {i}: {torch.cuda.get_device_name(i)}\")"
   ]
  },
  {
   "cell_type": "code",
   "execution_count": 5,
   "id": "350c47ac-981d-4593-864e-0ceb29cd24c7",
   "metadata": {},
   "outputs": [
    {
     "name": "stdout",
     "output_type": "stream",
     "text": [
      "(360,)\n"
     ]
    }
   ],
   "source": [
    "X_train, y_train,X_test, y_test,X_val, y_val=get_data(\"UCI\",['accel','gyro'],False)\n",
    "input_shape=X_train[0].shape\n",
    "print(input_shape)"
   ]
  },
  {
   "cell_type": "code",
   "execution_count": null,
   "id": "bdc0379e-8728-4124-b281-89a3c49cd64c",
   "metadata": {},
   "outputs": [],
   "source": [
    "\n",
    "\n"
   ]
  },
  {
   "cell_type": "code",
   "execution_count": 16,
   "id": "4b6127fc-e009-4860-8163-fd29246a51df",
   "metadata": {},
   "outputs": [],
   "source": [
    "batch_size_head = 256\n",
    "decay_steps_head = 1000\n",
    "temperature_head = 0.77\n",
    "n_components=60\n",
    "epochs_head = 300\n",
    "input_shape=[60,6]\n",
    "transform_funcs=[[1, 2, 3],[9,10,11]]\n",
    "verbose=1\n",
    "import os,torch\n",
    "device = torch.device(\"cuda\" if torch.cuda.is_available() else \"cpu\")\n",
    "\n"
   ]
  },
  {
   "cell_type": "code",
   "execution_count": 17,
   "id": "fab8b1b2-9ae3-4812-873b-26c5124a2a43",
   "metadata": {},
   "outputs": [],
   "source": [
    "import simclr_utils as sm_ut\n",
    "transformations=sm_ut.transform_combinations(3,4)\n",
    "\n",
    "#print(transformations)"
   ]
  },
  {
   "cell_type": "code",
   "execution_count": 18,
   "id": "08bdea67-ede8-444d-a3ff-c8520d7efc07",
   "metadata": {},
   "outputs": [],
   "source": [
    "from librep.estimators.simclr.torch.simclr_full_fusion_estimator import Simclr_Full__FusionEstimator\n",
    "#from librep.estimators.simclr.torch.simclr_full_estimator import Simclr_Linear_Estimator\n"
   ]
  },
  {
   "cell_type": "code",
   "execution_count": 19,
   "id": "0ea26efe-fb55-4c8c-9fa8-b803bf9e0b31",
   "metadata": {},
   "outputs": [
    {
     "name": "stdout",
     "output_type": "stream",
     "text": [
      "cpu\n",
      "cpu\n"
     ]
    }
   ],
   "source": [
    "linear_model=Simclr_Full__FusionEstimator(dataset='motionsense',input_shape=input_shape,\n",
    "                        n_components=n_components,\n",
    "                        batch_size_head=batch_size_head,\n",
    "                        transform_funcs=transform_funcs,\n",
    "                        temperature_head=temperature_head, \n",
    "                        epochs_head=epochs_head,\n",
    "                        save_model=False,\n",
    "                        verbose=1,\n",
    "                        total_epochs=50,\n",
    "                        batch_size=32,\n",
    "                        lr=0.001, patience=10,\n",
    "                           min_delta=0.001,\n",
    "                            device='cuda',\n",
    "                            save_reducer=False)"
   ]
  },
  {
   "cell_type": "code",
   "execution_count": null,
   "id": "2d7be6e9-50b2-45ad-9b3e-5c6b4d8f56a8",
   "metadata": {},
   "outputs": [],
   "source": []
  },
  {
   "cell_type": "code",
   "execution_count": null,
   "id": "48b0c766-30aa-44aa-a721-a45bfab74a7b",
   "metadata": {},
   "outputs": [],
   "source": []
  },
  {
   "cell_type": "code",
   "execution_count": null,
   "id": "8421e6b7-5f6f-41e7-b75b-7774a3db17e7",
   "metadata": {},
   "outputs": [],
   "source": []
  },
  {
   "cell_type": "code",
   "execution_count": 20,
   "id": "28a7c9d9-0e45-4336-bb66-6eaa718a24cd",
   "metadata": {},
   "outputs": [
    {
     "name": "stdout",
     "output_type": "stream",
     "text": [
      "epoch: 1 loss: 5.806\n",
      "epoch: 2 loss: 5.562\n",
      "epoch: 3 loss: 5.555\n",
      "epoch: 4 loss: 5.532\n",
      "epoch: 5 loss: 5.537\n",
      "epoch: 6 loss: 5.530\n",
      "epoch: 7 loss: 5.514\n",
      "epoch: 8 loss: 5.504\n",
      "epoch: 9 loss: 5.497\n",
      "epoch: 10 loss: 5.492\n",
      "epoch: 11 loss: 5.493\n",
      "Early stopping after 11 epochs with no improvement.\n"
     ]
    },
    {
     "name": "stderr",
     "output_type": "stream",
     "text": [
      "/home/amparo/unicamp_hyper3/M4-Framework-Experiments/experiments/.local/lib/python3.10/site-packages/librep/estimators/simclr/torch/dataset_simclr.py:42: UserWarning: Casting complex values to real discards the imaginary part (Triggered internally at ../aten/src/ATen/native/Copy.cpp:299.)\n",
      "  transform_1 = torch.tensor(transform_1, dtype=torch.float32).to(self.device)\n"
     ]
    },
    {
     "name": "stdout",
     "output_type": "stream",
     "text": [
      "epoch: 1 loss: 6.182\n",
      "epoch: 2 loss: 6.162\n",
      "epoch: 3 loss: 6.146\n",
      "epoch: 4 loss: 6.064\n",
      "epoch: 5 loss: 6.242\n",
      "epoch: 6 loss: 6.154\n",
      "epoch: 7 loss: 5.987\n",
      "epoch: 8 loss: 6.213\n",
      "epoch: 9 loss: 6.158\n",
      "epoch: 10 loss: 6.146\n",
      "epoch: 11 loss: 6.077\n",
      "Early stopping after 11 epochs with no improvement.\n",
      "Epoch [1/50] - Loss: 1.1491097807884216\n",
      "Val Accuracy: 0.4938\n",
      "Epoch [2/50] - Loss: 0.8165043973531879\n",
      "Val Accuracy: 0.5847\n",
      "Epoch [3/50] - Loss: 0.598826913560023\n",
      "Val Accuracy: 0.7087\n",
      "Epoch [4/50] - Loss: 0.47292848444375835\n",
      "Val Accuracy: 0.6880\n",
      "Epoch [5/50] - Loss: 0.3936260967958169\n",
      "Val Accuracy: 0.7748\n",
      "Epoch [6/50] - Loss: 0.3485317674816632\n",
      "Val Accuracy: 0.7955\n",
      "Epoch [7/50] - Loss: 0.3496704866163066\n",
      "Val Accuracy: 0.7479\n",
      "Epoch [8/50] - Loss: 0.334504024660001\n",
      "Val Accuracy: 0.7851\n",
      "Epoch [9/50] - Loss: 0.29909931294253617\n",
      "Val Accuracy: 0.7810\n",
      "Epoch [10/50] - Loss: 0.2892466707796347\n",
      "Val Accuracy: 0.7893\n",
      "Epoch [11/50] - Loss: 0.2985644992746291\n",
      "Val Accuracy: 0.8306\n",
      "Epoch [12/50] - Loss: 0.3018320268783413\n",
      "Val Accuracy: 0.8326\n",
      "Epoch [13/50] - Loss: 0.3261997098805475\n",
      "Val Accuracy: 0.7872\n",
      "Epoch [14/50] - Loss: 0.2858754154600081\n",
      "Val Accuracy: 0.8079\n",
      "Epoch [15/50] - Loss: 0.2741767497824841\n",
      "Val Accuracy: 0.7872\n",
      "Epoch [16/50] - Loss: 0.28786831703342375\n",
      "Val Accuracy: 0.8430\n",
      "Epoch [17/50] - Loss: 0.26513266807696856\n",
      "Val Accuracy: 0.8430\n",
      "Epoch [18/50] - Loss: 0.26868844960556654\n",
      "Val Accuracy: 0.8347\n",
      "Epoch [19/50] - Loss: 0.28814330477206435\n",
      "Val Accuracy: 0.8471\n",
      "Epoch [20/50] - Loss: 0.2615693399652106\n",
      "Val Accuracy: 0.8533\n",
      "Epoch [21/50] - Loss: 0.24041091956076074\n",
      "Val Accuracy: 0.8636\n",
      "Epoch [22/50] - Loss: 0.22104826276419592\n",
      "Val Accuracy: 0.8554\n",
      "Epoch [23/50] - Loss: 0.20904382611395883\n",
      "Val Accuracy: 0.8802\n",
      "Epoch [24/50] - Loss: 0.24045306297599292\n",
      "Val Accuracy: 0.8616\n",
      "Epoch [25/50] - Loss: 0.2067930322812229\n",
      "Val Accuracy: 0.8822\n",
      "Epoch [26/50] - Loss: 0.192502105333766\n",
      "Val Accuracy: 0.9029\n",
      "Epoch [27/50] - Loss: 0.16012232622406522\n",
      "Val Accuracy: 0.8698\n",
      "Epoch [28/50] - Loss: 0.16284295342496183\n",
      "Val Accuracy: 0.9091\n",
      "Epoch [29/50] - Loss: 0.1473892139362507\n",
      "Val Accuracy: 0.9008\n",
      "Epoch [30/50] - Loss: 0.14009257149500925\n",
      "Val Accuracy: 0.9091\n",
      "Epoch [31/50] - Loss: 0.10088906876864981\n",
      "Val Accuracy: 0.8905\n",
      "Epoch [32/50] - Loss: 0.1381417955042886\n",
      "Val Accuracy: 0.8822\n",
      "Epoch [33/50] - Loss: 0.12505034864193104\n",
      "Val Accuracy: 0.9008\n",
      "Epoch [34/50] - Loss: 0.12685730282339405\n",
      "Val Accuracy: 0.8864\n",
      "Epoch [35/50] - Loss: 0.08851144737640365\n",
      "Val Accuracy: 0.9008\n",
      "Epoch [36/50] - Loss: 0.08307835542154117\n",
      "Val Accuracy: 0.9153\n",
      "Epoch [37/50] - Loss: 0.09677581756268858\n",
      "Val Accuracy: 0.9008\n",
      "Epoch [38/50] - Loss: 0.05788406435797205\n",
      "Val Accuracy: 0.8905\n",
      "Epoch [39/50] - Loss: 0.07436392578433772\n",
      "Val Accuracy: 0.9050\n",
      "Epoch [40/50] - Loss: 0.05707336198080514\n",
      "Val Accuracy: 0.9008\n",
      "Epoch [41/50] - Loss: 0.05842298032624311\n",
      "Val Accuracy: 0.9029\n",
      "Epoch [42/50] - Loss: 0.047254428065183464\n",
      "Val Accuracy: 0.9153\n",
      "Epoch [43/50] - Loss: 0.03415279599960099\n",
      "Val Accuracy: 0.9132\n",
      "Epoch [44/50] - Loss: 0.06935536539273672\n",
      "Val Accuracy: 0.9050\n",
      "Epoch [45/50] - Loss: 0.06110822365115412\n",
      "Val Accuracy: 0.9132\n",
      "Epoch [46/50] - Loss: 0.035595259562394295\n",
      "Val Accuracy: 0.9050\n",
      "Epoch [47/50] - Loss: 0.028752394324954845\n",
      "Val Accuracy: 0.9050\n",
      "Epoch [48/50] - Loss: 0.029862744748958798\n",
      "Val Accuracy: 0.9008\n",
      "Epoch [49/50] - Loss: 0.022933734822770214\n",
      "Val Accuracy: 0.9070\n",
      "Epoch [50/50] - Loss: 0.019215341079140417\n",
      "Val Accuracy: 0.9174\n",
      "Training finished.\n"
     ]
    },
    {
     "data": {
      "text/plain": [
       "<librep.estimators.simclr.torch.simclr_full_fusion_estimator.Simclr_Full__FusionEstimator at 0x7f6866703d90>"
      ]
     },
     "execution_count": 20,
     "metadata": {},
     "output_type": "execute_result"
    }
   ],
   "source": [
    "linear_model.fit(X_train,y_train,None,None)\n",
    "\n"
   ]
  },
  {
   "cell_type": "code",
   "execution_count": 21,
   "id": "3bd66f8f-e7fc-4abe-acff-c09f919a7b00",
   "metadata": {},
   "outputs": [
    {
     "data": {
      "text/plain": [
       "BaseModel(\n",
       "  (conv1): Conv1d(6, 32, kernel_size=(24,), stride=(1,))\n",
       "  (dropout1): Dropout(p=0.1, inplace=False)\n",
       "  (conv2): Conv1d(32, 64, kernel_size=(16,), stride=(1,))\n",
       "  (dropout2): Dropout(p=0.1, inplace=False)\n",
       "  (conv3): Conv1d(64, 60, kernel_size=(8,), stride=(1,))\n",
       "  (dropout3): Dropout(p=0.1, inplace=False)\n",
       "  (global_max_pooling): AdaptiveMaxPool1d(output_size=1)\n",
       "  (relu): ReLU()\n",
       ")"
      ]
     },
     "execution_count": 21,
     "metadata": {},
     "output_type": "execute_result"
    }
   ],
   "source": [
    "linear_model.model.simclr_head.base_model"
   ]
  },
  {
   "cell_type": "code",
   "execution_count": 22,
   "id": "85581e8c-b47b-4ce7-a948-80ecb804ef9c",
   "metadata": {},
   "outputs": [],
   "source": [
    "import librep.estimators.simclr.torch.simclr_utils as s_utils\n",
    "import copy,os\n",
    "\n",
    "def transform( X):\n",
    "            X = s_utils.resize_data(X, input_shape)\n",
    "            intermediate_model = copy.deepcopy(linear_model.model.simclr_head.base_model)\n",
    "            test_data = torch.tensor(X, dtype=torch.float32).to(device)\n",
    "            embeddings = intermediate_model(test_data).cpu().detach().numpy()\n",
    "            return embeddings"
   ]
  },
  {
   "cell_type": "code",
   "execution_count": 23,
   "id": "08a32f0b-90b4-4537-a8e6-7651aa1ad24f",
   "metadata": {},
   "outputs": [
    {
     "name": "stdout",
     "output_type": "stream",
     "text": [
      "(340, 60)\n"
     ]
    }
   ],
   "source": [
    "a=transform(X_val)\n",
    "print(a.shape)"
   ]
  },
  {
   "cell_type": "code",
   "execution_count": 24,
   "id": "769ec51d-e1a4-4c47-b0c3-e7c9eceef9cd",
   "metadata": {},
   "outputs": [
    {
     "name": "stdout",
     "output_type": "stream",
     "text": [
      "(2420, 60)\n",
      "(2420, 360)\n",
      "0.8869565217391304               precision    recall  f1-score   support\n",
      "\n",
      "           0       0.76      0.74      0.75       138\n",
      "           1       0.74      0.77      0.75       138\n",
      "           2       0.96      0.99      0.97       138\n",
      "           3       0.99      0.94      0.97       138\n",
      "           4       0.99      1.00      0.99       138\n",
      "\n",
      "    accuracy                           0.89       690\n",
      "   macro avg       0.89      0.89      0.89       690\n",
      "weighted avg       0.89      0.89      0.89       690\n",
      "\n"
     ]
    }
   ],
   "source": [
    "data=transform(X_train)\n",
    "data_t=transform(X_test)\n",
    "print(data.shape)\n",
    "print(X_train.shape)\n",
    "from sklearn.ensemble import RandomForestClassifier\n",
    "\n",
    "clf = RandomForestClassifier(n_estimators=100)  \n",
    "# Entrenar el clasificador\n",
    "clf.fit(data, y_train)\n",
    "etiquetas_pred = clf.predict(data_t)\n",
    "from sklearn.metrics import accuracy_score, classification_report\n",
    "accuracy = accuracy_score(y_test, etiquetas_pred)\n",
    "report = classification_report(y_test, etiquetas_pred)\n",
    "print(accuracy,report)"
   ]
  },
  {
   "cell_type": "code",
   "execution_count": null,
   "id": "b4338cc4-a351-4d9e-93a6-b6593ce2b07c",
   "metadata": {},
   "outputs": [],
   "source": []
  }
 ],
 "metadata": {
  "kernelspec": {
   "display_name": "Python 3 (ipykernel)",
   "language": "python",
   "name": "python3"
  },
  "language_info": {
   "codemirror_mode": {
    "name": "ipython",
    "version": 3
   },
   "file_extension": ".py",
   "mimetype": "text/x-python",
   "name": "python",
   "nbconvert_exporter": "python",
   "pygments_lexer": "ipython3",
   "version": "3.10.13"
  }
 },
 "nbformat": 4,
 "nbformat_minor": 5
}
