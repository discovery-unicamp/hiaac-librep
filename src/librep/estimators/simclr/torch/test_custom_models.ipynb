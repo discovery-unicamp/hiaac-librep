{
 "cells": [
  {
   "cell_type": "code",
   "execution_count": 1,
   "id": "1062bcd3-71df-4f75-82ca-56c9c62ed376",
   "metadata": {},
   "outputs": [
    {
     "name": "stderr",
     "output_type": "stream",
     "text": [
      "/usr/local/lib/python3.10/site-packages/tqdm/auto.py:21: TqdmWarning: IProgress not found. Please update jupyter and ipywidgets. See https://ipywidgets.readthedocs.io/en/stable/user_install.html\n",
      "  from .autonotebook import tqdm as notebook_tqdm\n"
     ]
    }
   ],
   "source": [
    "import os\n",
    "os.environ[\"CUDA_VISIBLE_DEVICES\"] = \"1\"  \n",
    "%load_ext autoreload\n",
    "%autoreload 2\n",
    "from librep.estimators.simclr.torch.standartized_balanced import StandardizedBalancedDataset\n",
    "import os,torch\n",
    "device = torch.device(\"cuda:1\" if torch.cuda.is_available() else \"cpu\")\n",
    "def get_data(dataset_name,sensors,normalize_data):    \n",
    "    working_directory=f\"result/{dataset_name}/\"\n",
    "    data_folder = f\"../../../../../../experiment_executor/data/standartized_balanced/{dataset_name}/\"\n",
    "    dataset = StandardizedBalancedDataset(data_folder, sensors=sensors)\n",
    "    X_train, y_train,X_test, y_test,X_val, y_val = dataset.get_all_data(normalize_data=normalize_data, resize_data=False)\n",
    "    return X_train, y_train,X_test, y_test,X_val, y_val\n",
    "        #print(f\"shape: X_train {X_train.shape} --- X_test {X_test.shape} --- X_test {X_val.shape}\")"
   ]
  },
  {
   "cell_type": "code",
   "execution_count": 2,
   "id": "7b4dc3ef-13ed-491d-b4e3-0e883781717d",
   "metadata": {},
   "outputs": [],
   "source": [
    "device = torch.device(\"cuda:1\" if torch.cuda.is_available() else \"cpu\")\n"
   ]
  },
  {
   "cell_type": "code",
   "execution_count": 3,
   "id": "46d7e470-a5a5-4d69-b8ef-9e0c1db18552",
   "metadata": {},
   "outputs": [
    {
     "data": {
      "text/plain": [
       "device(type='cpu')"
      ]
     },
     "execution_count": 3,
     "metadata": {},
     "output_type": "execute_result"
    }
   ],
   "source": [
    "device"
   ]
  },
  {
   "cell_type": "code",
   "execution_count": 4,
   "id": "63042be7-97c0-44b9-bb1c-f74b90ee8055",
   "metadata": {},
   "outputs": [],
   "source": [
    "import torch\n",
    "for i in range(torch.cuda.device_count()):\n",
    "    print(f\"GPU {i}: {torch.cuda.get_device_name(i)}\")"
   ]
  },
  {
   "cell_type": "code",
   "execution_count": 5,
   "id": "350c47ac-981d-4593-864e-0ceb29cd24c7",
   "metadata": {},
   "outputs": [
    {
     "name": "stdout",
     "output_type": "stream",
     "text": [
      "(360,)\n"
     ]
    }
   ],
   "source": [
    "X_train, y_train,X_test, y_test,X_val, y_val=get_data(\"MotionSense\",['accel','gyro'],False)\n",
    "input_shape=X_train[0].shape\n",
    "print(input_shape)"
   ]
  },
  {
   "cell_type": "code",
   "execution_count": null,
   "id": "bdc0379e-8728-4124-b281-89a3c49cd64c",
   "metadata": {},
   "outputs": [],
   "source": [
    "\n",
    "\n"
   ]
  },
  {
   "cell_type": "code",
   "execution_count": 6,
   "id": "4b6127fc-e009-4860-8163-fd29246a51df",
   "metadata": {},
   "outputs": [],
   "source": [
    "batch_size_head = 256\n",
    "decay_steps_head = 1000\n",
    "temperature_head = 0.77\n",
    "n_components=60\n",
    "epochs_head = 300\n",
    "input_shape=[60,6]\n",
    "transform_funcs=[1, 2, 3]\n",
    "verbose=1\n",
    "import os,torch\n",
    "device = torch.device(\"cuda\" if torch.cuda.is_available() else \"cpu\")\n",
    "\n"
   ]
  },
  {
   "cell_type": "code",
   "execution_count": 7,
   "id": "fab8b1b2-9ae3-4812-873b-26c5124a2a43",
   "metadata": {},
   "outputs": [
    {
     "name": "stdout",
     "output_type": "stream",
     "text": [
      "[[0, 1, 2], [0, 1, 3], [0, 1, 4], [0, 1, 5], [0, 1, 6], [0, 1, 7], [0, 1, 8], [0, 1, 9], [0, 1, 10], [0, 1, 11], [0, 2, 3], [0, 2, 4], [0, 2, 5], [0, 2, 6], [0, 2, 7], [0, 2, 8], [0, 2, 9], [0, 2, 10], [0, 2, 11], [0, 3, 4], [0, 3, 5], [0, 3, 6], [0, 3, 7], [0, 3, 8], [0, 3, 9], [0, 3, 10], [0, 3, 11], [0, 4, 5], [0, 4, 6], [0, 4, 7], [0, 4, 8], [0, 4, 9], [0, 4, 10], [0, 4, 11], [0, 5, 6], [0, 5, 7], [0, 5, 8], [0, 5, 9], [0, 5, 10], [0, 5, 11], [0, 6, 7], [0, 6, 8], [0, 6, 9], [0, 6, 10], [0, 6, 11], [0, 7, 8], [0, 7, 9], [0, 7, 10], [0, 7, 11], [0, 8, 9], [0, 8, 10], [0, 8, 11], [0, 9, 10], [0, 9, 11], [0, 10, 11], [1, 2, 3], [1, 2, 4], [1, 2, 5], [1, 2, 6], [1, 2, 7], [1, 2, 8], [1, 2, 9], [1, 2, 10], [1, 2, 11], [1, 3, 4], [1, 3, 5], [1, 3, 6], [1, 3, 7], [1, 3, 8], [1, 3, 9], [1, 3, 10], [1, 3, 11], [1, 4, 5], [1, 4, 6], [1, 4, 7], [1, 4, 8], [1, 4, 9], [1, 4, 10], [1, 4, 11], [1, 5, 6], [1, 5, 7], [1, 5, 8], [1, 5, 9], [1, 5, 10], [1, 5, 11], [1, 6, 7], [1, 6, 8], [1, 6, 9], [1, 6, 10], [1, 6, 11], [1, 7, 8], [1, 7, 9], [1, 7, 10], [1, 7, 11], [1, 8, 9], [1, 8, 10], [1, 8, 11], [1, 9, 10], [1, 9, 11], [1, 10, 11], [2, 3, 4], [2, 3, 5], [2, 3, 6], [2, 3, 7], [2, 3, 8], [2, 3, 9], [2, 3, 10], [2, 3, 11], [2, 4, 5], [2, 4, 6], [2, 4, 7], [2, 4, 8], [2, 4, 9], [2, 4, 10], [2, 4, 11], [2, 5, 6], [2, 5, 7], [2, 5, 8], [2, 5, 9], [2, 5, 10], [2, 5, 11], [2, 6, 7], [2, 6, 8], [2, 6, 9], [2, 6, 10], [2, 6, 11], [2, 7, 8], [2, 7, 9], [2, 7, 10], [2, 7, 11], [2, 8, 9], [2, 8, 10], [2, 8, 11], [2, 9, 10], [2, 9, 11], [2, 10, 11], [3, 4, 5], [3, 4, 6], [3, 4, 7], [3, 4, 8], [3, 4, 9], [3, 4, 10], [3, 4, 11], [3, 5, 6], [3, 5, 7], [3, 5, 8], [3, 5, 9], [3, 5, 10], [3, 5, 11], [3, 6, 7], [3, 6, 8], [3, 6, 9], [3, 6, 10], [3, 6, 11], [3, 7, 8], [3, 7, 9], [3, 7, 10], [3, 7, 11], [3, 8, 9], [3, 8, 10], [3, 8, 11], [3, 9, 10], [3, 9, 11], [3, 10, 11], [4, 5, 6], [4, 5, 7], [4, 5, 8], [4, 5, 9], [4, 5, 10], [4, 5, 11], [4, 6, 7], [4, 6, 8], [4, 6, 9], [4, 6, 10], [4, 6, 11], [4, 7, 8], [4, 7, 9], [4, 7, 10], [4, 7, 11], [4, 8, 9], [4, 8, 10], [4, 8, 11], [4, 9, 10], [4, 9, 11], [4, 10, 11], [5, 6, 7], [5, 6, 8], [5, 6, 9], [5, 6, 10], [5, 6, 11], [5, 7, 8], [5, 7, 9], [5, 7, 10], [5, 7, 11], [5, 8, 9], [5, 8, 10], [5, 8, 11], [5, 9, 10], [5, 9, 11], [5, 10, 11], [6, 7, 8], [6, 7, 9], [6, 7, 10], [6, 7, 11], [6, 8, 9], [6, 8, 10], [6, 8, 11], [6, 9, 10], [6, 9, 11], [6, 10, 11], [7, 8, 9], [7, 8, 10], [7, 8, 11], [7, 9, 10], [7, 9, 11], [7, 10, 11], [8, 9, 10], [8, 9, 11], [8, 10, 11], [9, 10, 11]]\n"
     ]
    }
   ],
   "source": [
    "import simclr_utils as sm_ut\n",
    "transformations=sm_ut.transform_combinations(3,4)\n",
    "\n",
    "print(transformations)"
   ]
  },
  {
   "cell_type": "code",
   "execution_count": 8,
   "id": "08bdea67-ede8-444d-a3ff-c8520d7efc07",
   "metadata": {},
   "outputs": [],
   "source": [
    "from librep.estimators.simclr.torch.simclr_linear_estimator import Simclr_Linear_Estimator\n",
    "#from librep.estimators.simclr.torch.simclr_full_estimator import Simclr_Linear_Estimator\n"
   ]
  },
  {
   "cell_type": "code",
   "execution_count": 10,
   "id": "0ea26efe-fb55-4c8c-9fa8-b803bf9e0b31",
   "metadata": {},
   "outputs": [
    {
     "name": "stdout",
     "output_type": "stream",
     "text": [
      "cpu\n"
     ]
    }
   ],
   "source": [
    "linear_model=Simclr_Linear_Estimator(dataset='motionsense',input_shape=input_shape,\n",
    "                        n_components=n_components,\n",
    "                        batch_size_head=batch_size_head,\n",
    "                        transform_funcs=transform_funcs,\n",
    "                        temperature_head=temperature_head, \n",
    "                        epochs_head=epochs_head,\n",
    "                        save_model=False,\n",
    "                        verbose=1,\n",
    "                        total_epochs=50,\n",
    "                        batch_size=32,\n",
    "                        lr=0.001)"
   ]
  },
  {
   "cell_type": "code",
   "execution_count": null,
   "id": "2d7be6e9-50b2-45ad-9b3e-5c6b4d8f56a8",
   "metadata": {},
   "outputs": [],
   "source": []
  },
  {
   "cell_type": "code",
   "execution_count": null,
   "id": "48b0c766-30aa-44aa-a721-a45bfab74a7b",
   "metadata": {},
   "outputs": [],
   "source": []
  },
  {
   "cell_type": "code",
   "execution_count": null,
   "id": "8421e6b7-5f6f-41e7-b75b-7774a3db17e7",
   "metadata": {},
   "outputs": [],
   "source": []
  },
  {
   "cell_type": "code",
   "execution_count": 11,
   "id": "28a7c9d9-0e45-4336-bb66-6eaa718a24cd",
   "metadata": {},
   "outputs": [
    {
     "name": "stdout",
     "output_type": "stream",
     "text": [
      "epoch: 1 loss: 5.542\n",
      "epoch: 2 loss: 5.450\n",
      "epoch: 3 loss: 5.460\n",
      "epoch: 4 loss: 5.403\n",
      "epoch: 5 loss: 5.390\n",
      "epoch: 6 loss: 5.348\n",
      "epoch: 7 loss: 5.323\n",
      "epoch: 8 loss: 5.296\n",
      "epoch: 9 loss: 5.296\n",
      "epoch: 10 loss: 5.294\n",
      "epoch: 11 loss: 5.287\n",
      "Early stopping after 11 epochs with no improvement.\n",
      "Epoch [1/50] - Loss: 1.1246783452087574\n",
      "Val Accuracy: 0.7289\n",
      "Epoch [2/50] - Loss: 0.4972152565972189\n",
      "Val Accuracy: 0.7935\n",
      "Epoch [3/50] - Loss: 0.4018501200702753\n",
      "Val Accuracy: 0.8146\n",
      "Epoch [4/50] - Loss: 0.33655698714631327\n",
      "Val Accuracy: 0.8666\n",
      "Epoch [5/50] - Loss: 0.30568057231688767\n",
      "Val Accuracy: 0.8371\n",
      "Epoch [6/50] - Loss: 0.27869971381144576\n",
      "Val Accuracy: 0.8764\n",
      "Epoch [7/50] - Loss: 0.23723083332683262\n",
      "Val Accuracy: 0.8680\n",
      "Epoch [8/50] - Loss: 0.22115141107292657\n",
      "Val Accuracy: 0.8048\n",
      "Epoch [9/50] - Loss: 0.22800033757191027\n",
      "Val Accuracy: 0.8876\n",
      "Epoch [10/50] - Loss: 0.19845153420661274\n",
      "Val Accuracy: 0.8638\n",
      "Epoch [11/50] - Loss: 0.19795052916481254\n",
      "Val Accuracy: 0.8947\n",
      "Epoch [12/50] - Loss: 0.1973865991144368\n",
      "Val Accuracy: 0.8708\n",
      "Epoch [13/50] - Loss: 0.18412881047370727\n",
      "Val Accuracy: 0.8792\n",
      "Epoch [14/50] - Loss: 0.16837635154971917\n",
      "Val Accuracy: 0.8624\n",
      "Epoch [15/50] - Loss: 0.1697498918667938\n",
      "Val Accuracy: 0.9073\n",
      "Epoch [16/50] - Loss: 0.1387343073075407\n",
      "Val Accuracy: 0.8989\n",
      "Epoch [17/50] - Loss: 0.14527795681457842\n",
      "Val Accuracy: 0.8919\n",
      "Epoch [18/50] - Loss: 0.14573108836003903\n",
      "Val Accuracy: 0.9017\n",
      "Epoch [19/50] - Loss: 0.13553590911409158\n",
      "Val Accuracy: 0.9059\n",
      "Epoch [20/50] - Loss: 0.12527625413423174\n",
      "Val Accuracy: 0.8961\n",
      "Epoch [21/50] - Loss: 0.12151724234055937\n",
      "Val Accuracy: 0.8778\n",
      "Epoch [22/50] - Loss: 0.1443173317500296\n",
      "Val Accuracy: 0.8919\n",
      "Epoch [23/50] - Loss: 0.10814111627470911\n",
      "Val Accuracy: 0.8862\n",
      "Epoch [24/50] - Loss: 0.09628952850242344\n",
      "Val Accuracy: 0.8961\n",
      "Epoch [25/50] - Loss: 0.12897216926297445\n",
      "Val Accuracy: 0.9157\n",
      "Epoch [26/50] - Loss: 0.09707925356715248\n",
      "Val Accuracy: 0.9157\n",
      "Epoch [27/50] - Loss: 0.11367683961275923\n",
      "Val Accuracy: 0.9143\n",
      "Epoch [28/50] - Loss: 0.08955878781133823\n",
      "Val Accuracy: 0.9143\n",
      "Epoch [29/50] - Loss: 0.0763659675636988\n",
      "Val Accuracy: 0.9228\n",
      "Epoch [30/50] - Loss: 0.06504698413727658\n",
      "Val Accuracy: 0.9228\n",
      "Epoch [31/50] - Loss: 0.058898758069936476\n",
      "Val Accuracy: 0.9157\n",
      "Epoch [32/50] - Loss: 0.04659482661969541\n",
      "Val Accuracy: 0.9242\n",
      "Epoch [33/50] - Loss: 0.04683030480414294\n",
      "Val Accuracy: 0.9157\n",
      "Epoch [34/50] - Loss: 0.045295550085060046\n",
      "Val Accuracy: 0.9157\n",
      "Epoch [35/50] - Loss: 0.06021380849088427\n",
      "Val Accuracy: 0.9059\n",
      "Epoch [36/50] - Loss: 0.05741439796356338\n",
      "Val Accuracy: 0.9185\n",
      "Epoch [37/50] - Loss: 0.050460640037578816\n",
      "Val Accuracy: 0.8933\n",
      "Epoch [38/50] - Loss: 0.05014875370569611\n",
      "Val Accuracy: 0.9354\n",
      "Epoch [39/50] - Loss: 0.05129776102833429\n",
      "Val Accuracy: 0.9115\n",
      "Epoch [40/50] - Loss: 0.06601002163991458\n",
      "Val Accuracy: 0.9256\n",
      "Epoch [41/50] - Loss: 0.03364501587178014\n",
      "Val Accuracy: 0.9298\n",
      "Epoch [42/50] - Loss: 0.05289698224462401\n",
      "Val Accuracy: 0.9298\n",
      "Epoch [43/50] - Loss: 0.03633791121151926\n",
      "Val Accuracy: 0.9256\n",
      "Epoch [44/50] - Loss: 0.027898057680472398\n",
      "Val Accuracy: 0.9228\n",
      "Epoch [45/50] - Loss: 0.05264101679478719\n",
      "Val Accuracy: 0.9199\n",
      "Epoch [46/50] - Loss: 0.049001433917980515\n",
      "Val Accuracy: 0.9101\n",
      "Epoch [47/50] - Loss: 0.05721373788049717\n",
      "Val Accuracy: 0.9368\n",
      "Epoch [48/50] - Loss: 0.062279353246584616\n",
      "Val Accuracy: 0.9284\n",
      "Epoch [49/50] - Loss: 0.03677921208129212\n",
      "Val Accuracy: 0.9298\n",
      "Epoch [50/50] - Loss: 0.032805927042859825\n",
      "Val Accuracy: 0.9410\n",
      "Training finished.\n"
     ]
    },
    {
     "data": {
      "text/plain": [
       "<librep.estimators.simclr.torch.simclr_linear_estimator.Simclr_Linear_Estimator at 0x7f8efa187cd0>"
      ]
     },
     "execution_count": 11,
     "metadata": {},
     "output_type": "execute_result"
    }
   ],
   "source": [
    "linear_model.fit(X_train,y_train,None,None)\n",
    "\n"
   ]
  },
  {
   "cell_type": "code",
   "execution_count": 15,
   "id": "3bd66f8f-e7fc-4abe-acff-c09f919a7b00",
   "metadata": {},
   "outputs": [
    {
     "data": {
      "text/plain": [
       "BaseModel(\n",
       "  (conv1): Conv1d(6, 32, kernel_size=(24,), stride=(1,))\n",
       "  (dropout1): Dropout(p=0.1, inplace=False)\n",
       "  (conv2): Conv1d(32, 64, kernel_size=(16,), stride=(1,))\n",
       "  (dropout2): Dropout(p=0.1, inplace=False)\n",
       "  (conv3): Conv1d(64, 60, kernel_size=(8,), stride=(1,))\n",
       "  (dropout3): Dropout(p=0.1, inplace=False)\n",
       "  (global_max_pooling): AdaptiveMaxPool1d(output_size=1)\n",
       "  (relu): ReLU()\n",
       ")"
      ]
     },
     "execution_count": 15,
     "metadata": {},
     "output_type": "execute_result"
    }
   ],
   "source": [
    "linear_model.model.base_model"
   ]
  },
  {
   "cell_type": "code",
   "execution_count": 27,
   "id": "85581e8c-b47b-4ce7-a948-80ecb804ef9c",
   "metadata": {},
   "outputs": [],
   "source": [
    "import librep.estimators.simclr.torch.simclr_utils as s_utils\n",
    "import copy,os\n",
    "\n",
    "def transform( X):\n",
    "            X = s_utils.resize_data(X, input_shape)\n",
    "            intermediate_model = copy.deepcopy(linear_model.model.base_model)\n",
    "            test_data = torch.tensor(X, dtype=torch.float32).to(device)\n",
    "            embeddings = intermediate_model(test_data).cpu().detach().numpy()\n",
    "            return embeddings"
   ]
  },
  {
   "cell_type": "code",
   "execution_count": 29,
   "id": "08a32f0b-90b4-4537-a8e6-7651aa1ad24f",
   "metadata": {},
   "outputs": [
    {
     "name": "stdout",
     "output_type": "stream",
     "text": [
      "(420, 60)\n"
     ]
    }
   ],
   "source": [
    "a=transform(X_val)\n",
    "print(a.shape)"
   ]
  },
  {
   "cell_type": "code",
   "execution_count": 33,
   "id": "769ec51d-e1a4-4c47-b0c3-e7c9eceef9cd",
   "metadata": {},
   "outputs": [
    {
     "name": "stdout",
     "output_type": "stream",
     "text": [
      "(3558, 60)\n",
      "(3558, 360)\n",
      "0.9387947269303202               precision    recall  f1-score   support\n",
      "\n",
      "           0       0.89      0.96      0.93       177\n",
      "           1       0.96      0.88      0.92       177\n",
      "           2       0.95      0.98      0.96       177\n",
      "           3       0.95      0.94      0.95       177\n",
      "           4       0.89      0.94      0.91       177\n",
      "           5       1.00      0.93      0.96       177\n",
      "\n",
      "    accuracy                           0.94      1062\n",
      "   macro avg       0.94      0.94      0.94      1062\n",
      "weighted avg       0.94      0.94      0.94      1062\n",
      "\n"
     ]
    }
   ],
   "source": [
    "data=transform(X_train)\n",
    "data_t=transform(X_test)\n",
    "print(data.shape)\n",
    "print(X_train.shape)\n",
    "from sklearn.ensemble import RandomForestClassifier\n",
    "\n",
    "clf = RandomForestClassifier(n_estimators=200, random_state=42)  \n",
    "# Entrenar el clasificador\n",
    "clf.fit(data, y_train)\n",
    "etiquetas_pred = clf.predict(data_t)\n",
    "from sklearn.metrics import accuracy_score, classification_report\n",
    "accuracy = accuracy_score(y_test, etiquetas_pred)\n",
    "report = classification_report(y_test, etiquetas_pred)\n",
    "print(accuracy,report)"
   ]
  },
  {
   "cell_type": "code",
   "execution_count": null,
   "id": "b4338cc4-a351-4d9e-93a6-b6593ce2b07c",
   "metadata": {},
   "outputs": [],
   "source": []
  }
 ],
 "metadata": {
  "kernelspec": {
   "display_name": "Python 3 (ipykernel)",
   "language": "python",
   "name": "python3"
  },
  "language_info": {
   "codemirror_mode": {
    "name": "ipython",
    "version": 3
   },
   "file_extension": ".py",
   "mimetype": "text/x-python",
   "name": "python",
   "nbconvert_exporter": "python",
   "pygments_lexer": "ipython3",
   "version": "3.10.13"
  }
 },
 "nbformat": 4,
 "nbformat_minor": 5
}
