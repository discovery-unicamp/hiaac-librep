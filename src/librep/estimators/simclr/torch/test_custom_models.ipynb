{
 "cells": [
  {
   "cell_type": "code",
   "execution_count": 1,
   "id": "1062bcd3-71df-4f75-82ca-56c9c62ed376",
   "metadata": {},
   "outputs": [
    {
     "name": "stderr",
     "output_type": "stream",
     "text": [
      "/home/amparo/unicamp_hyper_2/M4-Framework-Experiments/experiments/.local/lib/python3.10/site-packages/tqdm/auto.py:21: TqdmWarning: IProgress not found. Please update jupyter and ipywidgets. See https://ipywidgets.readthedocs.io/en/stable/user_install.html\n",
      "  from .autonotebook import tqdm as notebook_tqdm\n"
     ]
    },
    {
     "ename": "ModuleNotFoundError",
     "evalue": "No module named 'librep.datasets.arrow_dataset'",
     "output_type": "error",
     "traceback": [
      "\u001b[0;31m---------------------------------------------------------------------------\u001b[0m",
      "\u001b[0;31mModuleNotFoundError\u001b[0m                       Traceback (most recent call last)",
      "Cell \u001b[0;32mIn[1], line 5\u001b[0m\n\u001b[1;32m      3\u001b[0m get_ipython()\u001b[38;5;241m.\u001b[39mrun_line_magic(\u001b[38;5;124m'\u001b[39m\u001b[38;5;124mload_ext\u001b[39m\u001b[38;5;124m'\u001b[39m, \u001b[38;5;124m'\u001b[39m\u001b[38;5;124mautoreload\u001b[39m\u001b[38;5;124m'\u001b[39m)\n\u001b[1;32m      4\u001b[0m get_ipython()\u001b[38;5;241m.\u001b[39mrun_line_magic(\u001b[38;5;124m'\u001b[39m\u001b[38;5;124mautoreload\u001b[39m\u001b[38;5;124m'\u001b[39m, \u001b[38;5;124m'\u001b[39m\u001b[38;5;124m2\u001b[39m\u001b[38;5;124m'\u001b[39m)\n\u001b[0;32m----> 5\u001b[0m \u001b[38;5;28;01mfrom\u001b[39;00m \u001b[38;5;21;01mlibrep\u001b[39;00m\u001b[38;5;21;01m.\u001b[39;00m\u001b[38;5;21;01mestimators\u001b[39;00m\u001b[38;5;21;01m.\u001b[39;00m\u001b[38;5;21;01msimclr\u001b[39;00m\u001b[38;5;21;01m.\u001b[39;00m\u001b[38;5;21;01mtorch\u001b[39;00m\u001b[38;5;21;01m.\u001b[39;00m\u001b[38;5;21;01mstandartized_balanced\u001b[39;00m \u001b[38;5;28;01mimport\u001b[39;00m StandardizedBalancedDataset\n\u001b[1;32m      6\u001b[0m \u001b[38;5;28;01mimport\u001b[39;00m \u001b[38;5;21;01mos\u001b[39;00m\u001b[38;5;241m,\u001b[39m\u001b[38;5;21;01mtorch\u001b[39;00m\n\u001b[1;32m      7\u001b[0m device \u001b[38;5;241m=\u001b[39m torch\u001b[38;5;241m.\u001b[39mdevice(\u001b[38;5;124m\"\u001b[39m\u001b[38;5;124mcuda:1\u001b[39m\u001b[38;5;124m\"\u001b[39m \u001b[38;5;28;01mif\u001b[39;00m torch\u001b[38;5;241m.\u001b[39mcuda\u001b[38;5;241m.\u001b[39mis_available() \u001b[38;5;28;01melse\u001b[39;00m \u001b[38;5;124m\"\u001b[39m\u001b[38;5;124mcpu\u001b[39m\u001b[38;5;124m\"\u001b[39m)\n",
      "File \u001b[0;32m~/.local/lib/python3.10/site-packages/librep/__init__.py:18\u001b[0m\n\u001b[1;32m     12\u001b[0m     package \u001b[38;5;241m=\u001b[39m sys\u001b[38;5;241m.\u001b[39mmodules[package_name]\n\u001b[1;32m     13\u001b[0m     \u001b[38;5;28;01mreturn\u001b[39;00m {\n\u001b[1;32m     14\u001b[0m         name: importlib\u001b[38;5;241m.\u001b[39mimport_module(package_name \u001b[38;5;241m+\u001b[39m \u001b[38;5;124m'\u001b[39m\u001b[38;5;124m.\u001b[39m\u001b[38;5;124m'\u001b[39m \u001b[38;5;241m+\u001b[39m name)\n\u001b[1;32m     15\u001b[0m         \u001b[38;5;28;01mfor\u001b[39;00m loader, name, is_pkg \u001b[38;5;129;01min\u001b[39;00m pkgutil\u001b[38;5;241m.\u001b[39mwalk_packages(package\u001b[38;5;241m.\u001b[39m__path__)\n\u001b[1;32m     16\u001b[0m     }\n\u001b[0;32m---> 18\u001b[0m __all__ \u001b[38;5;241m=\u001b[39m \u001b[43mimport_submodules\u001b[49m\u001b[43m(\u001b[49m\u001b[38;5;18;43m__name__\u001b[39;49m\u001b[43m)\u001b[49m\u001b[38;5;241m.\u001b[39mkeys()\n",
      "File \u001b[0;32m~/.local/lib/python3.10/site-packages/librep/__init__.py:13\u001b[0m, in \u001b[0;36mimport_submodules\u001b[0;34m(package_name)\u001b[0m\n\u001b[1;32m      6\u001b[0m \u001b[38;5;250m\u001b[39m\u001b[38;5;124;03m\"\"\" Import all submodules of a module, recursively\u001b[39;00m\n\u001b[1;32m      7\u001b[0m \n\u001b[1;32m      8\u001b[0m \u001b[38;5;124;03m:param package_name: Package name\u001b[39;00m\n\u001b[1;32m      9\u001b[0m \u001b[38;5;124;03m:type package_name: str\u001b[39;00m\n\u001b[1;32m     10\u001b[0m \u001b[38;5;124;03m:rtype: dict[types.ModuleType]\u001b[39;00m\n\u001b[1;32m     11\u001b[0m \u001b[38;5;124;03m\"\"\"\u001b[39;00m\n\u001b[1;32m     12\u001b[0m package \u001b[38;5;241m=\u001b[39m sys\u001b[38;5;241m.\u001b[39mmodules[package_name]\n\u001b[0;32m---> 13\u001b[0m \u001b[38;5;28;01mreturn\u001b[39;00m {\n\u001b[1;32m     14\u001b[0m     name: importlib\u001b[38;5;241m.\u001b[39mimport_module(package_name \u001b[38;5;241m+\u001b[39m \u001b[38;5;124m'\u001b[39m\u001b[38;5;124m.\u001b[39m\u001b[38;5;124m'\u001b[39m \u001b[38;5;241m+\u001b[39m name)\n\u001b[1;32m     15\u001b[0m     \u001b[38;5;28;01mfor\u001b[39;00m loader, name, is_pkg \u001b[38;5;129;01min\u001b[39;00m pkgutil\u001b[38;5;241m.\u001b[39mwalk_packages(package\u001b[38;5;241m.\u001b[39m__path__)\n\u001b[1;32m     16\u001b[0m }\n",
      "File \u001b[0;32m~/.local/lib/python3.10/site-packages/librep/__init__.py:14\u001b[0m, in \u001b[0;36m<dictcomp>\u001b[0;34m(.0)\u001b[0m\n\u001b[1;32m      6\u001b[0m \u001b[38;5;250m\u001b[39m\u001b[38;5;124;03m\"\"\" Import all submodules of a module, recursively\u001b[39;00m\n\u001b[1;32m      7\u001b[0m \n\u001b[1;32m      8\u001b[0m \u001b[38;5;124;03m:param package_name: Package name\u001b[39;00m\n\u001b[1;32m      9\u001b[0m \u001b[38;5;124;03m:type package_name: str\u001b[39;00m\n\u001b[1;32m     10\u001b[0m \u001b[38;5;124;03m:rtype: dict[types.ModuleType]\u001b[39;00m\n\u001b[1;32m     11\u001b[0m \u001b[38;5;124;03m\"\"\"\u001b[39;00m\n\u001b[1;32m     12\u001b[0m package \u001b[38;5;241m=\u001b[39m sys\u001b[38;5;241m.\u001b[39mmodules[package_name]\n\u001b[1;32m     13\u001b[0m \u001b[38;5;28;01mreturn\u001b[39;00m {\n\u001b[0;32m---> 14\u001b[0m     name: \u001b[43mimportlib\u001b[49m\u001b[38;5;241;43m.\u001b[39;49m\u001b[43mimport_module\u001b[49m\u001b[43m(\u001b[49m\u001b[43mpackage_name\u001b[49m\u001b[43m \u001b[49m\u001b[38;5;241;43m+\u001b[39;49m\u001b[43m \u001b[49m\u001b[38;5;124;43m'\u001b[39;49m\u001b[38;5;124;43m.\u001b[39;49m\u001b[38;5;124;43m'\u001b[39;49m\u001b[43m \u001b[49m\u001b[38;5;241;43m+\u001b[39;49m\u001b[43m \u001b[49m\u001b[43mname\u001b[49m\u001b[43m)\u001b[49m\n\u001b[1;32m     15\u001b[0m     \u001b[38;5;28;01mfor\u001b[39;00m loader, name, is_pkg \u001b[38;5;129;01min\u001b[39;00m pkgutil\u001b[38;5;241m.\u001b[39mwalk_packages(package\u001b[38;5;241m.\u001b[39m__path__)\n\u001b[1;32m     16\u001b[0m }\n",
      "File \u001b[0;32m/usr/local/lib/python3.10/importlib/__init__.py:126\u001b[0m, in \u001b[0;36mimport_module\u001b[0;34m(name, package)\u001b[0m\n\u001b[1;32m    124\u001b[0m             \u001b[38;5;28;01mbreak\u001b[39;00m\n\u001b[1;32m    125\u001b[0m         level \u001b[38;5;241m+\u001b[39m\u001b[38;5;241m=\u001b[39m \u001b[38;5;241m1\u001b[39m\n\u001b[0;32m--> 126\u001b[0m \u001b[38;5;28;01mreturn\u001b[39;00m \u001b[43m_bootstrap\u001b[49m\u001b[38;5;241;43m.\u001b[39;49m\u001b[43m_gcd_import\u001b[49m\u001b[43m(\u001b[49m\u001b[43mname\u001b[49m\u001b[43m[\u001b[49m\u001b[43mlevel\u001b[49m\u001b[43m:\u001b[49m\u001b[43m]\u001b[49m\u001b[43m,\u001b[49m\u001b[43m \u001b[49m\u001b[43mpackage\u001b[49m\u001b[43m,\u001b[49m\u001b[43m \u001b[49m\u001b[43mlevel\u001b[49m\u001b[43m)\u001b[49m\n",
      "\u001b[0;31mModuleNotFoundError\u001b[0m: No module named 'librep.datasets.arrow_dataset'"
     ]
    }
   ],
   "source": [
    "import os\n",
    "os.environ[\"CUDA_VISIBLE_DEVICES\"] = \"1\"  \n",
    "%load_ext autoreload\n",
    "%autoreload 2\n",
    "from librep.estimators.simclr.torch.standartized_balanced import StandardizedBalancedDataset\n",
    "import os,torch\n",
    "device = torch.device(\"cuda:1\" if torch.cuda.is_available() else \"cpu\")\n",
    "def get_data(dataset_name,sensors,normalize_data):    \n",
    "    working_directory=f\"result/{dataset_name}/\"\n",
    "    data_folder = f\"../../../../../../experiment_executor/data/standartized_balanced/{dataset_name}/\"\n",
    "    dataset = StandardizedBalancedDataset(data_folder, sensors=sensors)\n",
    "    X_train, y_train,X_test, y_test,X_val, y_val = dataset.get_all_data(normalize_data=normalize_data, resize_data=False)\n",
    "    return X_train, y_train,X_test, y_test,X_val, y_val\n",
    "        #print(f\"shape: X_train {X_train.shape} --- X_test {X_test.shape} --- X_test {X_val.shape}\")"
   ]
  },
  {
   "cell_type": "code",
   "execution_count": null,
   "id": "7b4dc3ef-13ed-491d-b4e3-0e883781717d",
   "metadata": {},
   "outputs": [],
   "source": [
    "device = torch.device(\"cuda:1\" if torch.cuda.is_available() else \"cpu\")\n"
   ]
  },
  {
   "cell_type": "code",
   "execution_count": null,
   "id": "46d7e470-a5a5-4d69-b8ef-9e0c1db18552",
   "metadata": {},
   "outputs": [],
   "source": [
    "device"
   ]
  },
  {
   "cell_type": "code",
   "execution_count": null,
   "id": "63042be7-97c0-44b9-bb1c-f74b90ee8055",
   "metadata": {},
   "outputs": [],
   "source": [
    "import torch\n",
    "for i in range(torch.cuda.device_count()):\n",
    "    print(f\"GPU {i}: {torch.cuda.get_device_name(i)}\")"
   ]
  },
  {
   "cell_type": "code",
   "execution_count": null,
   "id": "350c47ac-981d-4593-864e-0ceb29cd24c7",
   "metadata": {},
   "outputs": [],
   "source": [
    "X_train, y_train,X_test, y_test,X_val, y_val=get_data(\"MotionSense\",['accel','gyro'],False)\n",
    "input_shape=X_train[0].shape\n",
    "print(input_shape)"
   ]
  },
  {
   "cell_type": "code",
   "execution_count": null,
   "id": "bdc0379e-8728-4124-b281-89a3c49cd64c",
   "metadata": {},
   "outputs": [],
   "source": [
    "\n",
    "\n"
   ]
  },
  {
   "cell_type": "code",
   "execution_count": null,
   "id": "4b6127fc-e009-4860-8163-fd29246a51df",
   "metadata": {},
   "outputs": [],
   "source": [
    "batch_size_head = 256\n",
    "decay_steps_head = 1000\n",
    "temperature_head = 0.77\n",
    "n_components=60\n",
    "epochs_head = 300\n",
    "input_shape=[60,6]\n",
    "transform_funcs=[1, 2, 3]\n",
    "verbose=1\n",
    "import os,torch\n",
    "device = torch.device(\"cuda\" if torch.cuda.is_available() else \"cpu\")\n",
    "\n"
   ]
  },
  {
   "cell_type": "code",
   "execution_count": null,
   "id": "fab8b1b2-9ae3-4812-873b-26c5124a2a43",
   "metadata": {},
   "outputs": [],
   "source": [
    "import simclr_utils as sm_ut\n",
    "transformations=sm_ut.transform_combinations(3,4)\n",
    "\n",
    "print(transformations)"
   ]
  },
  {
   "cell_type": "code",
   "execution_count": null,
   "id": "08bdea67-ede8-444d-a3ff-c8520d7efc07",
   "metadata": {},
   "outputs": [],
   "source": [
    "from librep.estimators.simclr.torch.simclr_linear_estimator import Simclr_Linear_Estimator\n",
    "#from librep.estimators.simclr.torch.simclr_full_estimator import Simclr_Linear_Estimator\n"
   ]
  },
  {
   "cell_type": "code",
   "execution_count": null,
   "id": "0ea26efe-fb55-4c8c-9fa8-b803bf9e0b31",
   "metadata": {},
   "outputs": [],
   "source": [
    "linear_model=Simclr_Linear_Estimator(input_shape=input_shape,\n",
    "                        n_components=n_components,\n",
    "                        batch_size_head=batch_size_head,\n",
    "                        transform_funcs=transform_funcs,\n",
    "                        temperature_head=temperature_head, \n",
    "                        epochs_head=epochs_head,\n",
    "                        save_model=False,\n",
    "                        verbose=1,\n",
    "                        total_epochs=50,\n",
    "                        batch_size=32,\n",
    "                        lr=0.001)"
   ]
  },
  {
   "cell_type": "code",
   "execution_count": null,
   "id": "2d7be6e9-50b2-45ad-9b3e-5c6b4d8f56a8",
   "metadata": {},
   "outputs": [],
   "source": []
  },
  {
   "cell_type": "code",
   "execution_count": null,
   "id": "48b0c766-30aa-44aa-a721-a45bfab74a7b",
   "metadata": {},
   "outputs": [],
   "source": []
  },
  {
   "cell_type": "code",
   "execution_count": null,
   "id": "8421e6b7-5f6f-41e7-b75b-7774a3db17e7",
   "metadata": {},
   "outputs": [],
   "source": []
  },
  {
   "cell_type": "code",
   "execution_count": null,
   "id": "28a7c9d9-0e45-4336-bb66-6eaa718a24cd",
   "metadata": {},
   "outputs": [],
   "source": [
    "linear_model.fit(X_train,y_train,None,None)\n",
    "\n"
   ]
  },
  {
   "cell_type": "code",
   "execution_count": null,
   "id": "3bd66f8f-e7fc-4abe-acff-c09f919a7b00",
   "metadata": {},
   "outputs": [],
   "source": []
  },
  {
   "cell_type": "code",
   "execution_count": null,
   "id": "85581e8c-b47b-4ce7-a948-80ecb804ef9c",
   "metadata": {},
   "outputs": [],
   "source": []
  },
  {
   "cell_type": "code",
   "execution_count": null,
   "id": "08a32f0b-90b4-4537-a8e6-7651aa1ad24f",
   "metadata": {},
   "outputs": [],
   "source": []
  },
  {
   "cell_type": "code",
   "execution_count": null,
   "id": "769ec51d-e1a4-4c47-b0c3-e7c9eceef9cd",
   "metadata": {},
   "outputs": [],
   "source": []
  }
 ],
 "metadata": {
  "kernelspec": {
   "display_name": "Python 3 (ipykernel)",
   "language": "python",
   "name": "python3"
  },
  "language_info": {
   "codemirror_mode": {
    "name": "ipython",
    "version": 3
   },
   "file_extension": ".py",
   "mimetype": "text/x-python",
   "name": "python",
   "nbconvert_exporter": "python",
   "pygments_lexer": "ipython3",
   "version": "3.10.13"
  }
 },
 "nbformat": 4,
 "nbformat_minor": 5
}
