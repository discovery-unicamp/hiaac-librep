{
 "cells": [
  {
   "cell_type": "code",
   "execution_count": 1,
   "id": "1062bcd3-71df-4f75-82ca-56c9c62ed376",
   "metadata": {},
   "outputs": [],
   "source": [
    "import os\n",
    "os.environ[\"CUDA_VISIBLE_DEVICES\"] = \"0\"  \n",
    "%load_ext autoreload\n",
    "%autoreload 2\n",
    "from librep.estimators.simclr.torch.standartized_balanced import StandardizedBalancedDataset\n",
    "import os,torch\n",
    "device = torch.device(\"cuda\" if torch.cuda.is_available() else \"cpu\")\n",
    "def get_data(dataset_name,sensors,normalize_data):    \n",
    "    working_directory=f\"result/{dataset_name}/\"\n",
    "    data_folder = f\"../../../../../../experiment_executor/data/standartized_balanced/{dataset_name}/\"\n",
    "    dataset = StandardizedBalancedDataset(data_folder, sensors=sensors)\n",
    "    X_train, y_train,X_test, y_test,X_val, y_val = dataset.get_all_data(normalize_data=normalize_data, resize_data=False)\n",
    "    return X_train, y_train,X_test, y_test,X_val, y_val\n",
    "        #print(f\"shape: X_train {X_train.shape} --- X_test {X_test.shape} --- X_test {X_val.shape}\")"
   ]
  },
  {
   "cell_type": "code",
   "execution_count": 2,
   "id": "350c47ac-981d-4593-864e-0ceb29cd24c7",
   "metadata": {},
   "outputs": [
    {
     "name": "stdout",
     "output_type": "stream",
     "text": [
      "(360,)\n"
     ]
    }
   ],
   "source": [
    "X_train, y_train,X_test, y_test,X_val, y_val=get_data(\"MotionSense\",['accel','gyro'],False)\n",
    "input_shape=X_train[0].shape\n",
    "print(input_shape)"
   ]
  },
  {
   "cell_type": "code",
   "execution_count": null,
   "id": "bdc0379e-8728-4124-b281-89a3c49cd64c",
   "metadata": {},
   "outputs": [],
   "source": [
    "\n",
    "\n"
   ]
  },
  {
   "cell_type": "code",
   "execution_count": 3,
   "id": "4b6127fc-e009-4860-8163-fd29246a51df",
   "metadata": {},
   "outputs": [],
   "source": [
    "batch_size_head = 256\n",
    "decay_steps_head = 1000\n",
    "temperature_head = 0.77\n",
    "n_components=60\n",
    "epochs_head = 300\n",
    "input_shape=[60,6]\n",
    "transform_funcs=['noise_vectorized', 'channel_shuffle_vectorized', 'amplify_attenuate']\n",
    "verbose=1\n",
    "import os,torch\n",
    "device = torch.device(\"cuda\" if torch.cuda.is_available() else \"cpu\")\n",
    "\n"
   ]
  },
  {
   "cell_type": "code",
   "execution_count": 4,
   "id": "fab8b1b2-9ae3-4812-873b-26c5124a2a43",
   "metadata": {},
   "outputs": [
    {
     "name": "stdout",
     "output_type": "stream",
     "text": [
      "[['noise_vectorized', 'scaling_vectorized', 'rotation_vectorized'], ['noise_vectorized', 'scaling_vectorized', 'negate_vectorized'], ['noise_vectorized', 'scaling_vectorized', 'time_flip_vectorized'], ['noise_vectorized', 'scaling_vectorized', 'channel_shuffle_vectorized'], ['noise_vectorized', 'scaling_vectorized', 'time_segment_permutation'], ['noise_vectorized', 'scaling_vectorized', 'time_shift'], ['noise_vectorized', 'scaling_vectorized', 'amplify_attenuate'], ['noise_vectorized', 'scaling_vectorized', 'add_random_noise'], ['noise_vectorized', 'scaling_vectorized', 'random_phase_shift'], ['noise_vectorized', 'scaling_vectorized', 'spectral_distortion'], ['noise_vectorized', 'scaling_vectorized', 'phase_modulation'], ['noise_vectorized', 'rotation_vectorized', 'negate_vectorized'], ['noise_vectorized', 'rotation_vectorized', 'time_flip_vectorized'], ['noise_vectorized', 'rotation_vectorized', 'channel_shuffle_vectorized'], ['noise_vectorized', 'rotation_vectorized', 'time_segment_permutation'], ['noise_vectorized', 'rotation_vectorized', 'time_shift'], ['noise_vectorized', 'rotation_vectorized', 'amplify_attenuate'], ['noise_vectorized', 'rotation_vectorized', 'add_random_noise'], ['noise_vectorized', 'rotation_vectorized', 'random_phase_shift'], ['noise_vectorized', 'rotation_vectorized', 'spectral_distortion'], ['noise_vectorized', 'rotation_vectorized', 'phase_modulation'], ['noise_vectorized', 'negate_vectorized', 'time_flip_vectorized'], ['noise_vectorized', 'negate_vectorized', 'channel_shuffle_vectorized'], ['noise_vectorized', 'negate_vectorized', 'time_segment_permutation'], ['noise_vectorized', 'negate_vectorized', 'time_shift'], ['noise_vectorized', 'negate_vectorized', 'amplify_attenuate'], ['noise_vectorized', 'negate_vectorized', 'add_random_noise'], ['noise_vectorized', 'negate_vectorized', 'random_phase_shift'], ['noise_vectorized', 'negate_vectorized', 'spectral_distortion'], ['noise_vectorized', 'negate_vectorized', 'phase_modulation'], ['noise_vectorized', 'time_flip_vectorized', 'channel_shuffle_vectorized'], ['noise_vectorized', 'time_flip_vectorized', 'time_segment_permutation'], ['noise_vectorized', 'time_flip_vectorized', 'time_shift'], ['noise_vectorized', 'time_flip_vectorized', 'amplify_attenuate'], ['noise_vectorized', 'time_flip_vectorized', 'add_random_noise'], ['noise_vectorized', 'time_flip_vectorized', 'random_phase_shift'], ['noise_vectorized', 'time_flip_vectorized', 'spectral_distortion'], ['noise_vectorized', 'time_flip_vectorized', 'phase_modulation'], ['noise_vectorized', 'channel_shuffle_vectorized', 'time_segment_permutation'], ['noise_vectorized', 'channel_shuffle_vectorized', 'time_shift'], ['noise_vectorized', 'channel_shuffle_vectorized', 'amplify_attenuate'], ['noise_vectorized', 'channel_shuffle_vectorized', 'add_random_noise'], ['noise_vectorized', 'channel_shuffle_vectorized', 'random_phase_shift'], ['noise_vectorized', 'channel_shuffle_vectorized', 'spectral_distortion'], ['noise_vectorized', 'channel_shuffle_vectorized', 'phase_modulation'], ['noise_vectorized', 'time_segment_permutation', 'time_shift'], ['noise_vectorized', 'time_segment_permutation', 'amplify_attenuate'], ['noise_vectorized', 'time_segment_permutation', 'add_random_noise'], ['noise_vectorized', 'time_segment_permutation', 'random_phase_shift'], ['noise_vectorized', 'time_segment_permutation', 'spectral_distortion'], ['noise_vectorized', 'time_segment_permutation', 'phase_modulation'], ['noise_vectorized', 'time_shift', 'amplify_attenuate'], ['noise_vectorized', 'time_shift', 'add_random_noise'], ['noise_vectorized', 'time_shift', 'random_phase_shift'], ['noise_vectorized', 'time_shift', 'spectral_distortion'], ['noise_vectorized', 'time_shift', 'phase_modulation'], ['noise_vectorized', 'amplify_attenuate', 'add_random_noise'], ['noise_vectorized', 'amplify_attenuate', 'random_phase_shift'], ['noise_vectorized', 'amplify_attenuate', 'spectral_distortion'], ['noise_vectorized', 'amplify_attenuate', 'phase_modulation'], ['noise_vectorized', 'add_random_noise', 'random_phase_shift'], ['noise_vectorized', 'add_random_noise', 'spectral_distortion'], ['noise_vectorized', 'add_random_noise', 'phase_modulation'], ['noise_vectorized', 'random_phase_shift', 'spectral_distortion'], ['noise_vectorized', 'random_phase_shift', 'phase_modulation'], ['noise_vectorized', 'spectral_distortion', 'phase_modulation'], ['scaling_vectorized', 'rotation_vectorized', 'negate_vectorized'], ['scaling_vectorized', 'rotation_vectorized', 'time_flip_vectorized'], ['scaling_vectorized', 'rotation_vectorized', 'channel_shuffle_vectorized'], ['scaling_vectorized', 'rotation_vectorized', 'time_segment_permutation'], ['scaling_vectorized', 'rotation_vectorized', 'time_shift'], ['scaling_vectorized', 'rotation_vectorized', 'amplify_attenuate'], ['scaling_vectorized', 'rotation_vectorized', 'add_random_noise'], ['scaling_vectorized', 'rotation_vectorized', 'random_phase_shift'], ['scaling_vectorized', 'rotation_vectorized', 'spectral_distortion'], ['scaling_vectorized', 'rotation_vectorized', 'phase_modulation'], ['scaling_vectorized', 'negate_vectorized', 'time_flip_vectorized'], ['scaling_vectorized', 'negate_vectorized', 'channel_shuffle_vectorized'], ['scaling_vectorized', 'negate_vectorized', 'time_segment_permutation'], ['scaling_vectorized', 'negate_vectorized', 'time_shift'], ['scaling_vectorized', 'negate_vectorized', 'amplify_attenuate'], ['scaling_vectorized', 'negate_vectorized', 'add_random_noise'], ['scaling_vectorized', 'negate_vectorized', 'random_phase_shift'], ['scaling_vectorized', 'negate_vectorized', 'spectral_distortion'], ['scaling_vectorized', 'negate_vectorized', 'phase_modulation'], ['scaling_vectorized', 'time_flip_vectorized', 'channel_shuffle_vectorized'], ['scaling_vectorized', 'time_flip_vectorized', 'time_segment_permutation'], ['scaling_vectorized', 'time_flip_vectorized', 'time_shift'], ['scaling_vectorized', 'time_flip_vectorized', 'amplify_attenuate'], ['scaling_vectorized', 'time_flip_vectorized', 'add_random_noise'], ['scaling_vectorized', 'time_flip_vectorized', 'random_phase_shift'], ['scaling_vectorized', 'time_flip_vectorized', 'spectral_distortion'], ['scaling_vectorized', 'time_flip_vectorized', 'phase_modulation'], ['scaling_vectorized', 'channel_shuffle_vectorized', 'time_segment_permutation'], ['scaling_vectorized', 'channel_shuffle_vectorized', 'time_shift'], ['scaling_vectorized', 'channel_shuffle_vectorized', 'amplify_attenuate'], ['scaling_vectorized', 'channel_shuffle_vectorized', 'add_random_noise'], ['scaling_vectorized', 'channel_shuffle_vectorized', 'random_phase_shift'], ['scaling_vectorized', 'channel_shuffle_vectorized', 'spectral_distortion'], ['scaling_vectorized', 'channel_shuffle_vectorized', 'phase_modulation'], ['scaling_vectorized', 'time_segment_permutation', 'time_shift'], ['scaling_vectorized', 'time_segment_permutation', 'amplify_attenuate'], ['scaling_vectorized', 'time_segment_permutation', 'add_random_noise'], ['scaling_vectorized', 'time_segment_permutation', 'random_phase_shift'], ['scaling_vectorized', 'time_segment_permutation', 'spectral_distortion'], ['scaling_vectorized', 'time_segment_permutation', 'phase_modulation'], ['scaling_vectorized', 'time_shift', 'amplify_attenuate'], ['scaling_vectorized', 'time_shift', 'add_random_noise'], ['scaling_vectorized', 'time_shift', 'random_phase_shift'], ['scaling_vectorized', 'time_shift', 'spectral_distortion'], ['scaling_vectorized', 'time_shift', 'phase_modulation'], ['scaling_vectorized', 'amplify_attenuate', 'add_random_noise'], ['scaling_vectorized', 'amplify_attenuate', 'random_phase_shift'], ['scaling_vectorized', 'amplify_attenuate', 'spectral_distortion'], ['scaling_vectorized', 'amplify_attenuate', 'phase_modulation'], ['scaling_vectorized', 'add_random_noise', 'random_phase_shift'], ['scaling_vectorized', 'add_random_noise', 'spectral_distortion'], ['scaling_vectorized', 'add_random_noise', 'phase_modulation'], ['scaling_vectorized', 'random_phase_shift', 'spectral_distortion'], ['scaling_vectorized', 'random_phase_shift', 'phase_modulation'], ['scaling_vectorized', 'spectral_distortion', 'phase_modulation'], ['rotation_vectorized', 'negate_vectorized', 'time_flip_vectorized'], ['rotation_vectorized', 'negate_vectorized', 'channel_shuffle_vectorized'], ['rotation_vectorized', 'negate_vectorized', 'time_segment_permutation'], ['rotation_vectorized', 'negate_vectorized', 'time_shift'], ['rotation_vectorized', 'negate_vectorized', 'amplify_attenuate'], ['rotation_vectorized', 'negate_vectorized', 'add_random_noise'], ['rotation_vectorized', 'negate_vectorized', 'random_phase_shift'], ['rotation_vectorized', 'negate_vectorized', 'spectral_distortion'], ['rotation_vectorized', 'negate_vectorized', 'phase_modulation'], ['rotation_vectorized', 'time_flip_vectorized', 'channel_shuffle_vectorized'], ['rotation_vectorized', 'time_flip_vectorized', 'time_segment_permutation'], ['rotation_vectorized', 'time_flip_vectorized', 'time_shift'], ['rotation_vectorized', 'time_flip_vectorized', 'amplify_attenuate'], ['rotation_vectorized', 'time_flip_vectorized', 'add_random_noise'], ['rotation_vectorized', 'time_flip_vectorized', 'random_phase_shift'], ['rotation_vectorized', 'time_flip_vectorized', 'spectral_distortion'], ['rotation_vectorized', 'time_flip_vectorized', 'phase_modulation'], ['rotation_vectorized', 'channel_shuffle_vectorized', 'time_segment_permutation'], ['rotation_vectorized', 'channel_shuffle_vectorized', 'time_shift'], ['rotation_vectorized', 'channel_shuffle_vectorized', 'amplify_attenuate'], ['rotation_vectorized', 'channel_shuffle_vectorized', 'add_random_noise'], ['rotation_vectorized', 'channel_shuffle_vectorized', 'random_phase_shift'], ['rotation_vectorized', 'channel_shuffle_vectorized', 'spectral_distortion'], ['rotation_vectorized', 'channel_shuffle_vectorized', 'phase_modulation'], ['rotation_vectorized', 'time_segment_permutation', 'time_shift'], ['rotation_vectorized', 'time_segment_permutation', 'amplify_attenuate'], ['rotation_vectorized', 'time_segment_permutation', 'add_random_noise'], ['rotation_vectorized', 'time_segment_permutation', 'random_phase_shift'], ['rotation_vectorized', 'time_segment_permutation', 'spectral_distortion'], ['rotation_vectorized', 'time_segment_permutation', 'phase_modulation'], ['rotation_vectorized', 'time_shift', 'amplify_attenuate'], ['rotation_vectorized', 'time_shift', 'add_random_noise'], ['rotation_vectorized', 'time_shift', 'random_phase_shift'], ['rotation_vectorized', 'time_shift', 'spectral_distortion'], ['rotation_vectorized', 'time_shift', 'phase_modulation'], ['rotation_vectorized', 'amplify_attenuate', 'add_random_noise'], ['rotation_vectorized', 'amplify_attenuate', 'random_phase_shift'], ['rotation_vectorized', 'amplify_attenuate', 'spectral_distortion'], ['rotation_vectorized', 'amplify_attenuate', 'phase_modulation'], ['rotation_vectorized', 'add_random_noise', 'random_phase_shift'], ['rotation_vectorized', 'add_random_noise', 'spectral_distortion'], ['rotation_vectorized', 'add_random_noise', 'phase_modulation'], ['rotation_vectorized', 'random_phase_shift', 'spectral_distortion'], ['rotation_vectorized', 'random_phase_shift', 'phase_modulation'], ['rotation_vectorized', 'spectral_distortion', 'phase_modulation'], ['negate_vectorized', 'time_flip_vectorized', 'channel_shuffle_vectorized'], ['negate_vectorized', 'time_flip_vectorized', 'time_segment_permutation'], ['negate_vectorized', 'time_flip_vectorized', 'time_shift'], ['negate_vectorized', 'time_flip_vectorized', 'amplify_attenuate'], ['negate_vectorized', 'time_flip_vectorized', 'add_random_noise'], ['negate_vectorized', 'time_flip_vectorized', 'random_phase_shift'], ['negate_vectorized', 'time_flip_vectorized', 'spectral_distortion'], ['negate_vectorized', 'time_flip_vectorized', 'phase_modulation'], ['negate_vectorized', 'channel_shuffle_vectorized', 'time_segment_permutation'], ['negate_vectorized', 'channel_shuffle_vectorized', 'time_shift'], ['negate_vectorized', 'channel_shuffle_vectorized', 'amplify_attenuate'], ['negate_vectorized', 'channel_shuffle_vectorized', 'add_random_noise'], ['negate_vectorized', 'channel_shuffle_vectorized', 'random_phase_shift'], ['negate_vectorized', 'channel_shuffle_vectorized', 'spectral_distortion'], ['negate_vectorized', 'channel_shuffle_vectorized', 'phase_modulation'], ['negate_vectorized', 'time_segment_permutation', 'time_shift'], ['negate_vectorized', 'time_segment_permutation', 'amplify_attenuate'], ['negate_vectorized', 'time_segment_permutation', 'add_random_noise'], ['negate_vectorized', 'time_segment_permutation', 'random_phase_shift'], ['negate_vectorized', 'time_segment_permutation', 'spectral_distortion'], ['negate_vectorized', 'time_segment_permutation', 'phase_modulation'], ['negate_vectorized', 'time_shift', 'amplify_attenuate'], ['negate_vectorized', 'time_shift', 'add_random_noise'], ['negate_vectorized', 'time_shift', 'random_phase_shift'], ['negate_vectorized', 'time_shift', 'spectral_distortion'], ['negate_vectorized', 'time_shift', 'phase_modulation'], ['negate_vectorized', 'amplify_attenuate', 'add_random_noise'], ['negate_vectorized', 'amplify_attenuate', 'random_phase_shift'], ['negate_vectorized', 'amplify_attenuate', 'spectral_distortion'], ['negate_vectorized', 'amplify_attenuate', 'phase_modulation'], ['negate_vectorized', 'add_random_noise', 'random_phase_shift'], ['negate_vectorized', 'add_random_noise', 'spectral_distortion'], ['negate_vectorized', 'add_random_noise', 'phase_modulation'], ['negate_vectorized', 'random_phase_shift', 'spectral_distortion'], ['negate_vectorized', 'random_phase_shift', 'phase_modulation'], ['negate_vectorized', 'spectral_distortion', 'phase_modulation'], ['time_flip_vectorized', 'channel_shuffle_vectorized', 'time_segment_permutation'], ['time_flip_vectorized', 'channel_shuffle_vectorized', 'time_shift'], ['time_flip_vectorized', 'channel_shuffle_vectorized', 'amplify_attenuate'], ['time_flip_vectorized', 'channel_shuffle_vectorized', 'add_random_noise'], ['time_flip_vectorized', 'channel_shuffle_vectorized', 'random_phase_shift'], ['time_flip_vectorized', 'channel_shuffle_vectorized', 'spectral_distortion'], ['time_flip_vectorized', 'channel_shuffle_vectorized', 'phase_modulation'], ['time_flip_vectorized', 'time_segment_permutation', 'time_shift'], ['time_flip_vectorized', 'time_segment_permutation', 'amplify_attenuate'], ['time_flip_vectorized', 'time_segment_permutation', 'add_random_noise'], ['time_flip_vectorized', 'time_segment_permutation', 'random_phase_shift'], ['time_flip_vectorized', 'time_segment_permutation', 'spectral_distortion'], ['time_flip_vectorized', 'time_segment_permutation', 'phase_modulation'], ['time_flip_vectorized', 'time_shift', 'amplify_attenuate'], ['time_flip_vectorized', 'time_shift', 'add_random_noise'], ['time_flip_vectorized', 'time_shift', 'random_phase_shift'], ['time_flip_vectorized', 'time_shift', 'spectral_distortion'], ['time_flip_vectorized', 'time_shift', 'phase_modulation'], ['time_flip_vectorized', 'amplify_attenuate', 'add_random_noise'], ['time_flip_vectorized', 'amplify_attenuate', 'random_phase_shift'], ['time_flip_vectorized', 'amplify_attenuate', 'spectral_distortion'], ['time_flip_vectorized', 'amplify_attenuate', 'phase_modulation'], ['time_flip_vectorized', 'add_random_noise', 'random_phase_shift'], ['time_flip_vectorized', 'add_random_noise', 'spectral_distortion'], ['time_flip_vectorized', 'add_random_noise', 'phase_modulation'], ['time_flip_vectorized', 'random_phase_shift', 'spectral_distortion'], ['time_flip_vectorized', 'random_phase_shift', 'phase_modulation'], ['time_flip_vectorized', 'spectral_distortion', 'phase_modulation'], ['channel_shuffle_vectorized', 'time_segment_permutation', 'time_shift'], ['channel_shuffle_vectorized', 'time_segment_permutation', 'amplify_attenuate'], ['channel_shuffle_vectorized', 'time_segment_permutation', 'add_random_noise'], ['channel_shuffle_vectorized', 'time_segment_permutation', 'random_phase_shift'], ['channel_shuffle_vectorized', 'time_segment_permutation', 'spectral_distortion'], ['channel_shuffle_vectorized', 'time_segment_permutation', 'phase_modulation'], ['channel_shuffle_vectorized', 'time_shift', 'amplify_attenuate'], ['channel_shuffle_vectorized', 'time_shift', 'add_random_noise'], ['channel_shuffle_vectorized', 'time_shift', 'random_phase_shift'], ['channel_shuffle_vectorized', 'time_shift', 'spectral_distortion'], ['channel_shuffle_vectorized', 'time_shift', 'phase_modulation'], ['channel_shuffle_vectorized', 'amplify_attenuate', 'add_random_noise'], ['channel_shuffle_vectorized', 'amplify_attenuate', 'random_phase_shift'], ['channel_shuffle_vectorized', 'amplify_attenuate', 'spectral_distortion'], ['channel_shuffle_vectorized', 'amplify_attenuate', 'phase_modulation'], ['channel_shuffle_vectorized', 'add_random_noise', 'random_phase_shift'], ['channel_shuffle_vectorized', 'add_random_noise', 'spectral_distortion'], ['channel_shuffle_vectorized', 'add_random_noise', 'phase_modulation'], ['channel_shuffle_vectorized', 'random_phase_shift', 'spectral_distortion'], ['channel_shuffle_vectorized', 'random_phase_shift', 'phase_modulation'], ['channel_shuffle_vectorized', 'spectral_distortion', 'phase_modulation'], ['time_segment_permutation', 'time_shift', 'amplify_attenuate'], ['time_segment_permutation', 'time_shift', 'add_random_noise'], ['time_segment_permutation', 'time_shift', 'random_phase_shift'], ['time_segment_permutation', 'time_shift', 'spectral_distortion'], ['time_segment_permutation', 'time_shift', 'phase_modulation'], ['time_segment_permutation', 'amplify_attenuate', 'add_random_noise'], ['time_segment_permutation', 'amplify_attenuate', 'random_phase_shift'], ['time_segment_permutation', 'amplify_attenuate', 'spectral_distortion'], ['time_segment_permutation', 'amplify_attenuate', 'phase_modulation'], ['time_segment_permutation', 'add_random_noise', 'random_phase_shift'], ['time_segment_permutation', 'add_random_noise', 'spectral_distortion'], ['time_segment_permutation', 'add_random_noise', 'phase_modulation'], ['time_segment_permutation', 'random_phase_shift', 'spectral_distortion'], ['time_segment_permutation', 'random_phase_shift', 'phase_modulation'], ['time_segment_permutation', 'spectral_distortion', 'phase_modulation'], ['time_shift', 'amplify_attenuate', 'add_random_noise'], ['time_shift', 'amplify_attenuate', 'random_phase_shift'], ['time_shift', 'amplify_attenuate', 'spectral_distortion'], ['time_shift', 'amplify_attenuate', 'phase_modulation'], ['time_shift', 'add_random_noise', 'random_phase_shift'], ['time_shift', 'add_random_noise', 'spectral_distortion'], ['time_shift', 'add_random_noise', 'phase_modulation'], ['time_shift', 'random_phase_shift', 'spectral_distortion'], ['time_shift', 'random_phase_shift', 'phase_modulation'], ['time_shift', 'spectral_distortion', 'phase_modulation'], ['amplify_attenuate', 'add_random_noise', 'random_phase_shift'], ['amplify_attenuate', 'add_random_noise', 'spectral_distortion'], ['amplify_attenuate', 'add_random_noise', 'phase_modulation'], ['amplify_attenuate', 'random_phase_shift', 'spectral_distortion'], ['amplify_attenuate', 'random_phase_shift', 'phase_modulation'], ['amplify_attenuate', 'spectral_distortion', 'phase_modulation'], ['add_random_noise', 'random_phase_shift', 'spectral_distortion'], ['add_random_noise', 'random_phase_shift', 'phase_modulation'], ['add_random_noise', 'spectral_distortion', 'phase_modulation'], ['random_phase_shift', 'spectral_distortion', 'phase_modulation']]\n"
     ]
    }
   ],
   "source": [
    "import simclr_utils as sm_ut\n",
    "transformations=sm_ut.transform_combinations(3,4)\n",
    "\n",
    "print(transformations)"
   ]
  },
  {
   "cell_type": "code",
   "execution_count": 5,
   "id": "08bdea67-ede8-444d-a3ff-c8520d7efc07",
   "metadata": {},
   "outputs": [],
   "source": [
    "from librep.estimators.simclr.torch.simclr_linear_estimator import Simclr_Linear_Estimator\n",
    "#from librep.estimators.simclr.torch.simclr_full_estimator import Simclr_Linear_Estimator\n"
   ]
  },
  {
   "cell_type": "code",
   "execution_count": 6,
   "id": "0ea26efe-fb55-4c8c-9fa8-b803bf9e0b31",
   "metadata": {},
   "outputs": [],
   "source": [
    "linear_model=Simclr_Linear_Estimator(input_shape=input_shape,\n",
    "                        n_components=n_components,\n",
    "                        batch_size_head=batch_size_head,\n",
    "                        transform_funcs=transform_funcs,\n",
    "                        temperature_head=temperature_head, \n",
    "                        epochs_head=epochs_head,\n",
    "                        save_model=False,\n",
    "                        verbose=1,\n",
    "                        total_epochs=50,\n",
    "                        batch_size=32,\n",
    "                        lr=0.001)"
   ]
  },
  {
   "cell_type": "code",
   "execution_count": 7,
   "id": "28a7c9d9-0e45-4336-bb66-6eaa718a24cd",
   "metadata": {},
   "outputs": [
    {
     "name": "stdout",
     "output_type": "stream",
     "text": [
      "(2846, 60, 6) [60, 6]\n",
      "epoch: 1 loss: 5.551\n",
      "epoch: 2 loss: 5.504\n",
      "epoch: 3 loss: 5.488\n",
      "epoch: 4 loss: 5.463\n",
      "epoch: 5 loss: 5.426\n",
      "epoch: 6 loss: 5.428\n",
      "epoch: 7 loss: 5.301\n",
      "epoch: 8 loss: 5.211\n",
      "epoch: 9 loss: 5.185\n",
      "epoch: 10 loss: 5.150\n",
      "epoch: 11 loss: 5.163\n",
      "epoch: 12 loss: 5.147\n",
      "epoch: 13 loss: 5.124\n",
      "epoch: 14 loss: 5.130\n",
      "epoch: 15 loss: 5.112\n",
      "epoch: 16 loss: 5.106\n",
      "epoch: 17 loss: 5.090\n",
      "epoch: 18 loss: 5.099\n",
      "epoch: 19 loss: 5.084\n",
      "epoch: 20 loss: 5.078\n",
      "epoch: 21 loss: 5.087\n",
      "epoch: 22 loss: 5.068\n",
      "epoch: 23 loss: 5.055\n",
      "epoch: 24 loss: 5.062\n",
      "epoch: 25 loss: 5.050\n",
      "epoch: 26 loss: 5.053\n",
      "epoch: 27 loss: 5.042\n",
      "epoch: 28 loss: 5.059\n",
      "epoch: 29 loss: 5.044\n",
      "epoch: 30 loss: 5.035\n",
      "epoch: 31 loss: 5.063\n",
      "epoch: 32 loss: 5.046\n",
      "epoch: 33 loss: 5.056\n",
      "epoch: 34 loss: 5.051\n",
      "epoch: 35 loss: 5.063\n",
      "epoch: 36 loss: 5.039\n",
      "epoch: 37 loss: 5.054\n",
      "epoch: 38 loss: 5.057\n",
      "epoch: 39 loss: 5.041\n",
      "epoch: 40 loss: 5.038\n",
      "Early stopping after 40 epochs with no improvement.\n",
      "Epoch [1/50] - Loss: 1.0510261537653676\n",
      "Val Accuracy: 0.7402\n",
      "Epoch [2/50] - Loss: 0.491364674956611\n",
      "Val Accuracy: 0.7949\n",
      "Epoch [3/50] - Loss: 0.38309816045037814\n",
      "Val Accuracy: 0.8427\n",
      "Epoch [4/50] - Loss: 0.3302762635638205\n",
      "Val Accuracy: 0.8666\n",
      "Epoch [5/50] - Loss: 0.30183227711849\n",
      "Val Accuracy: 0.8666\n",
      "Epoch [6/50] - Loss: 0.2670305658424838\n",
      "Val Accuracy: 0.8947\n",
      "Epoch [7/50] - Loss: 0.2544402629974183\n",
      "Val Accuracy: 0.8820\n",
      "Epoch [8/50] - Loss: 0.21906855057799415\n",
      "Val Accuracy: 0.8933\n",
      "Epoch [9/50] - Loss: 0.23758331903915728\n",
      "Val Accuracy: 0.8680\n",
      "Epoch [10/50] - Loss: 0.1959406061286337\n",
      "Val Accuracy: 0.8904\n",
      "Epoch [11/50] - Loss: 0.18840948362531287\n",
      "Val Accuracy: 0.8834\n",
      "Epoch [12/50] - Loss: 0.17305925986572598\n",
      "Val Accuracy: 0.8947\n",
      "Epoch [13/50] - Loss: 0.18320622110969564\n",
      "Val Accuracy: 0.8708\n",
      "Epoch [14/50] - Loss: 0.18726108189714089\n",
      "Val Accuracy: 0.8862\n",
      "Epoch [15/50] - Loss: 0.1580618717027514\n",
      "Val Accuracy: 0.8876\n",
      "Epoch [16/50] - Loss: 0.14534253522418858\n",
      "Val Accuracy: 0.8933\n",
      "Epoch [17/50] - Loss: 0.1481950254796931\n",
      "Val Accuracy: 0.8975\n",
      "Epoch [18/50] - Loss: 0.13373369455672382\n",
      "Val Accuracy: 0.8890\n",
      "Epoch [19/50] - Loss: 0.1643063176548883\n",
      "Val Accuracy: 0.8919\n",
      "Epoch [20/50] - Loss: 0.12676696638377866\n",
      "Val Accuracy: 0.8961\n",
      "Epoch [21/50] - Loss: 0.12004764039027557\n",
      "Val Accuracy: 0.8890\n",
      "Epoch [22/50] - Loss: 0.12880249103803312\n",
      "Val Accuracy: 0.9003\n",
      "Epoch [23/50] - Loss: 0.1260589516271701\n",
      "Val Accuracy: 0.9045\n",
      "Epoch [24/50] - Loss: 0.10904766347133711\n",
      "Val Accuracy: 0.9031\n",
      "Epoch [25/50] - Loss: 0.0946636291775392\n",
      "Val Accuracy: 0.9129\n",
      "Epoch [26/50] - Loss: 0.07727222400979045\n",
      "Val Accuracy: 0.9157\n",
      "Epoch [27/50] - Loss: 0.07971517437169057\n",
      "Val Accuracy: 0.9087\n",
      "Epoch [28/50] - Loss: 0.07956162564916892\n",
      "Val Accuracy: 0.9101\n",
      "Epoch [29/50] - Loss: 0.06383510640550279\n",
      "Val Accuracy: 0.9171\n",
      "Epoch [30/50] - Loss: 0.07798131392598989\n",
      "Val Accuracy: 0.8961\n",
      "Epoch [31/50] - Loss: 0.07732520950434918\n",
      "Val Accuracy: 0.9017\n",
      "Epoch [32/50] - Loss: 0.06086332909762859\n",
      "Val Accuracy: 0.9129\n",
      "Epoch [33/50] - Loss: 0.08028879578047421\n",
      "Val Accuracy: 0.9073\n",
      "Epoch [34/50] - Loss: 0.07480683583724365\n",
      "Val Accuracy: 0.9101\n",
      "Epoch [35/50] - Loss: 0.05573887160385362\n",
      "Val Accuracy: 0.8876\n",
      "Epoch [36/50] - Loss: 0.05457764274827885\n",
      "Val Accuracy: 0.9157\n",
      "Epoch [37/50] - Loss: 0.06862973786885275\n",
      "Val Accuracy: 0.8904\n",
      "Epoch [38/50] - Loss: 0.04766282074027852\n",
      "Val Accuracy: 0.9185\n",
      "Epoch [39/50] - Loss: 0.06033591820408454\n",
      "Val Accuracy: 0.9171\n",
      "Epoch [40/50] - Loss: 0.04362433709811126\n",
      "Val Accuracy: 0.9143\n",
      "Epoch [41/50] - Loss: 0.04452932248247808\n",
      "Val Accuracy: 0.9270\n",
      "Epoch [42/50] - Loss: 0.039025675568185494\n",
      "Val Accuracy: 0.9298\n",
      "Epoch [43/50] - Loss: 0.03741202342030959\n",
      "Val Accuracy: 0.9129\n",
      "Epoch [44/50] - Loss: 0.046944056838041884\n",
      "Val Accuracy: 0.9185\n",
      "Epoch [45/50] - Loss: 0.031471724398277195\n",
      "Val Accuracy: 0.9199\n",
      "Epoch [46/50] - Loss: 0.03401626357704066\n",
      "Val Accuracy: 0.9270\n",
      "Epoch [47/50] - Loss: 0.020950525832948475\n",
      "Val Accuracy: 0.9354\n",
      "Epoch [48/50] - Loss: 0.03483878348295425\n",
      "Val Accuracy: 0.9157\n",
      "Epoch [49/50] - Loss: 0.042285409322717446\n",
      "Val Accuracy: 0.9199\n",
      "Epoch [50/50] - Loss: 0.02832560480004595\n",
      "Val Accuracy: 0.9171\n",
      "Training finished.\n"
     ]
    },
    {
     "data": {
      "text/plain": [
       "<librep.estimators.simclr.torch.simclr_linear_estimator.Simclr_Linear_Estimator at 0x7f1eb2cd0f70>"
      ]
     },
     "execution_count": 7,
     "metadata": {},
     "output_type": "execute_result"
    }
   ],
   "source": [
    "linear_model.fit(X_train,y_train,None,None)\n",
    "\n"
   ]
  },
  {
   "cell_type": "code",
   "execution_count": 8,
   "id": "0bde330b-0858-403e-ae0f-ba69b1bafe99",
   "metadata": {},
   "outputs": [
    {
     "name": "stdout",
     "output_type": "stream",
     "text": [
      "LinearModel_Intermediate(\n",
      "  (base_model): BaseModel(\n",
      "    (conv1): Conv1d(6, 32, kernel_size=(24,), stride=(1,))\n",
      "    (dropout1): Dropout(p=0.1, inplace=False)\n",
      "    (conv2): Conv1d(32, 64, kernel_size=(16,), stride=(1,))\n",
      "    (dropout2): Dropout(p=0.1, inplace=False)\n",
      "    (conv3): Conv1d(64, 60, kernel_size=(8,), stride=(1,))\n",
      "    (dropout3): Dropout(p=0.1, inplace=False)\n",
      "    (global_max_pooling): AdaptiveMaxPool1d(output_size=1)\n",
      "    (relu): ReLU()\n",
      "  )\n",
      "  (linear): Linear(in_features=60, out_features=6, bias=True)\n",
      ")\n"
     ]
    }
   ],
   "source": [
    "print(linear_model.model)"
   ]
  },
  {
   "cell_type": "code",
   "execution_count": null,
   "id": "73d2ec39-a98b-4709-8a18-a5e37dde5e68",
   "metadata": {},
   "outputs": [],
   "source": []
  },
  {
   "cell_type": "code",
   "execution_count": null,
   "id": "c27ba06a-bf86-4df0-a17c-8161131521c3",
   "metadata": {},
   "outputs": [],
   "source": [
    "\n"
   ]
  },
  {
   "cell_type": "code",
   "execution_count": null,
   "id": "3bd66f8f-e7fc-4abe-acff-c09f919a7b00",
   "metadata": {},
   "outputs": [],
   "source": []
  },
  {
   "cell_type": "code",
   "execution_count": null,
   "id": "85581e8c-b47b-4ce7-a948-80ecb804ef9c",
   "metadata": {},
   "outputs": [],
   "source": []
  },
  {
   "cell_type": "code",
   "execution_count": null,
   "id": "08a32f0b-90b4-4537-a8e6-7651aa1ad24f",
   "metadata": {},
   "outputs": [],
   "source": []
  },
  {
   "cell_type": "code",
   "execution_count": null,
   "id": "769ec51d-e1a4-4c47-b0c3-e7c9eceef9cd",
   "metadata": {},
   "outputs": [],
   "source": []
  }
 ],
 "metadata": {
  "kernelspec": {
   "display_name": "Python 3 (ipykernel)",
   "language": "python",
   "name": "python3"
  },
  "language_info": {
   "codemirror_mode": {
    "name": "ipython",
    "version": 3
   },
   "file_extension": ".py",
   "mimetype": "text/x-python",
   "name": "python",
   "nbconvert_exporter": "python",
   "pygments_lexer": "ipython3",
   "version": "3.10.13"
  }
 },
 "nbformat": 4,
 "nbformat_minor": 5
}
