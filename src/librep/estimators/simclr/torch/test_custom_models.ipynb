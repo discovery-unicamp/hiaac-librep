{
 "cells": [
  {
   "cell_type": "code",
   "execution_count": 1,
   "id": "1062bcd3-71df-4f75-82ca-56c9c62ed376",
   "metadata": {},
   "outputs": [
    {
     "name": "stderr",
     "output_type": "stream",
     "text": [
      "/home/amparo/unicamp_hyper_2/M4-Framework-Experiments/experiments/.local/lib/python3.10/site-packages/tqdm/auto.py:21: TqdmWarning: IProgress not found. Please update jupyter and ipywidgets. See https://ipywidgets.readthedocs.io/en/stable/user_install.html\n",
      "  from .autonotebook import tqdm as notebook_tqdm\n"
     ]
    }
   ],
   "source": [
    "import os\n",
    "os.environ[\"CUDA_VISIBLE_DEVICES\"] = \"1\"  \n",
    "%load_ext autoreload\n",
    "%autoreload 2\n",
    "from librep.estimators.simclr.torch.standartized_balanced import StandardizedBalancedDataset\n",
    "import os,torch\n",
    "device = torch.device(\"cuda:1\" if torch.cuda.is_available() else \"cpu\")\n",
    "def get_data(dataset_name,sensors,normalize_data):    \n",
    "    working_directory=f\"result/{dataset_name}/\"\n",
    "    data_folder = f\"../../../../../../experiment_executor/data/standartized_balanced/{dataset_name}/\"\n",
    "    dataset = StandardizedBalancedDataset(data_folder, sensors=sensors)\n",
    "    X_train, y_train,X_test, y_test,X_val, y_val = dataset.get_all_data(normalize_data=normalize_data, resize_data=False)\n",
    "    return X_train, y_train,X_test, y_test,X_val, y_val\n",
    "        #print(f\"shape: X_train {X_train.shape} --- X_test {X_test.shape} --- X_test {X_val.shape}\")"
   ]
  },
  {
   "cell_type": "code",
   "execution_count": 2,
   "id": "7b4dc3ef-13ed-491d-b4e3-0e883781717d",
   "metadata": {},
   "outputs": [],
   "source": [
    "device = torch.device(\"cuda:1\" if torch.cuda.is_available() else \"cpu\")\n"
   ]
  },
  {
   "cell_type": "code",
   "execution_count": 3,
   "id": "46d7e470-a5a5-4d69-b8ef-9e0c1db18552",
   "metadata": {},
   "outputs": [
    {
     "data": {
      "text/plain": [
       "device(type='cpu')"
      ]
     },
     "execution_count": 3,
     "metadata": {},
     "output_type": "execute_result"
    }
   ],
   "source": [
    "device"
   ]
  },
  {
   "cell_type": "code",
   "execution_count": 4,
   "id": "63042be7-97c0-44b9-bb1c-f74b90ee8055",
   "metadata": {},
   "outputs": [],
   "source": [
    "import torch\n",
    "for i in range(torch.cuda.device_count()):\n",
    "    print(f\"GPU {i}: {torch.cuda.get_device_name(i)}\")"
   ]
  },
  {
   "cell_type": "code",
   "execution_count": 5,
   "id": "350c47ac-981d-4593-864e-0ceb29cd24c7",
   "metadata": {},
   "outputs": [
    {
     "name": "stdout",
     "output_type": "stream",
     "text": [
      "(360,)\n"
     ]
    }
   ],
   "source": [
    "X_train, y_train,X_test, y_test,X_val, y_val=get_data(\"MotionSense\",['accel','gyro'],False)\n",
    "input_shape=X_train[0].shape\n",
    "print(input_shape)"
   ]
  },
  {
   "cell_type": "code",
   "execution_count": null,
   "id": "bdc0379e-8728-4124-b281-89a3c49cd64c",
   "metadata": {},
   "outputs": [],
   "source": [
    "\n",
    "\n"
   ]
  },
  {
   "cell_type": "code",
   "execution_count": 6,
   "id": "4b6127fc-e009-4860-8163-fd29246a51df",
   "metadata": {},
   "outputs": [],
   "source": [
    "batch_size_head = 256\n",
    "decay_steps_head = 1000\n",
    "temperature_head = 0.77\n",
    "n_components=60\n",
    "epochs_head = 300\n",
    "input_shape=[60,6]\n",
    "transform_funcs=['noise_vectorized', 'channel_shuffle_vectorized', 'amplify_attenuate']\n",
    "verbose=1\n",
    "import os,torch\n",
    "device = torch.device(\"cuda\" if torch.cuda.is_available() else \"cpu\")\n",
    "\n"
   ]
  },
  {
   "cell_type": "code",
   "execution_count": 7,
   "id": "fab8b1b2-9ae3-4812-873b-26c5124a2a43",
   "metadata": {},
   "outputs": [
    {
     "name": "stdout",
     "output_type": "stream",
     "text": [
      "[['noise_vectorized', 'scaling_vectorized', 'rotation_vectorized'], ['noise_vectorized', 'scaling_vectorized', 'negate_vectorized'], ['noise_vectorized', 'scaling_vectorized', 'time_flip_vectorized'], ['noise_vectorized', 'scaling_vectorized', 'channel_shuffle_vectorized'], ['noise_vectorized', 'scaling_vectorized', 'time_segment_permutation'], ['noise_vectorized', 'scaling_vectorized', 'time_shift'], ['noise_vectorized', 'scaling_vectorized', 'amplify_attenuate'], ['noise_vectorized', 'scaling_vectorized', 'add_random_noise'], ['noise_vectorized', 'scaling_vectorized', 'random_phase_shift'], ['noise_vectorized', 'scaling_vectorized', 'spectral_distortion'], ['noise_vectorized', 'scaling_vectorized', 'phase_modulation'], ['noise_vectorized', 'rotation_vectorized', 'negate_vectorized'], ['noise_vectorized', 'rotation_vectorized', 'time_flip_vectorized'], ['noise_vectorized', 'rotation_vectorized', 'channel_shuffle_vectorized'], ['noise_vectorized', 'rotation_vectorized', 'time_segment_permutation'], ['noise_vectorized', 'rotation_vectorized', 'time_shift'], ['noise_vectorized', 'rotation_vectorized', 'amplify_attenuate'], ['noise_vectorized', 'rotation_vectorized', 'add_random_noise'], ['noise_vectorized', 'rotation_vectorized', 'random_phase_shift'], ['noise_vectorized', 'rotation_vectorized', 'spectral_distortion'], ['noise_vectorized', 'rotation_vectorized', 'phase_modulation'], ['noise_vectorized', 'negate_vectorized', 'time_flip_vectorized'], ['noise_vectorized', 'negate_vectorized', 'channel_shuffle_vectorized'], ['noise_vectorized', 'negate_vectorized', 'time_segment_permutation'], ['noise_vectorized', 'negate_vectorized', 'time_shift'], ['noise_vectorized', 'negate_vectorized', 'amplify_attenuate'], ['noise_vectorized', 'negate_vectorized', 'add_random_noise'], ['noise_vectorized', 'negate_vectorized', 'random_phase_shift'], ['noise_vectorized', 'negate_vectorized', 'spectral_distortion'], ['noise_vectorized', 'negate_vectorized', 'phase_modulation'], ['noise_vectorized', 'time_flip_vectorized', 'channel_shuffle_vectorized'], ['noise_vectorized', 'time_flip_vectorized', 'time_segment_permutation'], ['noise_vectorized', 'time_flip_vectorized', 'time_shift'], ['noise_vectorized', 'time_flip_vectorized', 'amplify_attenuate'], ['noise_vectorized', 'time_flip_vectorized', 'add_random_noise'], ['noise_vectorized', 'time_flip_vectorized', 'random_phase_shift'], ['noise_vectorized', 'time_flip_vectorized', 'spectral_distortion'], ['noise_vectorized', 'time_flip_vectorized', 'phase_modulation'], ['noise_vectorized', 'channel_shuffle_vectorized', 'time_segment_permutation'], ['noise_vectorized', 'channel_shuffle_vectorized', 'time_shift'], ['noise_vectorized', 'channel_shuffle_vectorized', 'amplify_attenuate'], ['noise_vectorized', 'channel_shuffle_vectorized', 'add_random_noise'], ['noise_vectorized', 'channel_shuffle_vectorized', 'random_phase_shift'], ['noise_vectorized', 'channel_shuffle_vectorized', 'spectral_distortion'], ['noise_vectorized', 'channel_shuffle_vectorized', 'phase_modulation'], ['noise_vectorized', 'time_segment_permutation', 'time_shift'], ['noise_vectorized', 'time_segment_permutation', 'amplify_attenuate'], ['noise_vectorized', 'time_segment_permutation', 'add_random_noise'], ['noise_vectorized', 'time_segment_permutation', 'random_phase_shift'], ['noise_vectorized', 'time_segment_permutation', 'spectral_distortion'], ['noise_vectorized', 'time_segment_permutation', 'phase_modulation'], ['noise_vectorized', 'time_shift', 'amplify_attenuate'], ['noise_vectorized', 'time_shift', 'add_random_noise'], ['noise_vectorized', 'time_shift', 'random_phase_shift'], ['noise_vectorized', 'time_shift', 'spectral_distortion'], ['noise_vectorized', 'time_shift', 'phase_modulation'], ['noise_vectorized', 'amplify_attenuate', 'add_random_noise'], ['noise_vectorized', 'amplify_attenuate', 'random_phase_shift'], ['noise_vectorized', 'amplify_attenuate', 'spectral_distortion'], ['noise_vectorized', 'amplify_attenuate', 'phase_modulation'], ['noise_vectorized', 'add_random_noise', 'random_phase_shift'], ['noise_vectorized', 'add_random_noise', 'spectral_distortion'], ['noise_vectorized', 'add_random_noise', 'phase_modulation'], ['noise_vectorized', 'random_phase_shift', 'spectral_distortion'], ['noise_vectorized', 'random_phase_shift', 'phase_modulation'], ['noise_vectorized', 'spectral_distortion', 'phase_modulation'], ['scaling_vectorized', 'rotation_vectorized', 'negate_vectorized'], ['scaling_vectorized', 'rotation_vectorized', 'time_flip_vectorized'], ['scaling_vectorized', 'rotation_vectorized', 'channel_shuffle_vectorized'], ['scaling_vectorized', 'rotation_vectorized', 'time_segment_permutation'], ['scaling_vectorized', 'rotation_vectorized', 'time_shift'], ['scaling_vectorized', 'rotation_vectorized', 'amplify_attenuate'], ['scaling_vectorized', 'rotation_vectorized', 'add_random_noise'], ['scaling_vectorized', 'rotation_vectorized', 'random_phase_shift'], ['scaling_vectorized', 'rotation_vectorized', 'spectral_distortion'], ['scaling_vectorized', 'rotation_vectorized', 'phase_modulation'], ['scaling_vectorized', 'negate_vectorized', 'time_flip_vectorized'], ['scaling_vectorized', 'negate_vectorized', 'channel_shuffle_vectorized'], ['scaling_vectorized', 'negate_vectorized', 'time_segment_permutation'], ['scaling_vectorized', 'negate_vectorized', 'time_shift'], ['scaling_vectorized', 'negate_vectorized', 'amplify_attenuate'], ['scaling_vectorized', 'negate_vectorized', 'add_random_noise'], ['scaling_vectorized', 'negate_vectorized', 'random_phase_shift'], ['scaling_vectorized', 'negate_vectorized', 'spectral_distortion'], ['scaling_vectorized', 'negate_vectorized', 'phase_modulation'], ['scaling_vectorized', 'time_flip_vectorized', 'channel_shuffle_vectorized'], ['scaling_vectorized', 'time_flip_vectorized', 'time_segment_permutation'], ['scaling_vectorized', 'time_flip_vectorized', 'time_shift'], ['scaling_vectorized', 'time_flip_vectorized', 'amplify_attenuate'], ['scaling_vectorized', 'time_flip_vectorized', 'add_random_noise'], ['scaling_vectorized', 'time_flip_vectorized', 'random_phase_shift'], ['scaling_vectorized', 'time_flip_vectorized', 'spectral_distortion'], ['scaling_vectorized', 'time_flip_vectorized', 'phase_modulation'], ['scaling_vectorized', 'channel_shuffle_vectorized', 'time_segment_permutation'], ['scaling_vectorized', 'channel_shuffle_vectorized', 'time_shift'], ['scaling_vectorized', 'channel_shuffle_vectorized', 'amplify_attenuate'], ['scaling_vectorized', 'channel_shuffle_vectorized', 'add_random_noise'], ['scaling_vectorized', 'channel_shuffle_vectorized', 'random_phase_shift'], ['scaling_vectorized', 'channel_shuffle_vectorized', 'spectral_distortion'], ['scaling_vectorized', 'channel_shuffle_vectorized', 'phase_modulation'], ['scaling_vectorized', 'time_segment_permutation', 'time_shift'], ['scaling_vectorized', 'time_segment_permutation', 'amplify_attenuate'], ['scaling_vectorized', 'time_segment_permutation', 'add_random_noise'], ['scaling_vectorized', 'time_segment_permutation', 'random_phase_shift'], ['scaling_vectorized', 'time_segment_permutation', 'spectral_distortion'], ['scaling_vectorized', 'time_segment_permutation', 'phase_modulation'], ['scaling_vectorized', 'time_shift', 'amplify_attenuate'], ['scaling_vectorized', 'time_shift', 'add_random_noise'], ['scaling_vectorized', 'time_shift', 'random_phase_shift'], ['scaling_vectorized', 'time_shift', 'spectral_distortion'], ['scaling_vectorized', 'time_shift', 'phase_modulation'], ['scaling_vectorized', 'amplify_attenuate', 'add_random_noise'], ['scaling_vectorized', 'amplify_attenuate', 'random_phase_shift'], ['scaling_vectorized', 'amplify_attenuate', 'spectral_distortion'], ['scaling_vectorized', 'amplify_attenuate', 'phase_modulation'], ['scaling_vectorized', 'add_random_noise', 'random_phase_shift'], ['scaling_vectorized', 'add_random_noise', 'spectral_distortion'], ['scaling_vectorized', 'add_random_noise', 'phase_modulation'], ['scaling_vectorized', 'random_phase_shift', 'spectral_distortion'], ['scaling_vectorized', 'random_phase_shift', 'phase_modulation'], ['scaling_vectorized', 'spectral_distortion', 'phase_modulation'], ['rotation_vectorized', 'negate_vectorized', 'time_flip_vectorized'], ['rotation_vectorized', 'negate_vectorized', 'channel_shuffle_vectorized'], ['rotation_vectorized', 'negate_vectorized', 'time_segment_permutation'], ['rotation_vectorized', 'negate_vectorized', 'time_shift'], ['rotation_vectorized', 'negate_vectorized', 'amplify_attenuate'], ['rotation_vectorized', 'negate_vectorized', 'add_random_noise'], ['rotation_vectorized', 'negate_vectorized', 'random_phase_shift'], ['rotation_vectorized', 'negate_vectorized', 'spectral_distortion'], ['rotation_vectorized', 'negate_vectorized', 'phase_modulation'], ['rotation_vectorized', 'time_flip_vectorized', 'channel_shuffle_vectorized'], ['rotation_vectorized', 'time_flip_vectorized', 'time_segment_permutation'], ['rotation_vectorized', 'time_flip_vectorized', 'time_shift'], ['rotation_vectorized', 'time_flip_vectorized', 'amplify_attenuate'], ['rotation_vectorized', 'time_flip_vectorized', 'add_random_noise'], ['rotation_vectorized', 'time_flip_vectorized', 'random_phase_shift'], ['rotation_vectorized', 'time_flip_vectorized', 'spectral_distortion'], ['rotation_vectorized', 'time_flip_vectorized', 'phase_modulation'], ['rotation_vectorized', 'channel_shuffle_vectorized', 'time_segment_permutation'], ['rotation_vectorized', 'channel_shuffle_vectorized', 'time_shift'], ['rotation_vectorized', 'channel_shuffle_vectorized', 'amplify_attenuate'], ['rotation_vectorized', 'channel_shuffle_vectorized', 'add_random_noise'], ['rotation_vectorized', 'channel_shuffle_vectorized', 'random_phase_shift'], ['rotation_vectorized', 'channel_shuffle_vectorized', 'spectral_distortion'], ['rotation_vectorized', 'channel_shuffle_vectorized', 'phase_modulation'], ['rotation_vectorized', 'time_segment_permutation', 'time_shift'], ['rotation_vectorized', 'time_segment_permutation', 'amplify_attenuate'], ['rotation_vectorized', 'time_segment_permutation', 'add_random_noise'], ['rotation_vectorized', 'time_segment_permutation', 'random_phase_shift'], ['rotation_vectorized', 'time_segment_permutation', 'spectral_distortion'], ['rotation_vectorized', 'time_segment_permutation', 'phase_modulation'], ['rotation_vectorized', 'time_shift', 'amplify_attenuate'], ['rotation_vectorized', 'time_shift', 'add_random_noise'], ['rotation_vectorized', 'time_shift', 'random_phase_shift'], ['rotation_vectorized', 'time_shift', 'spectral_distortion'], ['rotation_vectorized', 'time_shift', 'phase_modulation'], ['rotation_vectorized', 'amplify_attenuate', 'add_random_noise'], ['rotation_vectorized', 'amplify_attenuate', 'random_phase_shift'], ['rotation_vectorized', 'amplify_attenuate', 'spectral_distortion'], ['rotation_vectorized', 'amplify_attenuate', 'phase_modulation'], ['rotation_vectorized', 'add_random_noise', 'random_phase_shift'], ['rotation_vectorized', 'add_random_noise', 'spectral_distortion'], ['rotation_vectorized', 'add_random_noise', 'phase_modulation'], ['rotation_vectorized', 'random_phase_shift', 'spectral_distortion'], ['rotation_vectorized', 'random_phase_shift', 'phase_modulation'], ['rotation_vectorized', 'spectral_distortion', 'phase_modulation'], ['negate_vectorized', 'time_flip_vectorized', 'channel_shuffle_vectorized'], ['negate_vectorized', 'time_flip_vectorized', 'time_segment_permutation'], ['negate_vectorized', 'time_flip_vectorized', 'time_shift'], ['negate_vectorized', 'time_flip_vectorized', 'amplify_attenuate'], ['negate_vectorized', 'time_flip_vectorized', 'add_random_noise'], ['negate_vectorized', 'time_flip_vectorized', 'random_phase_shift'], ['negate_vectorized', 'time_flip_vectorized', 'spectral_distortion'], ['negate_vectorized', 'time_flip_vectorized', 'phase_modulation'], ['negate_vectorized', 'channel_shuffle_vectorized', 'time_segment_permutation'], ['negate_vectorized', 'channel_shuffle_vectorized', 'time_shift'], ['negate_vectorized', 'channel_shuffle_vectorized', 'amplify_attenuate'], ['negate_vectorized', 'channel_shuffle_vectorized', 'add_random_noise'], ['negate_vectorized', 'channel_shuffle_vectorized', 'random_phase_shift'], ['negate_vectorized', 'channel_shuffle_vectorized', 'spectral_distortion'], ['negate_vectorized', 'channel_shuffle_vectorized', 'phase_modulation'], ['negate_vectorized', 'time_segment_permutation', 'time_shift'], ['negate_vectorized', 'time_segment_permutation', 'amplify_attenuate'], ['negate_vectorized', 'time_segment_permutation', 'add_random_noise'], ['negate_vectorized', 'time_segment_permutation', 'random_phase_shift'], ['negate_vectorized', 'time_segment_permutation', 'spectral_distortion'], ['negate_vectorized', 'time_segment_permutation', 'phase_modulation'], ['negate_vectorized', 'time_shift', 'amplify_attenuate'], ['negate_vectorized', 'time_shift', 'add_random_noise'], ['negate_vectorized', 'time_shift', 'random_phase_shift'], ['negate_vectorized', 'time_shift', 'spectral_distortion'], ['negate_vectorized', 'time_shift', 'phase_modulation'], ['negate_vectorized', 'amplify_attenuate', 'add_random_noise'], ['negate_vectorized', 'amplify_attenuate', 'random_phase_shift'], ['negate_vectorized', 'amplify_attenuate', 'spectral_distortion'], ['negate_vectorized', 'amplify_attenuate', 'phase_modulation'], ['negate_vectorized', 'add_random_noise', 'random_phase_shift'], ['negate_vectorized', 'add_random_noise', 'spectral_distortion'], ['negate_vectorized', 'add_random_noise', 'phase_modulation'], ['negate_vectorized', 'random_phase_shift', 'spectral_distortion'], ['negate_vectorized', 'random_phase_shift', 'phase_modulation'], ['negate_vectorized', 'spectral_distortion', 'phase_modulation'], ['time_flip_vectorized', 'channel_shuffle_vectorized', 'time_segment_permutation'], ['time_flip_vectorized', 'channel_shuffle_vectorized', 'time_shift'], ['time_flip_vectorized', 'channel_shuffle_vectorized', 'amplify_attenuate'], ['time_flip_vectorized', 'channel_shuffle_vectorized', 'add_random_noise'], ['time_flip_vectorized', 'channel_shuffle_vectorized', 'random_phase_shift'], ['time_flip_vectorized', 'channel_shuffle_vectorized', 'spectral_distortion'], ['time_flip_vectorized', 'channel_shuffle_vectorized', 'phase_modulation'], ['time_flip_vectorized', 'time_segment_permutation', 'time_shift'], ['time_flip_vectorized', 'time_segment_permutation', 'amplify_attenuate'], ['time_flip_vectorized', 'time_segment_permutation', 'add_random_noise'], ['time_flip_vectorized', 'time_segment_permutation', 'random_phase_shift'], ['time_flip_vectorized', 'time_segment_permutation', 'spectral_distortion'], ['time_flip_vectorized', 'time_segment_permutation', 'phase_modulation'], ['time_flip_vectorized', 'time_shift', 'amplify_attenuate'], ['time_flip_vectorized', 'time_shift', 'add_random_noise'], ['time_flip_vectorized', 'time_shift', 'random_phase_shift'], ['time_flip_vectorized', 'time_shift', 'spectral_distortion'], ['time_flip_vectorized', 'time_shift', 'phase_modulation'], ['time_flip_vectorized', 'amplify_attenuate', 'add_random_noise'], ['time_flip_vectorized', 'amplify_attenuate', 'random_phase_shift'], ['time_flip_vectorized', 'amplify_attenuate', 'spectral_distortion'], ['time_flip_vectorized', 'amplify_attenuate', 'phase_modulation'], ['time_flip_vectorized', 'add_random_noise', 'random_phase_shift'], ['time_flip_vectorized', 'add_random_noise', 'spectral_distortion'], ['time_flip_vectorized', 'add_random_noise', 'phase_modulation'], ['time_flip_vectorized', 'random_phase_shift', 'spectral_distortion'], ['time_flip_vectorized', 'random_phase_shift', 'phase_modulation'], ['time_flip_vectorized', 'spectral_distortion', 'phase_modulation'], ['channel_shuffle_vectorized', 'time_segment_permutation', 'time_shift'], ['channel_shuffle_vectorized', 'time_segment_permutation', 'amplify_attenuate'], ['channel_shuffle_vectorized', 'time_segment_permutation', 'add_random_noise'], ['channel_shuffle_vectorized', 'time_segment_permutation', 'random_phase_shift'], ['channel_shuffle_vectorized', 'time_segment_permutation', 'spectral_distortion'], ['channel_shuffle_vectorized', 'time_segment_permutation', 'phase_modulation'], ['channel_shuffle_vectorized', 'time_shift', 'amplify_attenuate'], ['channel_shuffle_vectorized', 'time_shift', 'add_random_noise'], ['channel_shuffle_vectorized', 'time_shift', 'random_phase_shift'], ['channel_shuffle_vectorized', 'time_shift', 'spectral_distortion'], ['channel_shuffle_vectorized', 'time_shift', 'phase_modulation'], ['channel_shuffle_vectorized', 'amplify_attenuate', 'add_random_noise'], ['channel_shuffle_vectorized', 'amplify_attenuate', 'random_phase_shift'], ['channel_shuffle_vectorized', 'amplify_attenuate', 'spectral_distortion'], ['channel_shuffle_vectorized', 'amplify_attenuate', 'phase_modulation'], ['channel_shuffle_vectorized', 'add_random_noise', 'random_phase_shift'], ['channel_shuffle_vectorized', 'add_random_noise', 'spectral_distortion'], ['channel_shuffle_vectorized', 'add_random_noise', 'phase_modulation'], ['channel_shuffle_vectorized', 'random_phase_shift', 'spectral_distortion'], ['channel_shuffle_vectorized', 'random_phase_shift', 'phase_modulation'], ['channel_shuffle_vectorized', 'spectral_distortion', 'phase_modulation'], ['time_segment_permutation', 'time_shift', 'amplify_attenuate'], ['time_segment_permutation', 'time_shift', 'add_random_noise'], ['time_segment_permutation', 'time_shift', 'random_phase_shift'], ['time_segment_permutation', 'time_shift', 'spectral_distortion'], ['time_segment_permutation', 'time_shift', 'phase_modulation'], ['time_segment_permutation', 'amplify_attenuate', 'add_random_noise'], ['time_segment_permutation', 'amplify_attenuate', 'random_phase_shift'], ['time_segment_permutation', 'amplify_attenuate', 'spectral_distortion'], ['time_segment_permutation', 'amplify_attenuate', 'phase_modulation'], ['time_segment_permutation', 'add_random_noise', 'random_phase_shift'], ['time_segment_permutation', 'add_random_noise', 'spectral_distortion'], ['time_segment_permutation', 'add_random_noise', 'phase_modulation'], ['time_segment_permutation', 'random_phase_shift', 'spectral_distortion'], ['time_segment_permutation', 'random_phase_shift', 'phase_modulation'], ['time_segment_permutation', 'spectral_distortion', 'phase_modulation'], ['time_shift', 'amplify_attenuate', 'add_random_noise'], ['time_shift', 'amplify_attenuate', 'random_phase_shift'], ['time_shift', 'amplify_attenuate', 'spectral_distortion'], ['time_shift', 'amplify_attenuate', 'phase_modulation'], ['time_shift', 'add_random_noise', 'random_phase_shift'], ['time_shift', 'add_random_noise', 'spectral_distortion'], ['time_shift', 'add_random_noise', 'phase_modulation'], ['time_shift', 'random_phase_shift', 'spectral_distortion'], ['time_shift', 'random_phase_shift', 'phase_modulation'], ['time_shift', 'spectral_distortion', 'phase_modulation'], ['amplify_attenuate', 'add_random_noise', 'random_phase_shift'], ['amplify_attenuate', 'add_random_noise', 'spectral_distortion'], ['amplify_attenuate', 'add_random_noise', 'phase_modulation'], ['amplify_attenuate', 'random_phase_shift', 'spectral_distortion'], ['amplify_attenuate', 'random_phase_shift', 'phase_modulation'], ['amplify_attenuate', 'spectral_distortion', 'phase_modulation'], ['add_random_noise', 'random_phase_shift', 'spectral_distortion'], ['add_random_noise', 'random_phase_shift', 'phase_modulation'], ['add_random_noise', 'spectral_distortion', 'phase_modulation'], ['random_phase_shift', 'spectral_distortion', 'phase_modulation']]\n"
     ]
    }
   ],
   "source": [
    "import simclr_utils as sm_ut\n",
    "transformations=sm_ut.transform_combinations(3,4)\n",
    "\n",
    "print(transformations)"
   ]
  },
  {
   "cell_type": "code",
   "execution_count": 8,
   "id": "08bdea67-ede8-444d-a3ff-c8520d7efc07",
   "metadata": {},
   "outputs": [],
   "source": [
    "from librep.estimators.simclr.torch.simclr_linear_estimator import Simclr_Linear_Estimator\n",
    "#from librep.estimators.simclr.torch.simclr_full_estimator import Simclr_Linear_Estimator\n"
   ]
  },
  {
   "cell_type": "code",
   "execution_count": 9,
   "id": "0ea26efe-fb55-4c8c-9fa8-b803bf9e0b31",
   "metadata": {},
   "outputs": [
    {
     "name": "stdout",
     "output_type": "stream",
     "text": [
      "../../models/[60, 6]60256['noise_vectorized', 'channel_shuffle_vectorized', 'amplify_attenuate']0.77300100.77_simclr.pth\n"
     ]
    }
   ],
   "source": [
    "linear_model=Simclr_Linear_Estimator(input_shape=input_shape,\n",
    "                        n_components=n_components,\n",
    "                        batch_size_head=batch_size_head,\n",
    "                        transform_funcs=transform_funcs,\n",
    "                        temperature_head=temperature_head, \n",
    "                        epochs_head=epochs_head,\n",
    "                        save_model=False,\n",
    "                        verbose=1,\n",
    "                        total_epochs=50,\n",
    "                        batch_size=32,\n",
    "                        lr=0.001)"
   ]
  },
  {
   "cell_type": "code",
   "execution_count": null,
   "id": "2d7be6e9-50b2-45ad-9b3e-5c6b4d8f56a8",
   "metadata": {},
   "outputs": [],
   "source": []
  },
  {
   "cell_type": "code",
   "execution_count": null,
   "id": "48b0c766-30aa-44aa-a721-a45bfab74a7b",
   "metadata": {},
   "outputs": [],
   "source": []
  },
  {
   "cell_type": "code",
   "execution_count": null,
   "id": "8421e6b7-5f6f-41e7-b75b-7774a3db17e7",
   "metadata": {},
   "outputs": [],
   "source": []
  },
  {
   "cell_type": "code",
   "execution_count": 10,
   "id": "28a7c9d9-0e45-4336-bb66-6eaa718a24cd",
   "metadata": {},
   "outputs": [
    {
     "name": "stdout",
     "output_type": "stream",
     "text": [
      "Epoch [1/50] - Loss: 1.0930266155955497\n",
      "Val Accuracy: 0.7233\n",
      "Epoch [2/50] - Loss: 0.49098489090298\n",
      "Val Accuracy: 0.7949\n",
      "Epoch [3/50] - Loss: 0.41457437129502883\n",
      "Val Accuracy: 0.8455\n",
      "Epoch [4/50] - Loss: 0.34309065727035654\n",
      "Val Accuracy: 0.8596\n",
      "Epoch [5/50] - Loss: 0.2948784183585242\n",
      "Val Accuracy: 0.8750\n",
      "Epoch [6/50] - Loss: 0.2740372527348861\n",
      "Val Accuracy: 0.8553\n",
      "Epoch [7/50] - Loss: 0.2439448887879929\n",
      "Val Accuracy: 0.8610\n",
      "Epoch [8/50] - Loss: 0.2328189799373739\n",
      "Val Accuracy: 0.8792\n",
      "Epoch [9/50] - Loss: 0.20861555033185508\n",
      "Val Accuracy: 0.8820\n",
      "Epoch [10/50] - Loss: 0.19608692159311156\n",
      "Val Accuracy: 0.8834\n",
      "Epoch [11/50] - Loss: 0.18497509538625065\n",
      "Val Accuracy: 0.8666\n",
      "Epoch [12/50] - Loss: 0.20288374760512556\n",
      "Val Accuracy: 0.8539\n",
      "Epoch [13/50] - Loss: 0.18218469456507919\n",
      "Val Accuracy: 0.8961\n",
      "Epoch [14/50] - Loss: 0.1955182578289107\n",
      "Val Accuracy: 0.8778\n",
      "Epoch [15/50] - Loss: 0.17011905691764329\n",
      "Val Accuracy: 0.8820\n",
      "Epoch [16/50] - Loss: 0.1524420204373558\n",
      "Val Accuracy: 0.8904\n",
      "Epoch [17/50] - Loss: 0.15081724444969316\n",
      "Val Accuracy: 0.8792\n",
      "Epoch [18/50] - Loss: 0.15553698044144706\n",
      "Val Accuracy: 0.8876\n",
      "Epoch [19/50] - Loss: 0.14238414708315655\n",
      "Val Accuracy: 0.8947\n",
      "Epoch [20/50] - Loss: 0.14261176583639693\n",
      "Val Accuracy: 0.9045\n",
      "Epoch [21/50] - Loss: 0.13550677638124214\n",
      "Val Accuracy: 0.8904\n",
      "Epoch [22/50] - Loss: 0.14564983640912543\n",
      "Val Accuracy: 0.8722\n",
      "Epoch [23/50] - Loss: 0.13956850193692058\n",
      "Val Accuracy: 0.8919\n",
      "Epoch [24/50] - Loss: 0.13061918023178418\n",
      "Val Accuracy: 0.9003\n",
      "Epoch [25/50] - Loss: 0.1354521903722139\n",
      "Val Accuracy: 0.9059\n",
      "Epoch [26/50] - Loss: 0.12273120771298247\n",
      "Val Accuracy: 0.8848\n",
      "Epoch [27/50] - Loss: 0.11822494641574247\n",
      "Val Accuracy: 0.8862\n",
      "Epoch [28/50] - Loss: 0.10328179425193687\n",
      "Val Accuracy: 0.9031\n",
      "Epoch [29/50] - Loss: 0.09938986982438672\n",
      "Val Accuracy: 0.9031\n",
      "Epoch [30/50] - Loss: 0.08612791519988788\n",
      "Val Accuracy: 0.9003\n",
      "Epoch [31/50] - Loss: 0.08121133874055375\n",
      "Val Accuracy: 0.8989\n",
      "Epoch [32/50] - Loss: 0.1310403850871358\n",
      "Val Accuracy: 0.9031\n",
      "Epoch [33/50] - Loss: 0.10468358882399423\n",
      "Val Accuracy: 0.8848\n",
      "Epoch [34/50] - Loss: 0.07992879960560396\n",
      "Val Accuracy: 0.9031\n",
      "Epoch [35/50] - Loss: 0.10299160353462683\n",
      "Val Accuracy: 0.8497\n",
      "Epoch [36/50] - Loss: 0.11539086416949716\n",
      "Val Accuracy: 0.8862\n",
      "Epoch [37/50] - Loss: 0.10935842107688443\n",
      "Val Accuracy: 0.9101\n",
      "Epoch [38/50] - Loss: 0.07733845662618621\n",
      "Val Accuracy: 0.9129\n",
      "Epoch [39/50] - Loss: 0.0582552742254868\n",
      "Val Accuracy: 0.8989\n",
      "Epoch [40/50] - Loss: 0.060056219055327806\n",
      "Val Accuracy: 0.9157\n",
      "Epoch [41/50] - Loss: 0.05392161775328051\n",
      "Val Accuracy: 0.9003\n",
      "Epoch [42/50] - Loss: 0.054915354158101455\n",
      "Val Accuracy: 0.9199\n",
      "Epoch [43/50] - Loss: 0.045502579540767696\n",
      "Val Accuracy: 0.9045\n",
      "Epoch [44/50] - Loss: 0.05561162560675921\n",
      "Val Accuracy: 0.9045\n",
      "Epoch [45/50] - Loss: 0.03701591936039498\n",
      "Val Accuracy: 0.9101\n",
      "Epoch [46/50] - Loss: 0.030902867626629017\n",
      "Val Accuracy: 0.9087\n",
      "Epoch [47/50] - Loss: 0.03702472168899905\n",
      "Val Accuracy: 0.9171\n",
      "Epoch [48/50] - Loss: 0.0354792465837777\n",
      "Val Accuracy: 0.9171\n",
      "Epoch [49/50] - Loss: 0.03501214816959659\n",
      "Val Accuracy: 0.9213\n",
      "Epoch [50/50] - Loss: 0.03491270277790432\n",
      "Val Accuracy: 0.9185\n",
      "Training finished.\n"
     ]
    },
    {
     "data": {
      "text/plain": [
       "<librep.estimators.simclr.torch.simclr_linear_estimator.Simclr_Linear_Estimator at 0x7fed8a986020>"
      ]
     },
     "execution_count": 10,
     "metadata": {},
     "output_type": "execute_result"
    }
   ],
   "source": [
    "linear_model.fit(X_train,y_train,None,None)\n",
    "\n"
   ]
  },
  {
   "cell_type": "code",
   "execution_count": null,
   "id": "3bd66f8f-e7fc-4abe-acff-c09f919a7b00",
   "metadata": {},
   "outputs": [],
   "source": []
  },
  {
   "cell_type": "code",
   "execution_count": null,
   "id": "85581e8c-b47b-4ce7-a948-80ecb804ef9c",
   "metadata": {},
   "outputs": [],
   "source": []
  },
  {
   "cell_type": "code",
   "execution_count": null,
   "id": "08a32f0b-90b4-4537-a8e6-7651aa1ad24f",
   "metadata": {},
   "outputs": [],
   "source": []
  },
  {
   "cell_type": "code",
   "execution_count": null,
   "id": "769ec51d-e1a4-4c47-b0c3-e7c9eceef9cd",
   "metadata": {},
   "outputs": [],
   "source": []
  }
 ],
 "metadata": {
  "kernelspec": {
   "display_name": "Python 3 (ipykernel)",
   "language": "python",
   "name": "python3"
  },
  "language_info": {
   "codemirror_mode": {
    "name": "ipython",
    "version": 3
   },
   "file_extension": ".py",
   "mimetype": "text/x-python",
   "name": "python",
   "nbconvert_exporter": "python",
   "pygments_lexer": "ipython3",
   "version": "3.10.13"
  }
 },
 "nbformat": 4,
 "nbformat_minor": 5
}
