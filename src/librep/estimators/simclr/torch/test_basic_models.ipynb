{
 "cells": [
  {
   "cell_type": "code",
   "execution_count": 1,
   "id": "1062bcd3-71df-4f75-82ca-56c9c62ed376",
   "metadata": {},
   "outputs": [],
   "source": [
    "import os\n",
    "os.environ[\"CUDA_VISIBLE_DEVICES\"] = \"0\"  \n",
    "from librep.base.estimator import Estimator\n",
    "%load_ext autoreload\n",
    "%autoreload 2\n",
    "from standartized_balanced import StandardizedBalancedDataset\n",
    "import os,torch\n",
    "device = torch.device(\"cuda\" if torch.cuda.is_available() else \"cpu\")\n",
    "\n",
    "def get_data(dataset_name,sensors,normalize_data):    \n",
    "    working_directory=f\"result/{dataset_name}/\"\n",
    "    data_folder = f\"../../../../../../experiment_executor/data/standartized_balanced/{dataset_name}/\"\n",
    "    dataset = StandardizedBalancedDataset(data_folder, sensors=sensors)\n",
    "    X_train, y_train,X_test, y_test,X_val, y_val = dataset.get_all_data(normalize_data=normalize_data, resize_data=True)\n",
    "    return X_train, y_train,X_test, y_test,X_val, y_val\n",
    "        #print(f\"shape: X_train {X_train.shape} --- X_test {X_test.shape} --- X_test {X_val.shape}\")"
   ]
  },
  {
   "cell_type": "code",
   "execution_count": 2,
   "id": "350c47ac-981d-4593-864e-0ceb29cd24c7",
   "metadata": {},
   "outputs": [
    {
     "name": "stdout",
     "output_type": "stream",
     "text": [
      "(60, 6)\n"
     ]
    }
   ],
   "source": [
    "X_train, y_train,X_test, y_test,X_val, y_val=get_data(\"MotionSense\",['accel','gyro'],False)\n",
    "input_shape=X_train[0].shape\n",
    "print(input_shape)"
   ]
  },
  {
   "cell_type": "code",
   "execution_count": 3,
   "id": "bdc0379e-8728-4124-b281-89a3c49cd64c",
   "metadata": {},
   "outputs": [],
   "source": [
    "from librep.transforms.simclr import SimCLR\n"
   ]
  },
  {
   "cell_type": "code",
   "execution_count": 4,
   "id": "4b6127fc-e009-4860-8163-fd29246a51df",
   "metadata": {},
   "outputs": [
    {
     "name": "stdout",
     "output_type": "stream",
     "text": [
      "(60, 6)\n"
     ]
    }
   ],
   "source": [
    "batch_size_head = 256\n",
    "decay_steps_head = 1000\n",
    "epochs_head = 300\n",
    "temperature_head = 0.77\n",
    "input_shape=X_train[0].shape\n",
    "n_components=60\n",
    "print(input_shape)\n",
    "transform_funcs=['noise_vectorized', 'channel_shuffle_vectorized', 'amplify_attenuate']\n",
    "verbose=1\n",
    "import os,torch\n",
    "device = torch.device(\"cuda\" if torch.cuda.is_available() else \"cpu\")\n",
    "\n",
    "simclr = SimCLR(input_shape=input_shape,n_components=n_components,batch_size=batch_size_head, transform_funcs=transform_funcs,\n",
    "                                        temperature=temperature_head, epochs=epochs_head,\n",
    "                                        is_transform_function_vectorized=True,\n",
    "                                        verbose=verbose,device=device)"
   ]
  },
  {
   "cell_type": "code",
   "execution_count": 5,
   "id": "28a7c9d9-0e45-4336-bb66-6eaa718a24cd",
   "metadata": {},
   "outputs": [
    {
     "name": "stdout",
     "output_type": "stream",
     "text": [
      "epoch: 1 loss: 5.750\n",
      "epoch: 2 loss: 5.676\n",
      "epoch: 3 loss: 5.665\n",
      "epoch: 4 loss: 5.656\n",
      "epoch: 5 loss: 5.627\n",
      "epoch: 6 loss: 5.632\n",
      "epoch: 7 loss: 5.442\n",
      "epoch: 8 loss: 5.377\n",
      "epoch: 9 loss: 5.363\n",
      "epoch: 10 loss: 5.322\n",
      "epoch: 11 loss: 5.320\n",
      "epoch: 12 loss: 5.304\n",
      "epoch: 13 loss: 5.291\n",
      "epoch: 14 loss: 5.289\n",
      "epoch: 15 loss: 5.307\n",
      "epoch: 16 loss: 5.280\n",
      "epoch: 17 loss: 5.283\n",
      "epoch: 18 loss: 5.262\n",
      "epoch: 19 loss: 5.263\n",
      "epoch: 20 loss: 5.267\n",
      "epoch: 21 loss: 5.264\n",
      "epoch: 22 loss: 5.236\n",
      "epoch: 23 loss: 5.237\n",
      "epoch: 24 loss: 5.244\n",
      "epoch: 25 loss: 5.223\n",
      "epoch: 26 loss: 5.246\n",
      "epoch: 27 loss: 5.208\n",
      "epoch: 28 loss: 5.225\n",
      "epoch: 29 loss: 5.201\n",
      "epoch: 30 loss: 5.198\n",
      "epoch: 31 loss: 5.192\n",
      "epoch: 32 loss: 5.194\n",
      "epoch: 33 loss: 5.202\n",
      "epoch: 34 loss: 5.196\n",
      "epoch: 35 loss: 5.195\n",
      "epoch: 36 loss: 5.198\n",
      "epoch: 37 loss: 5.197\n",
      "epoch: 38 loss: 5.195\n",
      "epoch: 39 loss: 5.187\n",
      "epoch: 40 loss: 5.188\n",
      "epoch: 41 loss: 5.177\n",
      "epoch: 42 loss: 5.181\n",
      "epoch: 43 loss: 5.175\n",
      "epoch: 44 loss: 5.180\n",
      "epoch: 45 loss: 5.187\n",
      "epoch: 46 loss: 5.175\n",
      "epoch: 47 loss: 5.195\n",
      "epoch: 48 loss: 5.178\n",
      "epoch: 49 loss: 5.178\n",
      "epoch: 50 loss: 5.183\n",
      "epoch: 51 loss: 5.172\n",
      "epoch: 52 loss: 5.181\n",
      "epoch: 53 loss: 5.162\n",
      "epoch: 54 loss: 5.171\n",
      "epoch: 55 loss: 5.180\n",
      "epoch: 56 loss: 5.169\n",
      "epoch: 57 loss: 5.158\n",
      "epoch: 58 loss: 5.152\n",
      "epoch: 59 loss: 5.175\n",
      "epoch: 60 loss: 5.170\n",
      "epoch: 61 loss: 5.164\n",
      "epoch: 62 loss: 5.158\n",
      "epoch: 63 loss: 5.160\n",
      "epoch: 64 loss: 5.158\n",
      "epoch: 65 loss: 5.169\n",
      "epoch: 66 loss: 5.155\n",
      "epoch: 67 loss: 5.164\n",
      "epoch: 68 loss: 5.161\n",
      "Early stopping after 68 epochs with no improvement.\n"
     ]
    }
   ],
   "source": [
    "trained_simclr_model,epoch_wise_loss = simclr.fit(X_train)\n"
   ]
  },
  {
   "cell_type": "code",
   "execution_count": 6,
   "id": "0bde330b-0858-403e-ae0f-ba69b1bafe99",
   "metadata": {},
   "outputs": [
    {
     "name": "stdout",
     "output_type": "stream",
     "text": [
      "SimCLRHead(\n",
      "  (base_model): BaseModel(\n",
      "    (conv1): Conv1d(6, 32, kernel_size=(24,), stride=(1,))\n",
      "    (dropout1): Dropout(p=0.1, inplace=False)\n",
      "    (conv2): Conv1d(32, 64, kernel_size=(16,), stride=(1,))\n",
      "    (dropout2): Dropout(p=0.1, inplace=False)\n",
      "    (conv3): Conv1d(64, 60, kernel_size=(8,), stride=(1,))\n",
      "    (dropout3): Dropout(p=0.1, inplace=False)\n",
      "    (global_max_pooling): AdaptiveMaxPool1d(output_size=1)\n",
      "    (relu): ReLU()\n",
      "  )\n",
      "  (projection_1): Linear(in_features=60, out_features=256, bias=True)\n",
      "  (relu): ReLU()\n",
      "  (projection_2): Linear(in_features=256, out_features=128, bias=True)\n",
      "  (projection_3): Linear(in_features=128, out_features=50, bias=True)\n",
      ")\n"
     ]
    }
   ],
   "source": [
    "print(simclr.model)"
   ]
  },
  {
   "cell_type": "code",
   "execution_count": 7,
   "id": "73d2ec39-a98b-4709-8a18-a5e37dde5e68",
   "metadata": {},
   "outputs": [
    {
     "name": "stdout",
     "output_type": "stream",
     "text": [
      "(3558, 60)\n",
      "(3558, 60, 6)\n",
      "0.8832391713747646               precision    recall  f1-score   support\n",
      "\n",
      "           0       0.91      0.81      0.85       177\n",
      "           1       0.83      0.91      0.87       177\n",
      "           2       0.79      0.95      0.86       177\n",
      "           3       0.91      0.76      0.83       177\n",
      "           4       0.90      0.91      0.90       177\n",
      "           5       0.99      0.96      0.97       177\n",
      "\n",
      "    accuracy                           0.88      1062\n",
      "   macro avg       0.89      0.88      0.88      1062\n",
      "weighted avg       0.89      0.88      0.88      1062\n",
      "\n"
     ]
    }
   ],
   "source": [
    "data=simclr.transform(X_train)\n",
    "data_t=simclr.transform(X_test)\n",
    "print(data.shape)\n",
    "print(X_train.shape)\n",
    "from sklearn.ensemble import RandomForestClassifier\n",
    "\n",
    "# Crear un clasificador Random Forest\n",
    "clf = RandomForestClassifier(n_estimators=200, random_state=42)  # Puedes ajustar los hiperparámetros según sea necesario\n",
    "\n",
    "# Entrenar el clasificador\n",
    "clf.fit(data, y_train)\n",
    "etiquetas_pred = clf.predict(data_t)\n",
    "from sklearn.metrics import accuracy_score, classification_report\n",
    "accuracy = accuracy_score(y_test, etiquetas_pred)\n",
    "report = classification_report(y_test, etiquetas_pred)\n",
    "print(accuracy,report)"
   ]
  },
  {
   "cell_type": "code",
   "execution_count": 8,
   "id": "c27ba06a-bf86-4df0-a17c-8161131521c3",
   "metadata": {},
   "outputs": [
    {
     "name": "stdout",
     "output_type": "stream",
     "text": [
      "(3558, 50)\n",
      "(3558, 60, 6)\n",
      "0.8559322033898306               precision    recall  f1-score   support\n",
      "\n",
      "           0       0.82      0.77      0.80       177\n",
      "           1       0.78      0.82      0.80       177\n",
      "           2       0.81      0.92      0.86       177\n",
      "           3       0.90      0.75      0.82       177\n",
      "           4       0.84      0.92      0.87       177\n",
      "           5       1.00      0.95      0.98       177\n",
      "\n",
      "    accuracy                           0.86      1062\n",
      "   macro avg       0.86      0.86      0.86      1062\n",
      "weighted avg       0.86      0.86      0.86      1062\n",
      "\n"
     ]
    }
   ],
   "source": [
    "data=simclr.predict(X_train)\n",
    "data_t=simclr.predict(X_test)\n",
    "print(data.shape)\n",
    "print(X_train.shape)\n",
    "from sklearn.ensemble import RandomForestClassifier\n",
    "\n",
    "# Crear un clasificador Random Forest\n",
    "clf = RandomForestClassifier(n_estimators=100, random_state=42)  # Puedes ajustar los hiperparámetros según sea necesario\n",
    "\n",
    "# Entrenar el clasificador\n",
    "clf.fit(data, y_train)\n",
    "etiquetas_pred = clf.predict(data_t)\n",
    "from sklearn.metrics import accuracy_score, classification_report\n",
    "accuracy = accuracy_score(y_test, etiquetas_pred)\n",
    "report = classification_report(y_test, etiquetas_pred)\n",
    "print(accuracy,report)"
   ]
  },
  {
   "cell_type": "code",
   "execution_count": null,
   "id": "3bd66f8f-e7fc-4abe-acff-c09f919a7b00",
   "metadata": {},
   "outputs": [],
   "source": []
  },
  {
   "cell_type": "code",
   "execution_count": null,
   "id": "85581e8c-b47b-4ce7-a948-80ecb804ef9c",
   "metadata": {},
   "outputs": [],
   "source": []
  },
  {
   "cell_type": "code",
   "execution_count": null,
   "id": "08a32f0b-90b4-4537-a8e6-7651aa1ad24f",
   "metadata": {},
   "outputs": [],
   "source": []
  }
 ],
 "metadata": {
  "kernelspec": {
   "display_name": "Python 3 (ipykernel)",
   "language": "python",
   "name": "python3"
  },
  "language_info": {
   "codemirror_mode": {
    "name": "ipython",
    "version": 3
   },
   "file_extension": ".py",
   "mimetype": "text/x-python",
   "name": "python",
   "nbconvert_exporter": "python",
   "pygments_lexer": "ipython3",
   "version": "3.10.13"
  }
 },
 "nbformat": 4,
 "nbformat_minor": 5
}
