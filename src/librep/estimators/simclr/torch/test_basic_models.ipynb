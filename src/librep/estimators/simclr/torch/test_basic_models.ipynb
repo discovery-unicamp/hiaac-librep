{
 "cells": [
  {
   "cell_type": "code",
   "execution_count": 1,
   "id": "1062bcd3-71df-4f75-82ca-56c9c62ed376",
   "metadata": {},
   "outputs": [
    {
     "name": "stderr",
     "output_type": "stream",
     "text": [
      "/home/amparo/unicamp_hyper_2/M4-Framework-Experiments/experiments/.local/lib/python3.10/site-packages/tqdm/auto.py:21: TqdmWarning: IProgress not found. Please update jupyter and ipywidgets. See https://ipywidgets.readthedocs.io/en/stable/user_install.html\n",
      "  from .autonotebook import tqdm as notebook_tqdm\n"
     ]
    }
   ],
   "source": [
    "import os\n",
    "os.environ[\"CUDA_VISIBLE_DEVICES\"] = \"0\"  \n",
    "from librep.base.estimator import Estimator\n",
    "%load_ext autoreload\n",
    "%autoreload 2\n",
    "from standartized_balanced import StandardizedBalancedDataset\n",
    "import os,torch\n",
    "device = torch.device(\"cuda\" if torch.cuda.is_available() else \"cpu\")\n",
    "\n",
    "def get_data(dataset_name,sensors,normalize_data):    \n",
    "    working_directory=f\"result/{dataset_name}/\"\n",
    "    data_folder = f\"../../../../../../experiment_executor/data/standartized_balanced/{dataset_name}/\"\n",
    "    dataset = StandardizedBalancedDataset(data_folder, sensors=sensors)\n",
    "    X_train, y_train,X_test, y_test,X_val, y_val = dataset.get_all_data(normalize_data=normalize_data, resize_data=True)\n",
    "    return X_train, y_train,X_test, y_test,X_val, y_val\n",
    "        #print(f\"shape: X_train {X_train.shape} --- X_test {X_test.shape} --- X_test {X_val.shape}\")"
   ]
  },
  {
   "cell_type": "code",
   "execution_count": 2,
   "id": "350c47ac-981d-4593-864e-0ceb29cd24c7",
   "metadata": {},
   "outputs": [
    {
     "name": "stdout",
     "output_type": "stream",
     "text": [
      "(60, 6)\n"
     ]
    }
   ],
   "source": [
    "X_train, y_train,X_test, y_test,X_val, y_val=get_data(\"MotionSense\",['accel','gyro'],False)\n",
    "input_shape=X_train[0].shape\n",
    "print(input_shape)"
   ]
  },
  {
   "cell_type": "code",
   "execution_count": 3,
   "id": "bdc0379e-8728-4124-b281-89a3c49cd64c",
   "metadata": {},
   "outputs": [
    {
     "name": "stdout",
     "output_type": "stream",
     "text": [
      "[[0, 1, 2], [0, 1, 3], [0, 1, 4], [0, 1, 5], [0, 1, 6], [0, 1, 7], [0, 1, 8], [0, 1, 9], [0, 1, 10], [0, 1, 11], [0, 2, 3], [0, 2, 4], [0, 2, 5], [0, 2, 6], [0, 2, 7], [0, 2, 8], [0, 2, 9], [0, 2, 10], [0, 2, 11], [0, 3, 4], [0, 3, 5], [0, 3, 6], [0, 3, 7], [0, 3, 8], [0, 3, 9], [0, 3, 10], [0, 3, 11], [0, 4, 5], [0, 4, 6], [0, 4, 7], [0, 4, 8], [0, 4, 9], [0, 4, 10], [0, 4, 11], [0, 5, 6], [0, 5, 7], [0, 5, 8], [0, 5, 9], [0, 5, 10], [0, 5, 11], [0, 6, 7], [0, 6, 8], [0, 6, 9], [0, 6, 10], [0, 6, 11], [0, 7, 8], [0, 7, 9], [0, 7, 10], [0, 7, 11], [0, 8, 9], [0, 8, 10], [0, 8, 11], [0, 9, 10], [0, 9, 11], [0, 10, 11], [1, 2, 3], [1, 2, 4], [1, 2, 5], [1, 2, 6], [1, 2, 7], [1, 2, 8], [1, 2, 9], [1, 2, 10], [1, 2, 11], [1, 3, 4], [1, 3, 5], [1, 3, 6], [1, 3, 7], [1, 3, 8], [1, 3, 9], [1, 3, 10], [1, 3, 11], [1, 4, 5], [1, 4, 6], [1, 4, 7], [1, 4, 8], [1, 4, 9], [1, 4, 10], [1, 4, 11], [1, 5, 6], [1, 5, 7], [1, 5, 8], [1, 5, 9], [1, 5, 10], [1, 5, 11], [1, 6, 7], [1, 6, 8], [1, 6, 9], [1, 6, 10], [1, 6, 11], [1, 7, 8], [1, 7, 9], [1, 7, 10], [1, 7, 11], [1, 8, 9], [1, 8, 10], [1, 8, 11], [1, 9, 10], [1, 9, 11], [1, 10, 11], [2, 3, 4], [2, 3, 5], [2, 3, 6], [2, 3, 7], [2, 3, 8], [2, 3, 9], [2, 3, 10], [2, 3, 11], [2, 4, 5], [2, 4, 6], [2, 4, 7], [2, 4, 8], [2, 4, 9], [2, 4, 10], [2, 4, 11], [2, 5, 6], [2, 5, 7], [2, 5, 8], [2, 5, 9], [2, 5, 10], [2, 5, 11], [2, 6, 7], [2, 6, 8], [2, 6, 9], [2, 6, 10], [2, 6, 11], [2, 7, 8], [2, 7, 9], [2, 7, 10], [2, 7, 11], [2, 8, 9], [2, 8, 10], [2, 8, 11], [2, 9, 10], [2, 9, 11], [2, 10, 11], [3, 4, 5], [3, 4, 6], [3, 4, 7], [3, 4, 8], [3, 4, 9], [3, 4, 10], [3, 4, 11], [3, 5, 6], [3, 5, 7], [3, 5, 8], [3, 5, 9], [3, 5, 10], [3, 5, 11], [3, 6, 7], [3, 6, 8], [3, 6, 9], [3, 6, 10], [3, 6, 11], [3, 7, 8], [3, 7, 9], [3, 7, 10], [3, 7, 11], [3, 8, 9], [3, 8, 10], [3, 8, 11], [3, 9, 10], [3, 9, 11], [3, 10, 11], [4, 5, 6], [4, 5, 7], [4, 5, 8], [4, 5, 9], [4, 5, 10], [4, 5, 11], [4, 6, 7], [4, 6, 8], [4, 6, 9], [4, 6, 10], [4, 6, 11], [4, 7, 8], [4, 7, 9], [4, 7, 10], [4, 7, 11], [4, 8, 9], [4, 8, 10], [4, 8, 11], [4, 9, 10], [4, 9, 11], [4, 10, 11], [5, 6, 7], [5, 6, 8], [5, 6, 9], [5, 6, 10], [5, 6, 11], [5, 7, 8], [5, 7, 9], [5, 7, 10], [5, 7, 11], [5, 8, 9], [5, 8, 10], [5, 8, 11], [5, 9, 10], [5, 9, 11], [5, 10, 11], [6, 7, 8], [6, 7, 9], [6, 7, 10], [6, 7, 11], [6, 8, 9], [6, 8, 10], [6, 8, 11], [6, 9, 10], [6, 9, 11], [6, 10, 11], [7, 8, 9], [7, 8, 10], [7, 8, 11], [7, 9, 10], [7, 9, 11], [7, 10, 11], [8, 9, 10], [8, 9, 11], [8, 10, 11], [9, 10, 11]]\n"
     ]
    }
   ],
   "source": [
    "from librep.transforms.simclr import SimCLR\n",
    "import simclr_utils as sm_ut\n",
    "transformations=sm_ut.transform_combinations(3,4)\n",
    "\n",
    "print(transformations)"
   ]
  },
  {
   "cell_type": "code",
   "execution_count": null,
   "id": "4b6127fc-e009-4860-8163-fd29246a51df",
   "metadata": {},
   "outputs": [
    {
     "name": "stdout",
     "output_type": "stream",
     "text": [
      "(60, 6)\n",
      "[0, 1, 2]\n",
      "exist model\n",
      "[0, 1, 3]\n",
      "[0, 1, 4]\n",
      "[0, 1, 5]\n",
      "[0, 1, 6]\n",
      "[0, 1, 7]\n",
      "[0, 1, 8]\n",
      "[0, 1, 9]\n"
     ]
    },
    {
     "name": "stderr",
     "output_type": "stream",
     "text": [
      "/home/amparo/unicamp_hyper_2/M4-Framework-Experiments/experiments/.local/lib/python3.10/site-packages/librep/estimators/simclr/torch/dataset_simclr.py:42: UserWarning: Casting complex values to real discards the imaginary part (Triggered internally at ../aten/src/ATen/native/Copy.cpp:299.)\n",
      "  transform_1 = torch.tensor(transform_1, dtype=torch.float32).to(self.device)\n"
     ]
    },
    {
     "name": "stdout",
     "output_type": "stream",
     "text": [
      "[0, 1, 10]\n",
      "[0, 1, 11]\n",
      "[0, 2, 3]\n",
      "[0, 2, 4]\n",
      "[0, 2, 5]\n",
      "[0, 2, 6]\n",
      "[0, 2, 7]\n",
      "[0, 2, 8]\n",
      "[0, 2, 9]\n",
      "[0, 2, 10]\n",
      "[0, 2, 11]\n",
      "[0, 3, 4]\n",
      "[0, 3, 5]\n",
      "[0, 3, 6]\n",
      "[0, 3, 7]\n",
      "[0, 3, 8]\n",
      "[0, 3, 9]\n",
      "[0, 3, 10]\n",
      "[0, 3, 11]\n",
      "[0, 4, 5]\n",
      "[0, 4, 6]\n",
      "[0, 4, 7]\n",
      "[0, 4, 8]\n",
      "[0, 4, 9]\n",
      "[0, 4, 10]\n",
      "[0, 4, 11]\n",
      "[0, 5, 6]\n",
      "[0, 5, 7]\n",
      "[0, 5, 8]\n",
      "[0, 5, 9]\n",
      "[0, 5, 10]\n",
      "[0, 5, 11]\n",
      "[0, 6, 7]\n",
      "[0, 6, 8]\n",
      "[0, 6, 9]\n",
      "[0, 6, 10]\n",
      "[0, 6, 11]\n",
      "[0, 7, 8]\n",
      "[0, 7, 9]\n",
      "[0, 7, 10]\n",
      "[0, 7, 11]\n",
      "[0, 8, 9]\n",
      "[0, 8, 10]\n",
      "[0, 8, 11]\n",
      "[0, 9, 10]\n",
      "[0, 9, 11]\n",
      "[0, 10, 11]\n",
      "[1, 2, 3]\n",
      "[1, 2, 4]\n",
      "[1, 2, 5]\n",
      "[1, 2, 6]\n",
      "[1, 2, 7]\n",
      "[1, 2, 8]\n",
      "[1, 2, 9]\n",
      "[1, 2, 10]\n",
      "[1, 2, 11]\n",
      "[1, 3, 4]\n",
      "[1, 3, 5]\n",
      "[1, 3, 6]\n",
      "[1, 3, 7]\n",
      "[1, 3, 8]\n",
      "[1, 3, 9]\n",
      "[1, 3, 10]\n",
      "[1, 3, 11]\n",
      "[1, 4, 5]\n",
      "[1, 4, 6]\n",
      "[1, 4, 7]\n",
      "[1, 4, 8]\n",
      "[1, 4, 9]\n",
      "[1, 4, 10]\n",
      "[1, 4, 11]\n",
      "[1, 5, 6]\n",
      "[1, 5, 7]\n",
      "[1, 5, 8]\n",
      "[1, 5, 9]\n",
      "[1, 5, 10]\n",
      "[1, 5, 11]\n",
      "[1, 6, 7]\n",
      "[1, 6, 8]\n",
      "[1, 6, 9]\n",
      "[1, 6, 10]\n",
      "[1, 6, 11]\n",
      "[1, 7, 8]\n",
      "[1, 7, 9]\n",
      "[1, 7, 10]\n",
      "[1, 7, 11]\n",
      "[1, 8, 9]\n",
      "[1, 8, 10]\n",
      "[1, 8, 11]\n",
      "[1, 9, 10]\n",
      "[1, 9, 11]\n",
      "[1, 10, 11]\n",
      "[2, 3, 4]\n",
      "[2, 3, 5]\n",
      "[2, 3, 6]\n",
      "[2, 3, 7]\n",
      "[2, 3, 8]\n",
      "[2, 3, 9]\n",
      "[2, 3, 10]\n",
      "[2, 3, 11]\n",
      "[2, 4, 5]\n",
      "[2, 4, 6]\n",
      "[2, 4, 7]\n",
      "[2, 4, 8]\n",
      "[2, 4, 9]\n",
      "[2, 4, 10]\n",
      "[2, 4, 11]\n",
      "[2, 5, 6]\n",
      "[2, 5, 7]\n",
      "[2, 5, 8]\n",
      "[2, 5, 9]\n",
      "[2, 5, 10]\n",
      "[2, 5, 11]\n",
      "[2, 6, 7]\n",
      "[2, 6, 8]\n",
      "[2, 6, 9]\n",
      "[2, 6, 10]\n",
      "[2, 6, 11]\n",
      "[2, 7, 8]\n",
      "[2, 7, 9]\n",
      "[2, 7, 10]\n",
      "[2, 7, 11]\n",
      "[2, 8, 9]\n",
      "[2, 8, 10]\n",
      "[2, 8, 11]\n",
      "[2, 9, 10]\n",
      "[2, 9, 11]\n",
      "[2, 10, 11]\n",
      "[3, 4, 5]\n",
      "[3, 4, 6]\n",
      "[3, 4, 7]\n",
      "[3, 4, 8]\n"
     ]
    }
   ],
   "source": [
    "batch_size_head = 256\n",
    "decay_steps_head = 1000\n",
    "epochs_head = 300\n",
    "temperature_head = 0.77\n",
    "input_shape=X_train[0].shape\n",
    "n_components=60\n",
    "print(input_shape)\n",
    "#transformations=[['noise', 'channel_shuffle', 'amplify_attenuate']]\n",
    "verbose=0\n",
    "import os,torch\n",
    "device = torch.device(\"cuda\" if torch.cuda.is_available() else \"cpu\")\n",
    "\n",
    "for transform_funcs in transformations:\n",
    "\n",
    "    simclr = SimCLR(dataset=\"motionsense\",input_shape=input_shape,n_components=n_components,batch_size=batch_size_head, transform_funcs=transform_funcs,\n",
    "                                            temperature=temperature_head, epochs=epochs_head,\n",
    "                                            \n",
    "                                            verbose=verbose,device=device)\n",
    "    print(transform_funcs)\n",
    "    \n",
    "    trained_simclr_model,epoch_wise_loss = simclr.fit(X_train)\n"
   ]
  },
  {
   "cell_type": "code",
   "execution_count": null,
   "id": "28a7c9d9-0e45-4336-bb66-6eaa718a24cd",
   "metadata": {},
   "outputs": [],
   "source": []
  },
  {
   "cell_type": "code",
   "execution_count": null,
   "id": "0bde330b-0858-403e-ae0f-ba69b1bafe99",
   "metadata": {},
   "outputs": [],
   "source": [
    "print(simclr.model)"
   ]
  },
  {
   "cell_type": "code",
   "execution_count": null,
   "id": "73d2ec39-a98b-4709-8a18-a5e37dde5e68",
   "metadata": {},
   "outputs": [],
   "source": [
    "data=simclr.transform(X_train)\n",
    "data_t=simclr.transform(X_test)\n",
    "print(data.shape)\n",
    "print(X_train.shape)\n",
    "from sklearn.ensemble import RandomForestClassifier\n",
    "\n",
    "clf = RandomForestClassifier(n_estimators=200, random_state=42)  \n",
    "# Entrenar el clasificador\n",
    "clf.fit(data, y_train)\n",
    "etiquetas_pred = clf.predict(data_t)\n",
    "from sklearn.metrics import accuracy_score, classification_report\n",
    "accuracy = accuracy_score(y_test, etiquetas_pred)\n",
    "report = classification_report(y_test, etiquetas_pred)\n",
    "print(accuracy,report)"
   ]
  },
  {
   "cell_type": "code",
   "execution_count": null,
   "id": "c27ba06a-bf86-4df0-a17c-8161131521c3",
   "metadata": {},
   "outputs": [],
   "source": [
    "data=simclr.predict(X_train)\n",
    "data_t=simclr.predict(X_test)\n",
    "print(data.shape)\n",
    "print(X_train.shape)\n",
    "from sklearn.ensemble import RandomForestClassifier\n",
    "\n",
    "# Crear un clasificador Random Forest\n",
    "clf = RandomForestClassifier(n_estimators=100, random_state=42)  # Puedes ajustar los hiperparámetros según sea necesario\n",
    "\n",
    "# Entrenar el clasificador\n",
    "clf.fit(data, y_train)\n",
    "etiquetas_pred = clf.predict(data_t)\n",
    "from sklearn.metrics import accuracy_score, classification_report\n",
    "accuracy = accuracy_score(y_test, etiquetas_pred)\n",
    "report = classification_report(y_test, etiquetas_pred)\n",
    "print(accuracy,report)"
   ]
  },
  {
   "cell_type": "code",
   "execution_count": null,
   "id": "3bd66f8f-e7fc-4abe-acff-c09f919a7b00",
   "metadata": {},
   "outputs": [],
   "source": []
  },
  {
   "cell_type": "code",
   "execution_count": null,
   "id": "85581e8c-b47b-4ce7-a948-80ecb804ef9c",
   "metadata": {},
   "outputs": [],
   "source": []
  },
  {
   "cell_type": "code",
   "execution_count": null,
   "id": "08a32f0b-90b4-4537-a8e6-7651aa1ad24f",
   "metadata": {},
   "outputs": [],
   "source": []
  }
 ],
 "metadata": {
  "kernelspec": {
   "display_name": "Python 3 (ipykernel)",
   "language": "python",
   "name": "python3"
  },
  "language_info": {
   "codemirror_mode": {
    "name": "ipython",
    "version": 3
   },
   "file_extension": ".py",
   "mimetype": "text/x-python",
   "name": "python",
   "nbconvert_exporter": "python",
   "pygments_lexer": "ipython3",
   "version": "3.10.13"
  }
 },
 "nbformat": 4,
 "nbformat_minor": 5
}
