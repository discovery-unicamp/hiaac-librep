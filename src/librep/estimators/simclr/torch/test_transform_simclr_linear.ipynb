{
 "cells": [
  {
   "cell_type": "code",
   "execution_count": 1,
   "id": "1062bcd3-71df-4f75-82ca-56c9c62ed376",
   "metadata": {},
   "outputs": [
    {
     "name": "stderr",
     "output_type": "stream",
     "text": [
      "/usr/local/lib/python3.10/site-packages/tqdm/auto.py:21: TqdmWarning: IProgress not found. Please update jupyter and ipywidgets. See https://ipywidgets.readthedocs.io/en/stable/user_install.html\n",
      "  from .autonotebook import tqdm as notebook_tqdm\n"
     ]
    }
   ],
   "source": [
    "import os\n",
    "os.environ[\"CUDA_VISIBLE_DEVICES\"] = \"0\"  \n",
    "from librep.base.estimator import Estimator\n",
    "%load_ext autoreload\n",
    "%autoreload 2\n",
    "from standartized_balanced import StandardizedBalancedDataset\n",
    "import os,torch\n",
    "device = torch.device(\"cuda\" if torch.cuda.is_available() else \"cpu\")\n",
    "\n",
    "def get_data(dataset_name,sensors,normalize_data):    \n",
    "    working_directory=f\"result/{dataset_name}/\"\n",
    "    data_folder = f\"../../../../../../experiment_executor/data/standartized_balanced/{dataset_name}/\"\n",
    "    dataset = StandardizedBalancedDataset(data_folder, sensors=sensors)\n",
    "    X_train, y_train,X_test, y_test,X_val, y_val = dataset.get_all_data(normalize_data=normalize_data, resize_data=True)\n",
    "    return X_train, y_train,X_test, y_test,X_val, y_val\n",
    "        #print(f\"shape: X_train {X_train.shape} --- X_test {X_test.shape} --- X_test {X_val.shape}\")"
   ]
  },
  {
   "cell_type": "code",
   "execution_count": 2,
   "id": "350c47ac-981d-4593-864e-0ceb29cd24c7",
   "metadata": {},
   "outputs": [
    {
     "name": "stdout",
     "output_type": "stream",
     "text": [
      "(60, 6)\n"
     ]
    }
   ],
   "source": [
    "X_train, y_train,X_test, y_test,X_val, y_val=get_data(\"UCI\",['accel','gyro'],False)\n",
    "input_shape=X_train[0].shape\n",
    "print(input_shape)"
   ]
  },
  {
   "cell_type": "code",
   "execution_count": 3,
   "id": "f3916467-725d-4fed-9dd3-8eec5938078a",
   "metadata": {},
   "outputs": [],
   "source": [
    "def train_RandomForestClassifier(simclr_linear):\n",
    "    data=simclr_linear.transform(X_train)\n",
    "    data_t=simclr_linear.transform(X_test)\n",
    "    print(data.shape)\n",
    "    print(X_train.shape)\n",
    "    from sklearn.ensemble import RandomForestClassifier\n",
    "    \n",
    "    clf = RandomForestClassifier(n_estimators=200)  \n",
    "    # Entrenar el clasificador\n",
    "    clf.fit(data, y_train)\n",
    "    etiquetas_pred = clf.predict(data_t)\n",
    "    from sklearn.metrics import accuracy_score, classification_report\n",
    "    accuracy = accuracy_score(y_test, etiquetas_pred)\n",
    "    report = classification_report(y_test, etiquetas_pred)\n",
    "    print(accuracy,report)\n",
    "    return accuracy"
   ]
  },
  {
   "cell_type": "code",
   "execution_count": 4,
   "id": "bdc0379e-8728-4124-b281-89a3c49cd64c",
   "metadata": {},
   "outputs": [],
   "source": [
    "#import simclr_utils as sm_ut\n",
    "#transformations=sm_ut.transform_combinations(3,4)\n",
    "\n",
    "#print(transformations)"
   ]
  },
  {
   "cell_type": "code",
   "execution_count": 5,
   "id": "4b6127fc-e009-4860-8163-fd29246a51df",
   "metadata": {},
   "outputs": [
    {
     "name": "stdout",
     "output_type": "stream",
     "text": [
      "(60, 6)\n"
     ]
    },
    {
     "ename": "NameError",
     "evalue": "name 'transformations' is not defined",
     "output_type": "error",
     "traceback": [
      "\u001b[0;31m---------------------------------------------------------------------------\u001b[0m",
      "\u001b[0;31mNameError\u001b[0m                                 Traceback (most recent call last)",
      "Cell \u001b[0;32mIn[5], line 17\u001b[0m\n\u001b[1;32m     13\u001b[0m device \u001b[38;5;241m=\u001b[39m torch\u001b[38;5;241m.\u001b[39mdevice(\u001b[38;5;124m\"\u001b[39m\u001b[38;5;124mcuda\u001b[39m\u001b[38;5;124m\"\u001b[39m \u001b[38;5;28;01mif\u001b[39;00m torch\u001b[38;5;241m.\u001b[39mcuda\u001b[38;5;241m.\u001b[39mis_available() \u001b[38;5;28;01melse\u001b[39;00m \u001b[38;5;124m\"\u001b[39m\u001b[38;5;124mcpu\u001b[39m\u001b[38;5;124m\"\u001b[39m)\n\u001b[1;32m     15\u001b[0m \u001b[38;5;66;03m#transformations=sm_ut.transform_combinations(3,4)\u001b[39;00m\n\u001b[0;32m---> 17\u001b[0m \u001b[38;5;28;01mfor\u001b[39;00m transform_funcs \u001b[38;5;129;01min\u001b[39;00m \u001b[43mtransformations\u001b[49m:\n\u001b[1;32m     19\u001b[0m     simclr_linear \u001b[38;5;241m=\u001b[39m SimCLR_linear(dataset\u001b[38;5;241m=\u001b[39m\u001b[38;5;124m'\u001b[39m\u001b[38;5;124mmotionsense\u001b[39m\u001b[38;5;124m'\u001b[39m,input_shape\u001b[38;5;241m=\u001b[39minput_shape,\n\u001b[1;32m     20\u001b[0m                         n_components\u001b[38;5;241m=\u001b[39mn_components,\n\u001b[1;32m     21\u001b[0m                         batch_size_head\u001b[38;5;241m=\u001b[39mbatch_size_head,\n\u001b[0;32m   (...)\u001b[0m\n\u001b[1;32m     32\u001b[0m                         save_reducer\u001b[38;5;241m=\u001b[39m\u001b[38;5;28;01mFalse\u001b[39;00m,\n\u001b[1;32m     33\u001b[0m                         lr\u001b[38;5;241m=\u001b[39m\u001b[38;5;241m0.001\u001b[39m)\n\u001b[1;32m     34\u001b[0m     \u001b[38;5;28mprint\u001b[39m(transform_funcs)\n",
      "\u001b[0;31mNameError\u001b[0m: name 'transformations' is not defined"
     ]
    }
   ],
   "source": [
    "from librep.transforms.simclr_linear import SimCLR_linear\n",
    "\n",
    "batch_size_head = 256\n",
    "decay_steps_head = 1000\n",
    "epochs_head = 300\n",
    "temperature_head = 0.77\n",
    "input_shape=X_train[0].shape\n",
    "n_components=60\n",
    "print(input_shape)\n",
    "transform_funcs=[1, 2, 3]\n",
    "verbose=0\n",
    "import os,torch\n",
    "device = torch.device(\"cuda\" if torch.cuda.is_available() else \"cpu\")\n",
    "\n",
    "#transformations=sm_ut.transform_combinations(3,4)\n",
    "\n",
    "for transform_funcs in transformations:\n",
    "\n",
    "    simclr_linear = SimCLR_linear(dataset='motionsense',input_shape=input_shape,\n",
    "                        n_components=n_components,\n",
    "                        batch_size_head=batch_size_head,\n",
    "                        transform_funcs=transform_funcs,\n",
    "                        temperature_head=temperature_head, \n",
    "                        epochs_head=epochs_head,\n",
    "                        save_model=False,\n",
    "                        verbose=0,\n",
    "                              patience=10,\n",
    "                              min_delta=0.01,\n",
    "                        total_epochs=50,\n",
    "                        batch_size=32,\n",
    "                              device=device,\n",
    "                        save_reducer=False,\n",
    "                        lr=0.001)\n",
    "    print(transform_funcs)\n",
    "    \n",
    "    trained_simclr_model = simclr_linear.fit(X_train,y_train)\n",
    "    train_RandomForestClassifier(simclr_linear)\n"
   ]
  },
  {
   "cell_type": "code",
   "execution_count": null,
   "id": "28a7c9d9-0e45-4336-bb66-6eaa718a24cd",
   "metadata": {},
   "outputs": [],
   "source": []
  },
  {
   "cell_type": "code",
   "execution_count": null,
   "id": "0bde330b-0858-403e-ae0f-ba69b1bafe99",
   "metadata": {},
   "outputs": [],
   "source": [
    "#print(simclr.model)"
   ]
  },
  {
   "cell_type": "code",
   "execution_count": null,
   "id": "73d2ec39-a98b-4709-8a18-a5e37dde5e68",
   "metadata": {},
   "outputs": [],
   "source": []
  },
  {
   "cell_type": "code",
   "execution_count": null,
   "id": "c27ba06a-bf86-4df0-a17c-8161131521c3",
   "metadata": {},
   "outputs": [],
   "source": [
    "data=simclr_linear.transform(X_train)\n",
    "data_t=simclr_linear.transform(X_test)\n",
    "print(data.shape)\n",
    "print(X_train.shape)\n",
    "from sklearn.ensemble import RandomForestClassifier\n",
    "\n",
    "# Crear un clasificador Random Forest\n",
    "clf = RandomForestClassifier(n_estimators=100, random_state=42)  # Puedes ajustar los hiperparámetros según sea necesario\n",
    "\n",
    "# Entrenar el clasificador\n",
    "clf.fit(data, y_train)\n",
    "etiquetas_pred = clf.predict(data_t)\n",
    "from sklearn.metrics import accuracy_score, classification_report\n",
    "accuracy = accuracy_score(y_test, etiquetas_pred)\n",
    "report = classification_report(y_test, etiquetas_pred)\n",
    "print(accuracy,report)"
   ]
  },
  {
   "cell_type": "code",
   "execution_count": null,
   "id": "3bd66f8f-e7fc-4abe-acff-c09f919a7b00",
   "metadata": {},
   "outputs": [],
   "source": []
  },
  {
   "cell_type": "code",
   "execution_count": null,
   "id": "85581e8c-b47b-4ce7-a948-80ecb804ef9c",
   "metadata": {},
   "outputs": [],
   "source": []
  },
  {
   "cell_type": "code",
   "execution_count": null,
   "id": "08a32f0b-90b4-4537-a8e6-7651aa1ad24f",
   "metadata": {},
   "outputs": [],
   "source": []
  }
 ],
 "metadata": {
  "kernelspec": {
   "display_name": "Python 3 (ipykernel)",
   "language": "python",
   "name": "python3"
  },
  "language_info": {
   "codemirror_mode": {
    "name": "ipython",
    "version": 3
   },
   "file_extension": ".py",
   "mimetype": "text/x-python",
   "name": "python",
   "nbconvert_exporter": "python",
   "pygments_lexer": "ipython3",
   "version": "3.10.13"
  }
 },
 "nbformat": 4,
 "nbformat_minor": 5
}
