{
 "cells": [
  {
   "cell_type": "code",
   "execution_count": 1,
   "id": "1062bcd3-71df-4f75-82ca-56c9c62ed376",
   "metadata": {},
   "outputs": [
    {
     "name": "stderr",
     "output_type": "stream",
     "text": [
      "/usr/local/lib/python3.10/site-packages/tqdm/auto.py:21: TqdmWarning: IProgress not found. Please update jupyter and ipywidgets. See https://ipywidgets.readthedocs.io/en/stable/user_install.html\n",
      "  from .autonotebook import tqdm as notebook_tqdm\n",
      "2023-11-01 16:33:44.392335: I tensorflow/tsl/cuda/cudart_stub.cc:28] Could not find cuda drivers on your machine, GPU will not be used.\n",
      "2023-11-01 16:33:44.430135: E tensorflow/compiler/xla/stream_executor/cuda/cuda_dnn.cc:9342] Unable to register cuDNN factory: Attempting to register factory for plugin cuDNN when one has already been registered\n",
      "2023-11-01 16:33:44.430176: E tensorflow/compiler/xla/stream_executor/cuda/cuda_fft.cc:609] Unable to register cuFFT factory: Attempting to register factory for plugin cuFFT when one has already been registered\n",
      "2023-11-01 16:33:44.430201: E tensorflow/compiler/xla/stream_executor/cuda/cuda_blas.cc:1518] Unable to register cuBLAS factory: Attempting to register factory for plugin cuBLAS when one has already been registered\n",
      "2023-11-01 16:33:44.436391: I tensorflow/core/platform/cpu_feature_guard.cc:182] This TensorFlow binary is optimized to use available CPU instructions in performance-critical operations.\n",
      "To enable the following instructions: AVX2 FMA, in other operations, rebuild TensorFlow with the appropriate compiler flags.\n",
      "2023-11-01 16:33:45.267541: W tensorflow/compiler/tf2tensorrt/utils/py_utils.cc:38] TF-TRT Warning: Could not find TensorRT\n"
     ]
    }
   ],
   "source": [
    "import os\n",
    "os.environ[\"CUDA_VISIBLE_DEVICES\"] = \"0\"  \n",
    "from librep.base.estimator import Estimator\n",
    "%load_ext autoreload\n",
    "%autoreload 2\n",
    "from standartized_balanced import StandardizedBalancedDataset\n",
    "import os,torch\n",
    "device = torch.device(\"cuda\" if torch.cuda.is_available() else \"cpu\")\n",
    "\n",
    "def get_data(dataset_name,sensors,normalize_data):    \n",
    "    working_directory=f\"result/{dataset_name}/\"\n",
    "    data_folder = f\"../../../../../../experiment_executor/data/standartized_balanced/{dataset_name}/\"\n",
    "    dataset = StandardizedBalancedDataset(data_folder, sensors=sensors)\n",
    "    X_train, y_train,X_test, y_test,X_val, y_val = dataset.get_all_data(normalize_data=normalize_data, resize_data=True)\n",
    "    return X_train, y_train,X_test, y_test,X_val, y_val\n",
    "        #print(f\"shape: X_train {X_train.shape} --- X_test {X_test.shape} --- X_test {X_val.shape}\")"
   ]
  },
  {
   "cell_type": "code",
   "execution_count": 2,
   "id": "350c47ac-981d-4593-864e-0ceb29cd24c7",
   "metadata": {},
   "outputs": [
    {
     "name": "stdout",
     "output_type": "stream",
     "text": [
      "(60, 6)\n"
     ]
    }
   ],
   "source": [
    "X_train, y_train,X_test, y_test,X_val, y_val=get_data(\"UCI\",['accel','gyro'],False)\n",
    "input_shape=X_train[0].shape\n",
    "print(input_shape)"
   ]
  },
  {
   "cell_type": "code",
   "execution_count": 3,
   "id": "bdc0379e-8728-4124-b281-89a3c49cd64c",
   "metadata": {},
   "outputs": [],
   "source": [
    "#import simclr_utils as sm_ut\n",
    "#transformations=sm_ut.transform_combinations(3,4)\n",
    "\n",
    "#print(transformations)"
   ]
  },
  {
   "cell_type": "code",
   "execution_count": 4,
   "id": "4b6127fc-e009-4860-8163-fd29246a51df",
   "metadata": {},
   "outputs": [
    {
     "name": "stdout",
     "output_type": "stream",
     "text": [
      "(60, 6)\n",
      "cuda\n",
      "exist model\n",
      "Epoch [1/50] - Loss: 1.107007397002861\n",
      "Val Accuracy: 0.3864\n",
      "Epoch [2/50] - Loss: 0.818042492280241\n",
      "Val Accuracy: 0.5640\n",
      "Epoch [3/50] - Loss: 0.5805482111993383\n",
      "Val Accuracy: 0.7459\n",
      "Epoch [4/50] - Loss: 0.49832264761455725\n",
      "Val Accuracy: 0.7459\n",
      "Epoch [5/50] - Loss: 0.39431308893883815\n",
      "Val Accuracy: 0.7769\n",
      "Epoch [6/50] - Loss: 0.356502931870398\n",
      "Val Accuracy: 0.7955\n",
      "Epoch [7/50] - Loss: 0.32880944209020646\n",
      "Val Accuracy: 0.7996\n",
      "Epoch [8/50] - Loss: 0.3254986989205001\n",
      "Val Accuracy: 0.7913\n",
      "Epoch [9/50] - Loss: 0.32564888747989157\n",
      "Val Accuracy: 0.7810\n",
      "Epoch [10/50] - Loss: 0.32863355562335156\n",
      "Val Accuracy: 0.7789\n",
      "Epoch [11/50] - Loss: 0.30426704053018916\n",
      "Val Accuracy: 0.7686\n",
      "Epoch [12/50] - Loss: 0.3364693791162772\n",
      "Val Accuracy: 0.8244\n",
      "Epoch [13/50] - Loss: 0.2982412999282118\n",
      "Val Accuracy: 0.7727\n",
      "Epoch [14/50] - Loss: 0.29917283331761596\n",
      "Val Accuracy: 0.8182\n",
      "Epoch [15/50] - Loss: 0.3017507899002951\n",
      "Val Accuracy: 0.8099\n",
      "Epoch [16/50] - Loss: 0.2839813615943565\n",
      "Val Accuracy: 0.8223\n",
      "Epoch [17/50] - Loss: 0.3063490340699915\n",
      "Val Accuracy: 0.7810\n",
      "Epoch [18/50] - Loss: 0.3055513357041312\n",
      "Val Accuracy: 0.7893\n",
      "Epoch [19/50] - Loss: 0.27811545719865893\n",
      "Val Accuracy: 0.8430\n",
      "Epoch [20/50] - Loss: 0.27105387752173377\n",
      "Val Accuracy: 0.7955\n",
      "Epoch [21/50] - Loss: 0.29684717440214314\n",
      "Val Accuracy: 0.7975\n",
      "Epoch [22/50] - Loss: 0.2855535966695332\n",
      "Val Accuracy: 0.8574\n",
      "Epoch [23/50] - Loss: 0.24738715100483816\n",
      "Val Accuracy: 0.8306\n",
      "Epoch [24/50] - Loss: 0.2565468634005453\n",
      "Val Accuracy: 0.8264\n",
      "Epoch [25/50] - Loss: 0.2492848661590795\n",
      "Val Accuracy: 0.8657\n",
      "Epoch [26/50] - Loss: 0.2615467571332806\n",
      "Val Accuracy: 0.8120\n",
      "Epoch [27/50] - Loss: 0.24084137502263803\n",
      "Val Accuracy: 0.8512\n",
      "Epoch [28/50] - Loss: 0.21167399392264788\n",
      "Val Accuracy: 0.8678\n",
      "Epoch [29/50] - Loss: 0.2162409599442951\n",
      "Val Accuracy: 0.8678\n",
      "Epoch [30/50] - Loss: 0.2000583508891649\n",
      "Val Accuracy: 0.8781\n",
      "Epoch [31/50] - Loss: 0.205220495457532\n",
      "Val Accuracy: 0.8285\n",
      "Epoch [32/50] - Loss: 0.2129943238907173\n",
      "Val Accuracy: 0.8244\n",
      "Epoch [33/50] - Loss: 0.23540120003897635\n",
      "Val Accuracy: 0.8740\n",
      "Epoch [34/50] - Loss: 0.17888137667638357\n",
      "Val Accuracy: 0.8843\n",
      "Epoch [35/50] - Loss: 0.15406454769802874\n",
      "Val Accuracy: 0.8678\n",
      "Epoch [36/50] - Loss: 0.1455526342768161\n",
      "Val Accuracy: 0.8905\n",
      "Epoch [37/50] - Loss: 0.13771736264595244\n",
      "Val Accuracy: 0.8988\n",
      "Epoch [38/50] - Loss: 0.15523240641980876\n",
      "Val Accuracy: 0.8988\n",
      "Epoch [39/50] - Loss: 0.1395831709025336\n",
      "Val Accuracy: 0.8636\n",
      "Epoch [40/50] - Loss: 0.13905301323679628\n",
      "Val Accuracy: 0.8864\n",
      "Epoch [41/50] - Loss: 0.1409351392649114\n",
      "Val Accuracy: 0.8781\n",
      "Epoch [42/50] - Loss: 0.11506132529590463\n",
      "Val Accuracy: 0.8988\n",
      "Epoch [43/50] - Loss: 0.1006954353165309\n",
      "Val Accuracy: 0.9008\n",
      "Epoch [44/50] - Loss: 0.11017275833692707\n",
      "Val Accuracy: 0.8574\n",
      "Epoch [45/50] - Loss: 0.09506904449863512\n",
      "Val Accuracy: 0.8740\n",
      "Epoch [46/50] - Loss: 0.07668934111315452\n",
      "Val Accuracy: 0.9008\n",
      "Epoch [47/50] - Loss: 0.06720730227219765\n",
      "Val Accuracy: 0.8967\n",
      "Epoch [48/50] - Loss: 0.06387334985689061\n",
      "Val Accuracy: 0.8864\n",
      "Epoch [49/50] - Loss: 0.06868520552353537\n",
      "Val Accuracy: 0.8946\n",
      "Epoch [50/50] - Loss: 0.06496893087035564\n",
      "Val Accuracy: 0.9008\n",
      "Training finished.\n"
     ]
    }
   ],
   "source": [
    "from librep.transforms.simclr_full import SimCLR_full\n",
    "\n",
    "batch_size_head = 256\n",
    "decay_steps_head = 1000\n",
    "epochs_head = 300\n",
    "temperature_head = 0.77\n",
    "input_shape=X_train[0].shape\n",
    "n_components=60\n",
    "print(input_shape)\n",
    "transform_funcs=[1, 2, 3]\n",
    "verbose=0\n",
    "import os,torch\n",
    "device = torch.device(\"cuda\" if torch.cuda.is_available() else \"cpu\")\n",
    "\n",
    "#for transform_funcs in transformations:\n",
    "\n",
    "#transformations=sm_ut.transform_combinations(3,4)\n",
    "simclr_linear = SimCLR_full(dataset='motionsense',input_shape=input_shape,\n",
    "                        n_components=n_components,\n",
    "                        batch_size_head=batch_size_head,\n",
    "                        transform_funcs=transform_funcs,\n",
    "                        temperature_head=temperature_head, \n",
    "                        epochs_head=epochs_head,\n",
    "                        save_model=False,\n",
    "                        verbose=1,\n",
    "                        total_epochs=50,\n",
    "                        batch_size=32,\n",
    "                        lr=0.001,\n",
    "                           patience=10,\n",
    "                           min_delta=0.001,\n",
    "                            device='cuda',\n",
    "                            save_reducer=False\n",
    "                           )\n",
    "#print(transform_funcs)\n",
    "    \n",
    "trained_simclr_model = simclr_linear.fit(X_train,y_train)\n"
   ]
  },
  {
   "cell_type": "code",
   "execution_count": null,
   "id": "28a7c9d9-0e45-4336-bb66-6eaa718a24cd",
   "metadata": {},
   "outputs": [],
   "source": []
  },
  {
   "cell_type": "code",
   "execution_count": 8,
   "id": "0bde330b-0858-403e-ae0f-ba69b1bafe99",
   "metadata": {},
   "outputs": [
    {
     "name": "stdout",
     "output_type": "stream",
     "text": [
      "BaseModel(\n",
      "  (conv1): Conv1d(6, 32, kernel_size=(24,), stride=(1,))\n",
      "  (dropout1): Dropout(p=0.1, inplace=False)\n",
      "  (conv2): Conv1d(32, 64, kernel_size=(16,), stride=(1,))\n",
      "  (dropout2): Dropout(p=0.1, inplace=False)\n",
      "  (conv3): Conv1d(64, 60, kernel_size=(8,), stride=(1,))\n",
      "  (dropout3): Dropout(p=0.1, inplace=False)\n",
      "  (global_max_pooling): AdaptiveMaxPool1d(output_size=1)\n",
      "  (relu): ReLU()\n",
      ")\n"
     ]
    }
   ],
   "source": [
    "print(simclr_linear.model.base_model)"
   ]
  },
  {
   "cell_type": "code",
   "execution_count": 9,
   "id": "73d2ec39-a98b-4709-8a18-a5e37dde5e68",
   "metadata": {},
   "outputs": [
    {
     "name": "stdout",
     "output_type": "stream",
     "text": [
      "(2420, 60)\n",
      "(2420, 60, 6)\n",
      "0.9               precision    recall  f1-score   support\n",
      "\n",
      "           0       0.79      0.79      0.79       138\n",
      "           1       0.79      0.78      0.79       138\n",
      "           2       0.95      0.98      0.96       138\n",
      "           3       0.98      0.95      0.97       138\n",
      "           4       0.99      1.00      0.99       138\n",
      "\n",
      "    accuracy                           0.90       690\n",
      "   macro avg       0.90      0.90      0.90       690\n",
      "weighted avg       0.90      0.90      0.90       690\n",
      "\n"
     ]
    }
   ],
   "source": [
    "data=simclr_linear.transform(X_train)\n",
    "data_t=simclr_linear.transform(X_test)\n",
    "print(data.shape)\n",
    "print(X_train.shape)\n",
    "from sklearn.ensemble import RandomForestClassifier\n",
    "\n",
    "clf = RandomForestClassifier(n_estimators=200, random_state=42)  \n",
    "# Entrenar el clasificador\n",
    "clf.fit(data, y_train)\n",
    "etiquetas_pred = clf.predict(data_t)\n",
    "from sklearn.metrics import accuracy_score, classification_report\n",
    "accuracy = accuracy_score(y_test, etiquetas_pred)\n",
    "report = classification_report(y_test, etiquetas_pred)\n",
    "print(accuracy,report)"
   ]
  },
  {
   "cell_type": "code",
   "execution_count": 11,
   "id": "c27ba06a-bf86-4df0-a17c-8161131521c3",
   "metadata": {},
   "outputs": [
    {
     "name": "stdout",
     "output_type": "stream",
     "text": [
      "(2420, 60)\n",
      "(2420, 60, 6)\n",
      "0.8971014492753623               precision    recall  f1-score   support\n",
      "\n",
      "           0       0.79      0.78      0.78       138\n",
      "           1       0.77      0.79      0.78       138\n",
      "           2       0.96      0.97      0.96       138\n",
      "           3       0.98      0.95      0.96       138\n",
      "           4       0.99      1.00      0.99       138\n",
      "\n",
      "    accuracy                           0.90       690\n",
      "   macro avg       0.90      0.90      0.90       690\n",
      "weighted avg       0.90      0.90      0.90       690\n",
      "\n"
     ]
    }
   ],
   "source": [
    "data=simclr_linear.transform(X_train)\n",
    "data_t=simclr_linear.transform(X_test)\n",
    "print(data.shape)\n",
    "print(X_train.shape)\n",
    "from sklearn.ensemble import RandomForestClassifier\n",
    "\n",
    "# Crear un clasificador Random Forest\n",
    "clf = RandomForestClassifier(n_estimators=100, random_state=42)  # Puedes ajustar los hiperparámetros según sea necesario\n",
    "\n",
    "# Entrenar el clasificador\n",
    "clf.fit(data, y_train)\n",
    "etiquetas_pred = clf.predict(data_t)\n",
    "from sklearn.metrics import accuracy_score, classification_report\n",
    "accuracy = accuracy_score(y_test, etiquetas_pred)\n",
    "report = classification_report(y_test, etiquetas_pred)\n",
    "print(accuracy,report)"
   ]
  },
  {
   "cell_type": "code",
   "execution_count": null,
   "id": "3bd66f8f-e7fc-4abe-acff-c09f919a7b00",
   "metadata": {},
   "outputs": [],
   "source": []
  },
  {
   "cell_type": "code",
   "execution_count": null,
   "id": "85581e8c-b47b-4ce7-a948-80ecb804ef9c",
   "metadata": {},
   "outputs": [],
   "source": []
  },
  {
   "cell_type": "code",
   "execution_count": null,
   "id": "08a32f0b-90b4-4537-a8e6-7651aa1ad24f",
   "metadata": {},
   "outputs": [],
   "source": []
  }
 ],
 "metadata": {
  "kernelspec": {
   "display_name": "Python 3 (ipykernel)",
   "language": "python",
   "name": "python3"
  },
  "language_info": {
   "codemirror_mode": {
    "name": "ipython",
    "version": 3
   },
   "file_extension": ".py",
   "mimetype": "text/x-python",
   "name": "python",
   "nbconvert_exporter": "python",
   "pygments_lexer": "ipython3",
   "version": "3.10.13"
  }
 },
 "nbformat": 4,
 "nbformat_minor": 5
}
