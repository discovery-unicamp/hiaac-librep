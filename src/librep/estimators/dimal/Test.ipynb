{
 "cells": [
  {
   "cell_type": "code",
   "execution_count": 1,
   "id": "f1848683-a600-46f2-8f6e-3695ea7b43e7",
   "metadata": {
    "execution": {
     "iopub.execute_input": "2023-03-09T13:42:10.059438Z",
     "iopub.status.busy": "2023-03-09T13:42:10.058501Z",
     "iopub.status.idle": "2023-03-09T13:42:10.358823Z",
     "shell.execute_reply": "2023-03-09T13:42:10.355812Z",
     "shell.execute_reply.started": "2023-03-09T13:42:10.059393Z"
    },
    "tags": []
   },
   "outputs": [
    {
     "ename": "ModuleNotFoundError",
     "evalue": "No module named 'librep'",
     "output_type": "error",
     "traceback": [
      "\u001b[0;31m---------------------------------------------------------------------------\u001b[0m",
      "\u001b[0;31mModuleNotFoundError\u001b[0m                       Traceback (most recent call last)",
      "Cell \u001b[0;32mIn[1], line 1\u001b[0m\n\u001b[0;32m----> 1\u001b[0m \u001b[38;5;28;01mfrom\u001b[39;00m \u001b[38;5;21;01mlibrep\u001b[39;00m\u001b[38;5;21;01m.\u001b[39;00m\u001b[38;5;21;01mdatasets\u001b[39;00m\u001b[38;5;21;01m.\u001b[39;00m\u001b[38;5;21;01mhar\u001b[39;00m\u001b[38;5;21;01m.\u001b[39;00m\u001b[38;5;21;01mloaders\u001b[39;00m \u001b[38;5;28;01mimport\u001b[39;00m (\n\u001b[1;32m      2\u001b[0m     MotionSense_BalancedView20HZ\n\u001b[1;32m      3\u001b[0m )\n\u001b[1;32m      4\u001b[0m \u001b[38;5;28;01mfrom\u001b[39;00m \u001b[38;5;21;01mlibrep\u001b[39;00m\u001b[38;5;21;01m.\u001b[39;00m\u001b[38;5;21;01mdatasets\u001b[39;00m\u001b[38;5;21;01m.\u001b[39;00m\u001b[38;5;21;01mmultimodal\u001b[39;00m \u001b[38;5;28;01mimport\u001b[39;00m TransformMultiModalDataset\n\u001b[1;32m      5\u001b[0m \u001b[38;5;28;01mfrom\u001b[39;00m \u001b[38;5;21;01mlibrep\u001b[39;00m\u001b[38;5;21;01m.\u001b[39;00m\u001b[38;5;21;01mtransforms\u001b[39;00m\u001b[38;5;21;01m.\u001b[39;00m\u001b[38;5;21;01mfft\u001b[39;00m \u001b[38;5;28;01mimport\u001b[39;00m FFT\n",
      "\u001b[0;31mModuleNotFoundError\u001b[0m: No module named 'librep'"
     ]
    }
   ],
   "source": [
    "from librep.datasets.har.loaders import (\n",
    "    MotionSense_BalancedView20HZ\n",
    ")\n",
    "from librep.datasets.multimodal import TransformMultiModalDataset\n",
    "from librep.transforms.fft import FFT\n",
    "import numpy as np"
   ]
  },
  {
   "cell_type": "code",
   "execution_count": 2,
   "id": "3ac171df-8b2d-4c0e-8198-1ea0fe68b996",
   "metadata": {
    "execution": {
     "iopub.execute_input": "2023-03-09T14:12:52.315470Z",
     "iopub.status.busy": "2023-03-09T14:12:52.314907Z",
     "iopub.status.idle": "2023-03-09T14:12:54.994480Z",
     "shell.execute_reply": "2023-03-09T14:12:54.993519Z",
     "shell.execute_reply.started": "2023-03-09T14:12:52.315436Z"
    },
    "tags": []
   },
   "outputs": [
    {
     "name": "stdout",
     "output_type": "stream",
     "text": [
      "(12000, 2000)\n"
     ]
    }
   ],
   "source": [
    "X = [[0], [3], [1], [45], [28], [24], [35], [14], [67], [52], [98]]\n",
    "import numpy as np\n",
    "X = np.random.rand(12000,2000)*10000000\n",
    "print(X.shape)\n",
    "from sklearn.neighbors import kneighbors_graph\n",
    "W = kneighbors_graph(X, 10, mode='distance',\n",
    "                                metric='minkowski', p=2, metric_params=None, \n",
    "                                include_self=False, n_jobs=-1)\n",
    "# A.toarray()\n"
   ]
  },
  {
   "cell_type": "code",
   "execution_count": 8,
   "id": "f40fe299-ce49-4a97-8797-ebf3d3ed4caf",
   "metadata": {
    "execution": {
     "iopub.execute_input": "2023-03-10T13:47:37.472147Z",
     "iopub.status.busy": "2023-03-10T13:47:37.471604Z",
     "iopub.status.idle": "2023-03-10T13:47:37.481948Z",
     "shell.execute_reply": "2023-03-10T13:47:37.480206Z",
     "shell.execute_reply.started": "2023-03-10T13:47:37.472120Z"
    },
    "tags": []
   },
   "outputs": [
    {
     "name": "stdout",
     "output_type": "stream",
     "text": [
      "   titulo\n",
      "0       3\n",
      "1       6\n",
      "2       9\n",
      "3       7\n",
      "4       3\n",
      "None\n"
     ]
    }
   ],
   "source": [
    "import pandas as pd\n",
    "dictio = {\"titulo\": [3,6,9,7,3]}\n",
    "df = pd.DataFrame(dictio)\n",
    "print(df)\n",
    "ejem = df.get(0)\n",
    "print(ejem)"
   ]
  },
  {
   "cell_type": "code",
   "execution_count": 27,
   "id": "39179720-de19-44be-86cd-9d213e1de77e",
   "metadata": {
    "execution": {
     "iopub.execute_input": "2023-03-10T13:59:35.256699Z",
     "iopub.status.busy": "2023-03-10T13:59:35.255739Z",
     "iopub.status.idle": "2023-03-10T13:59:35.271334Z",
     "shell.execute_reply": "2023-03-10T13:59:35.269758Z",
     "shell.execute_reply.started": "2023-03-10T13:59:35.256629Z"
    },
    "tags": []
   },
   "outputs": [
    {
     "data": {
      "text/plain": [
       "x    1\n",
       "y    2\n",
       "z    4\n",
       "dtype: int64"
      ]
     },
     "execution_count": 27,
     "metadata": {},
     "output_type": "execute_result"
    }
   ],
   "source": [
    "pd.Series([1,2,4], index = [\"x\", \"y\", \"z\"])\n"
   ]
  },
  {
   "cell_type": "code",
   "execution_count": 34,
   "id": "ae0b5f10-d4d5-4ce1-8b1d-818495a89018",
   "metadata": {
    "execution": {
     "iopub.execute_input": "2023-03-09T17:35:10.241940Z",
     "iopub.status.busy": "2023-03-09T17:35:10.240448Z",
     "iopub.status.idle": "2023-03-09T17:35:10.312536Z",
     "shell.execute_reply": "2023-03-09T17:35:10.309973Z",
     "shell.execute_reply.started": "2023-03-09T17:35:10.241864Z"
    },
    "tags": []
   },
   "outputs": [
    {
     "ename": "AttributeError",
     "evalue": "'numpy.ndarray' object has no attribute 'toFloat'",
     "output_type": "error",
     "traceback": [
      "\u001b[0;31m---------------------------------------------------------------------------\u001b[0m",
      "\u001b[0;31mAttributeError\u001b[0m                            Traceback (most recent call last)",
      "Cell \u001b[0;32mIn[34], line 12\u001b[0m\n\u001b[1;32m     10\u001b[0m arr \u001b[38;5;241m=\u001b[39m np\u001b[38;5;241m.\u001b[39marray([\u001b[38;5;241m1\u001b[39m,\u001b[38;5;241m2\u001b[39m,\u001b[38;5;241m3\u001b[39m])\n\u001b[1;32m     11\u001b[0m arr \u001b[38;5;241m=\u001b[39m np\u001b[38;5;241m.\u001b[39marray([\u001b[38;5;241m1\u001b[39m, \u001b[38;5;241m2\u001b[39m, \u001b[38;5;241m3\u001b[39m, \u001b[38;5;241m4\u001b[39m], dtype\u001b[38;5;241m=\u001b[39m\u001b[38;5;124m'\u001b[39m\u001b[38;5;124mf\u001b[39m\u001b[38;5;124m'\u001b[39m)\n\u001b[0;32m---> 12\u001b[0m arr \u001b[38;5;241m=\u001b[39m \u001b[43mnp\u001b[49m\u001b[38;5;241;43m.\u001b[39;49m\u001b[43marray\u001b[49m\u001b[43m(\u001b[49m\u001b[43m[\u001b[49m\u001b[38;5;241;43m1\u001b[39;49m\u001b[43m,\u001b[49m\u001b[43m \u001b[49m\u001b[38;5;241;43m2\u001b[39;49m\u001b[43m,\u001b[49m\u001b[43m \u001b[49m\u001b[38;5;241;43m3\u001b[39;49m\u001b[43m,\u001b[49m\u001b[43m \u001b[49m\u001b[38;5;241;43m4\u001b[39;49m\u001b[43m]\u001b[49m\u001b[43m)\u001b[49m\u001b[38;5;241;43m.\u001b[39;49m\u001b[43mtoFloat\u001b[49m()\n",
      "\u001b[0;31mAttributeError\u001b[0m: 'numpy.ndarray' object has no attribute 'toFloat'"
     ]
    }
   ],
   "source": [
    "from numpy import random\n",
    "random.rand()\n",
    "np.fix(23.99)\n",
    "arr = np.array([1,2,3,4,5,6,7])\n",
    "\n",
    "\n",
    "# print(arr[::2])\n",
    "# random.normal(size=1000, loc=50, scale=0.2)\n",
    "# arr.shape\n",
    "arr = np.array([1,2,3])\n",
    "arr = np.array([1, 2, 3, 4], dtype='f')\n",
    "arr = np.array([1, 2, 3, 4]).toFloat()\n"
   ]
  },
  {
   "cell_type": "code",
   "execution_count": 3,
   "id": "b80676d5-1753-4747-98ab-515bc31ec423",
   "metadata": {
    "execution": {
     "iopub.execute_input": "2023-03-09T14:12:55.004326Z",
     "iopub.status.busy": "2023-03-09T14:12:55.004098Z",
     "iopub.status.idle": "2023-03-09T14:13:02.294336Z",
     "shell.execute_reply": "2023-03-09T14:13:02.293784Z",
     "shell.execute_reply.started": "2023-03-09T14:12:55.004309Z"
    },
    "tags": []
   },
   "outputs": [
    {
     "data": {
      "text/plain": [
       "array([[5.22552336e+08, 5.22474707e+08, 5.23276071e+08, ...,\n",
       "        5.25971072e+08, 6.96818675e+08, 5.24592446e+08],\n",
       "       [6.97211262e+08, 6.98540212e+08, 5.27462709e+08, ...,\n",
       "        5.28869895e+08, 6.98995062e+08, 6.99335569e+08],\n",
       "       [5.27389814e+08, 5.30265271e+08, 7.01483310e+08, ...,\n",
       "        5.26554476e+08, 5.26975924e+08, 7.01272895e+08],\n",
       "       ...,\n",
       "       [5.23882600e+08, 6.97004463e+08, 6.94720316e+08, ...,\n",
       "        5.25262717e+08, 6.96188289e+08, 6.94832464e+08],\n",
       "       [5.23511903e+08, 6.98344117e+08, 6.96725677e+08, ...,\n",
       "        5.24124644e+08, 5.24648707e+08, 6.96837826e+08],\n",
       "       [6.93543048e+08, 5.23339350e+08, 6.92509963e+08, ...,\n",
       "        6.94988744e+08, 6.96093879e+08, 6.92622112e+08]])"
      ]
     },
     "execution_count": 3,
     "metadata": {},
     "output_type": "execute_result"
    }
   ],
   "source": [
    "from scipy import sparse, linalg\n",
    "\n",
    "num_FPS = 500\n",
    "Numpts = W.shape[0]\n",
    "indices_FPS = [];\n",
    "indices_FPS.append(np.random.randint(0,Numpts))\n",
    "    \n",
    "Dsk = np.zeros([num_FPS,Numpts])\n",
    "         \n",
    "for itern in range(0,num_FPS-1):\n",
    "        # first compute the distances:\n",
    "    Dsk[itern,:] = sparse.csgraph.dijkstra(W,directed = False,indices=indices_FPS[itern])\n",
    "        # print(itern, Dsk)\n",
    "    indices_FPS.append(np.argmax(np.ndarray.min(Dsk[0:itern+1,:],0)))\n",
    "        # print(itern, indices_FPS)\n",
    "Dsk[itern+1,:] = sparse.csgraph.dijkstra(W,directed = False,indices=indices_FPS[-1])\n",
    "    \n",
    "Landmarks = {'indices':indices_FPS,'Ds': Dsk,'W':W}\n",
    "Dsk"
   ]
  },
  {
   "cell_type": "code",
   "execution_count": 6,
   "id": "89d5ae36-50da-4c6b-80bd-31409699ca7f",
   "metadata": {
    "execution": {
     "iopub.execute_input": "2023-03-09T14:13:45.394229Z",
     "iopub.status.busy": "2023-03-09T14:13:45.392797Z",
     "iopub.status.idle": "2023-03-09T14:13:45.409654Z",
     "shell.execute_reply": "2023-03-09T14:13:45.408051Z",
     "shell.execute_reply.started": "2023-03-09T14:13:45.394161Z"
    },
    "tags": []
   },
   "outputs": [
    {
     "data": {
      "text/plain": [
       "873074146.5433558"
      ]
     },
     "execution_count": 6,
     "metadata": {},
     "output_type": "execute_result"
    }
   ],
   "source": [
    "Dsk.max()"
   ]
  },
  {
   "cell_type": "code",
   "execution_count": null,
   "id": "4faaa4d5-7101-440e-8a57-7524019a0016",
   "metadata": {
    "execution": {
     "iopub.status.busy": "2023-03-09T13:42:10.359754Z",
     "iopub.status.idle": "2023-03-09T13:42:10.360048Z",
     "shell.execute_reply": "2023-03-09T13:42:10.359908Z",
     "shell.execute_reply.started": "2023-03-09T13:42:10.359892Z"
    },
    "tags": []
   },
   "outputs": [],
   "source": [
    "loader = MotionSense_BalancedView20HZ(\n",
    "    root_dir=\"data/views/MotionSense/balanced_view_20Hz_with_gravity_9.81_acc_standard\", \n",
    "    download=False\n",
    ")\n",
    "# Load the dataset\n",
    "train_val, test = loader.load(concat_train_validation=True, label=loader.standard_label)\n",
    "train_val, test"
   ]
  },
  {
   "cell_type": "code",
   "execution_count": null,
   "id": "5b9060f4-e9a3-49e9-882e-c0392e82772f",
   "metadata": {
    "execution": {
     "iopub.status.busy": "2023-03-09T13:42:10.361504Z",
     "iopub.status.idle": "2023-03-09T13:42:10.361769Z",
     "shell.execute_reply": "2023-03-09T13:42:10.361644Z",
     "shell.execute_reply.started": "2023-03-09T13:42:10.361630Z"
    },
    "tags": []
   },
   "outputs": [],
   "source": [
    "train_HD = np.array(train_val[:][0])\n",
    "train_LD = None\n",
    "train_Y = np.array(train_val[:][1])\n",
    "test_HD = np.array(test[:][0])\n",
    "test_LD = None\n",
    "test_Y = np.array(test[:][1])"
   ]
  },
  {
   "cell_type": "markdown",
   "id": "5a555308-45aa-4929-96cb-370151da0e53",
   "metadata": {},
   "source": [
    "# Aplicar FFT"
   ]
  },
  {
   "cell_type": "code",
   "execution_count": null,
   "id": "94cb28e8-38de-4b81-9007-df3d604a2c4f",
   "metadata": {
    "execution": {
     "iopub.status.busy": "2023-03-09T13:42:10.362681Z",
     "iopub.status.idle": "2023-03-09T13:42:10.362951Z",
     "shell.execute_reply": "2023-03-09T13:42:10.362824Z",
     "shell.execute_reply.started": "2023-03-09T13:42:10.362810Z"
    },
    "tags": []
   },
   "outputs": [],
   "source": [
    "fft_transform = FFT(centered = True)\n",
    "transformer = TransformMultiModalDataset(\n",
    "    transforms=[fft_transform],\n",
    "    new_window_name_prefix=\"fft.\"\n",
    ")"
   ]
  },
  {
   "cell_type": "code",
   "execution_count": null,
   "id": "b4914533-d389-4513-bec4-266561770546",
   "metadata": {
    "execution": {
     "iopub.status.busy": "2023-03-09T13:42:10.363532Z",
     "iopub.status.idle": "2023-03-09T13:42:10.363792Z",
     "shell.execute_reply": "2023-03-09T13:42:10.363666Z",
     "shell.execute_reply.started": "2023-03-09T13:42:10.363653Z"
    }
   },
   "outputs": [],
   "source": [
    "train_dataset_fft = transformer(train_val)\n",
    "test_dataset_fft = transformer(test)"
   ]
  },
  {
   "cell_type": "code",
   "execution_count": null,
   "id": "69f40fc6-2ba7-48c0-9498-cd7bf3365a4d",
   "metadata": {
    "execution": {
     "iopub.status.busy": "2023-03-09T13:42:10.364616Z",
     "iopub.status.idle": "2023-03-09T13:42:10.364872Z",
     "shell.execute_reply": "2023-03-09T13:42:10.364752Z",
     "shell.execute_reply.started": "2023-03-09T13:42:10.364739Z"
    }
   },
   "outputs": [],
   "source": [
    "train_HD = train_dataset_fft.X\n",
    "train_LD = None\n",
    "train_Y = train_dataset_fft.y\n",
    "test_HD = test_dataset_fft.X\n",
    "test_LD = None\n",
    "test_Y = test_dataset_fft.y"
   ]
  },
  {
   "cell_type": "code",
   "execution_count": null,
   "id": "8669adb8-44ae-4af5-9a7a-ba35889efa38",
   "metadata": {
    "execution": {
     "iopub.status.busy": "2023-03-09T13:42:10.365513Z",
     "iopub.status.idle": "2023-03-09T13:42:10.365765Z",
     "shell.execute_reply": "2023-03-09T13:42:10.365643Z",
     "shell.execute_reply.started": "2023-03-09T13:42:10.365631Z"
    },
    "tags": []
   },
   "outputs": [],
   "source": [
    "print(train_HD.shape, train_Y.shape, test_HD.shape, test_Y.shape)"
   ]
  },
  {
   "cell_type": "markdown",
   "id": "279129fd-f48c-4ed3-8d84-2f93c4d1a107",
   "metadata": {},
   "source": [
    "# DIMAL"
   ]
  },
  {
   "cell_type": "code",
   "execution_count": null,
   "id": "6059e95c-6a3c-4ead-aa27-240b5f5b2fe9",
   "metadata": {
    "execution": {
     "iopub.status.busy": "2023-03-09T13:42:10.366447Z",
     "iopub.status.idle": "2023-03-09T13:42:10.366697Z",
     "shell.execute_reply": "2023-03-09T13:42:10.366579Z",
     "shell.execute_reply.started": "2023-03-09T13:42:10.366565Z"
    },
    "tags": []
   },
   "outputs": [],
   "source": [
    "import torch\n",
    "import myFunctions\n",
    "import sklearn.neighbors as nb\n",
    "import Functions_ManifoldLearning as FnManifold\n",
    "import MDSNet_3D\n"
   ]
  },
  {
   "cell_type": "code",
   "execution_count": null,
   "id": "bf5f76f9-5699-4704-9f8d-603aa8f6c267",
   "metadata": {
    "execution": {
     "iopub.status.busy": "2023-03-09T13:42:10.367427Z",
     "iopub.status.idle": "2023-03-09T13:42:10.367694Z",
     "shell.execute_reply": "2023-03-09T13:42:10.367558Z",
     "shell.execute_reply.started": "2023-03-09T13:42:10.367545Z"
    }
   },
   "outputs": [],
   "source": [
    "D = test_HD"
   ]
  },
  {
   "cell_type": "code",
   "execution_count": null,
   "id": "ff5288e7-2abc-4d87-b6fc-7f3804d19552",
   "metadata": {
    "execution": {
     "iopub.status.busy": "2023-03-09T13:42:10.368460Z",
     "iopub.status.idle": "2023-03-09T13:42:10.368720Z",
     "shell.execute_reply": "2023-03-09T13:42:10.368597Z",
     "shell.execute_reply.started": "2023-03-09T13:42:10.368584Z"
    },
    "tags": []
   },
   "outputs": [],
   "source": [
    "torch.manual_seed(1000)\n",
    "\n",
    "myFunctions.tic()\n",
    "# Compute the Graph\n",
    "W = nb.kneighbors_graph(D, 10, mode='distance',\n",
    "                        metric='minkowski', p=2, metric_params=None, \n",
    "                        include_self=False, n_jobs=-1)\n",
    "Landmarks = FnManifold.FPS(W,500)\n",
    "myFunctions.toc()"
   ]
  },
  {
   "cell_type": "code",
   "execution_count": null,
   "id": "889e7010-4568-44b9-9c6a-5f2a9ccbfca7",
   "metadata": {
    "execution": {
     "iopub.status.busy": "2023-03-09T13:42:10.369834Z",
     "iopub.status.idle": "2023-03-09T13:42:10.370088Z",
     "shell.execute_reply": "2023-03-09T13:42:10.369969Z",
     "shell.execute_reply.started": "2023-03-09T13:42:10.369956Z"
    },
    "tags": []
   },
   "outputs": [],
   "source": [
    "W\n",
    "assert 1==0"
   ]
  },
  {
   "cell_type": "code",
   "execution_count": null,
   "id": "80f76620-9863-4cdc-83c8-5bfd65e30436",
   "metadata": {
    "execution": {
     "iopub.status.busy": "2023-03-09T13:42:10.370660Z",
     "iopub.status.idle": "2023-03-09T13:42:10.370911Z",
     "shell.execute_reply": "2023-03-09T13:42:10.370793Z",
     "shell.execute_reply.started": "2023-03-09T13:42:10.370780Z"
    },
    "tags": []
   },
   "outputs": [],
   "source": [
    "numIndices = 200\n",
    "NetParams = {'Size_HL':70,'Num_HL':2}\n",
    "LearningParams = {'Numiter':2000,'learning_rate':1e-2, 'tol':1e-3}\n",
    "\n",
    "Landmarks_FPS = {'indices':Landmarks['indices'][0:numIndices],\n",
    "                     'Ds':Landmarks['Ds'][0:numIndices]}"
   ]
  },
  {
   "cell_type": "code",
   "execution_count": null,
   "id": "b117a522-217e-479a-a41f-18abd674457a",
   "metadata": {
    "collapsed": true,
    "execution": {
     "iopub.status.busy": "2023-03-09T13:42:10.371650Z",
     "iopub.status.idle": "2023-03-09T13:42:10.371904Z",
     "shell.execute_reply": "2023-03-09T13:42:10.371782Z",
     "shell.execute_reply.started": "2023-03-09T13:42:10.371769Z"
    },
    "jupyter": {
     "outputs_hidden": true
    },
    "tags": []
   },
   "outputs": [],
   "source": [
    "#==============================================================================\n",
    "#                       RunMDS\n",
    "#==============================================================================\n",
    "Embedding_MDSNet,model,train_err  = MDSNet_3D.MDSNet(D,Landmarks_FPS,NetParams,LearningParams)\n",
    "myFunctions.toc()"
   ]
  },
  {
   "cell_type": "code",
   "execution_count": null,
   "id": "d1b24af7-0629-4e61-8116-a0d46469c82d",
   "metadata": {
    "execution": {
     "iopub.status.busy": "2023-03-09T13:42:10.372552Z",
     "iopub.status.idle": "2023-03-09T13:42:10.372812Z",
     "shell.execute_reply": "2023-03-09T13:42:10.372687Z",
     "shell.execute_reply.started": "2023-03-09T13:42:10.372673Z"
    },
    "tags": []
   },
   "outputs": [],
   "source": [
    "test_HD_input = torch.from_numpy(test_HD).float()\n",
    "print(type(test_HD_input), test_HD_input)"
   ]
  },
  {
   "cell_type": "code",
   "execution_count": null,
   "id": "c652695b-6bc9-4a13-90a4-151b20f6fc19",
   "metadata": {
    "execution": {
     "iopub.status.busy": "2023-03-09T13:42:10.373677Z",
     "iopub.status.idle": "2023-03-09T13:42:10.373943Z",
     "shell.execute_reply": "2023-03-09T13:42:10.373820Z",
     "shell.execute_reply.started": "2023-03-09T13:42:10.373807Z"
    },
    "tags": []
   },
   "outputs": [],
   "source": [
    "test_LD = model(test_HD_input).detach().numpy()"
   ]
  },
  {
   "cell_type": "code",
   "execution_count": null,
   "id": "ace4119e-617c-430f-bce1-c2e8e8542c7f",
   "metadata": {
    "execution": {
     "iopub.status.busy": "2023-03-09T13:42:10.375271Z",
     "iopub.status.idle": "2023-03-09T13:42:10.375524Z",
     "shell.execute_reply": "2023-03-09T13:42:10.375404Z",
     "shell.execute_reply.started": "2023-03-09T13:42:10.375391Z"
    },
    "tags": []
   },
   "outputs": [],
   "source": [
    "import pandas as pd\n",
    "import matplotlib.pyplot as plt\n",
    "from sklearn.manifold import TSNE\n",
    "def visualize(X, Y):\n",
    "    labels = ['sit', 'stand', 'walk', 'stair up', 'stair down', 'run']\n",
    "    df = pd.DataFrame(dict(x=X[:,0], y=X[:,1], label=Y))\n",
    "    groups = df.groupby('label')\n",
    "    fig, ax = plt.subplots()\n",
    "    ax.margins(0.05)\n",
    "    for name, group in groups:\n",
    "        ax.plot(group.x, group.y, marker='.', linestyle='', ms=8, label=labels[name])\n",
    "    ax.legend()\n",
    "    plt.show()"
   ]
  },
  {
   "cell_type": "code",
   "execution_count": null,
   "id": "b0b429ce-97e2-4d48-8168-6895f9ce57c5",
   "metadata": {
    "execution": {
     "iopub.status.busy": "2023-03-09T13:42:10.376556Z",
     "iopub.status.idle": "2023-03-09T13:42:10.376817Z",
     "shell.execute_reply": "2023-03-09T13:42:10.376693Z",
     "shell.execute_reply.started": "2023-03-09T13:42:10.376679Z"
    },
    "tags": []
   },
   "outputs": [],
   "source": [
    "visualize(test_LD, test_Y)"
   ]
  },
  {
   "cell_type": "code",
   "execution_count": null,
   "id": "f4b94f11-7ba2-4408-9072-acd4132dbbbc",
   "metadata": {
    "execution": {
     "iopub.status.busy": "2023-03-09T13:42:10.377722Z",
     "iopub.status.idle": "2023-03-09T13:42:10.377977Z",
     "shell.execute_reply": "2023-03-09T13:42:10.377856Z",
     "shell.execute_reply.started": "2023-03-09T13:42:10.377842Z"
    },
    "tags": []
   },
   "outputs": [],
   "source": [
    "# Visualizing test\n",
    "tsne = TSNE()\n",
    "test_2D = tsne.fit_transform(test_LD)\n",
    "visualize(test_2D, test_Y)"
   ]
  },
  {
   "cell_type": "code",
   "execution_count": null,
   "id": "6f6951fd-596a-44d3-80f4-db0a748f9498",
   "metadata": {
    "execution": {
     "iopub.status.busy": "2023-03-09T13:42:10.378672Z",
     "iopub.status.idle": "2023-03-09T13:42:10.378931Z",
     "shell.execute_reply": "2023-03-09T13:42:10.378803Z",
     "shell.execute_reply.started": "2023-03-09T13:42:10.378790Z"
    },
    "tags": []
   },
   "outputs": [],
   "source": [
    "print(test_LD)"
   ]
  },
  {
   "cell_type": "code",
   "execution_count": null,
   "id": "a579bae8-da40-4b25-930e-c40db7d55726",
   "metadata": {
    "execution": {
     "iopub.status.busy": "2023-03-09T13:42:10.379543Z",
     "iopub.status.idle": "2023-03-09T13:42:10.379794Z",
     "shell.execute_reply": "2023-03-09T13:42:10.379673Z",
     "shell.execute_reply.started": "2023-03-09T13:42:10.379660Z"
    }
   },
   "outputs": [],
   "source": [
    "assert 1==0"
   ]
  },
  {
   "cell_type": "code",
   "execution_count": null,
   "id": "ae9501a0-f4d9-43de-be19-f6510b5fdb7d",
   "metadata": {
    "execution": {
     "iopub.status.busy": "2023-03-09T13:42:10.380550Z",
     "iopub.status.idle": "2023-03-09T13:42:10.380819Z",
     "shell.execute_reply": "2023-03-09T13:42:10.380690Z",
     "shell.execute_reply.started": "2023-03-09T13:42:10.380676Z"
    },
    "tags": []
   },
   "outputs": [],
   "source": [
    "#!/usr/bin/env python2\n",
    "# -*- coding: utf-8 -*-\n",
    "\"\"\"\n",
    "Created on Sun Sep 10 11:53:47 2017\n",
    "\n",
    "@author: gipadmin\n",
    "\"\"\"\n",
    "\n",
    "from IPython import get_ipython\n",
    "get_ipython().magic('reset -sf') \n",
    "\n",
    "import numpy as np\n",
    "import matplotlib.pyplot as plt\n",
    "from mpl_toolkits.mplot3d import Axes3D\n",
    "import myFunctions\n",
    "from sklearn.neighbors import NearestNeighbors\n",
    "import sklearn.neighbors as nb\n",
    "from sklearn import manifold\n",
    "from sklearn import preprocessing\n",
    "from scipy import sparse, linalg\n",
    "from matplotlib import cm\n",
    "import MDSNet_3D\n",
    "import Functions_ManifoldLearning as FnManifold\n",
    "from sklearn import preprocessing, manifold, datasets\n",
    "import torch\n",
    "import scipy.io as sio\n",
    "\n",
    "torch.manual_seed(1000)\n",
    "#==============================================================================\n",
    "#                   Generate The Data\n",
    "#==============================================================================\n",
    "Numpts = np.power(2,11)\n",
    "#D, color = datasets.samples_generator.make_s_curve(n_samples=Numpts, noise=0.0, random_state=1)\n",
    "D, color = datasets.make_s_curve(n_samples=Numpts, random_state=0)\n",
    "\n",
    "index = np.random.permutation(np.arange(D.shape[0]))\n",
    "D = D[index,:]\n",
    "color = color[index]\n",
    "\n",
    "myFunctions.tic()\n",
    "# Compute the Graph\n",
    "W = nb.kneighbors_graph(D, 10, mode='distance',\n",
    "                              metric='minkowski', p=2, metric_params=None, \n",
    "                              include_self=False, n_jobs=-1)\n",
    "Landmarks = FnManifold.FPS(W,500)\n",
    "myFunctions.toc()\n",
    "\n",
    "numIndices = 200\n",
    "NetParams = {'Size_HL':70,'Num_HL':2}\n",
    "LearningParams = {'Numiter':2000,'learning_rate':1e-2, 'tol':1e-3}\n",
    "\n",
    "Landmarks_FPS = {'indices':Landmarks['indices'][0:numIndices],\n",
    "                     'Ds':Landmarks['Ds'][0:numIndices]}\n",
    "    \n",
    "#==============================================================================\n",
    "#                       RunMDS\n",
    "#==============================================================================\n",
    "Embedding_MDSNet,Net,train_err  = MDSNet_3D.MDSNet(D,Landmarks_FPS,NetParams,LearningParams)\n",
    "myFunctions.toc()\n",
    "# print(Embedding_MDSNet.shape)\n",
    "#==============================================================================\n",
    "#                       Plot\n",
    "#==============================================================================\n",
    "plt.close('all')\n",
    "fig = plt.figure()\n",
    "ax1 = fig.add_subplot(111)\n",
    "\n",
    "ax1.set_aspect('equal')\n",
    "ax1.scatter(Embedding_MDSNet[:,0],Embedding_MDSNet[:,1], c = color,s=20,lw=0,alpha=1,cmap=cm.jet)\n",
    "\n",
    "# ax1.scatter(Embedding_MDSNet[Landmarks_FPS['indices'],0],Embedding_MDSNet[Landmarks_FPS['indices'],1], c = 'k',s=20,lw=0,alpha=1,cmap=cm.jet)\n",
    "ax1.scatter(Embedding_MDSNet[Landmarks_FPS['indices'],0],\n",
    "            Embedding_MDSNet[Landmarks_FPS['indices'],1],s=20,lw=0,alpha=1)\n",
    "\n",
    "ax1.set_title(str(numIndices),fontsize = 10)"
   ]
  },
  {
   "cell_type": "code",
   "execution_count": null,
   "id": "942530b4-3286-4da7-b752-971559fbe8ed",
   "metadata": {
    "execution": {
     "iopub.status.busy": "2023-03-09T13:42:10.381813Z",
     "iopub.status.idle": "2023-03-09T13:42:10.382070Z",
     "shell.execute_reply": "2023-03-09T13:42:10.381950Z",
     "shell.execute_reply.started": "2023-03-09T13:42:10.381937Z"
    },
    "tags": []
   },
   "outputs": [],
   "source": [
    "#!/usr/bin/env python2\n",
    "# -*- coding: utf-8 -*-\n",
    "\"\"\"\n",
    "Created on Sun Sep 10 11:53:47 2017\n",
    "\n",
    "@author: gipadmin\n",
    "\"\"\"\n",
    "\n",
    "from IPython import get_ipython\n",
    "get_ipython().magic('reset -sf') \n",
    "\n",
    "import numpy as np\n",
    "import matplotlib.pyplot as plt\n",
    "from mpl_toolkits.mplot3d import Axes3D\n",
    "import myFunctions\n",
    "from sklearn.neighbors import NearestNeighbors\n",
    "import sklearn.neighbors as nb\n",
    "from sklearn import manifold\n",
    "from sklearn import preprocessing\n",
    "from scipy import sparse, linalg\n",
    "from matplotlib import cm\n",
    "import MDSNet_3D\n",
    "import Functions_ManifoldLearning as FnManifold\n",
    "from sklearn import preprocessing, manifold, datasets\n",
    "import torch\n",
    "import scipy.io as sio\n",
    "\n",
    "torch.manual_seed(1000)\n",
    "#==============================================================================\n",
    "#                   Generate The Data\n",
    "#==============================================================================\n",
    "Numpts = np.power(2,11)\n",
    "#D, color = datasets.samples_generator.make_s_curve(n_samples=Numpts, noise=0.0, random_state=1)\n",
    "D, color = datasets.make_s_curve(n_samples=Numpts, random_state=0)\n",
    "\n",
    "index = np.random.permutation(np.arange(D.shape[0]))\n",
    "D = D[index,:]\n",
    "color = color[index]\n",
    "\n",
    "myFunctions.tic()\n",
    "# Compute the Graph\n",
    "W = nb.kneighbors_graph(D, 10, mode='distance',\n",
    "                              metric='minkowski', p=2, metric_params=None, \n",
    "                              include_self=False, n_jobs=-1)\n",
    "Landmarks = FnManifold.FPS(W,500)\n",
    "myFunctions.toc()\n",
    "\n",
    "numIndices = 200\n",
    "NetParams = {'Size_HL':70,'Num_HL':2}\n",
    "LearningParams = {'Numiter':2000,'learning_rate':1e-2, 'tol':1e-3}\n",
    "\n",
    "Landmarks_FPS = {'indices':Landmarks['indices'][0:numIndices],\n",
    "                     'Ds':Landmarks['Ds'][0:numIndices]}\n",
    "    \n",
    "#==============================================================================\n",
    "#                       RunMDS\n",
    "#==============================================================================\n",
    "Embedding_MDSNet,Net,train_err  = MDSNet_3D.MDSNet(D,Landmarks_FPS,NetParams,LearningParams)\n",
    "myFunctions.toc()\n",
    "# print(Embedding_MDSNet.shape)\n",
    "#==============================================================================\n",
    "#                       Plot\n",
    "#==============================================================================\n",
    "plt.close('all')\n",
    "fig = plt.figure()\n",
    "ax1 = fig.add_subplot(111)\n",
    "\n",
    "ax1.set_aspect('equal')\n",
    "ax1.scatter(Embedding_MDSNet[:,0],Embedding_MDSNet[:,1], c = color,s=20,lw=0,alpha=1,cmap=cm.jet)\n",
    "\n",
    "# ax1.scatter(Embedding_MDSNet[Landmarks_FPS['indices'],0],Embedding_MDSNet[Landmarks_FPS['indices'],1], c = 'k',s=20,lw=0,alpha=1,cmap=cm.jet)\n",
    "ax1.scatter(Embedding_MDSNet[Landmarks_FPS['indices'],0],\n",
    "            Embedding_MDSNet[Landmarks_FPS['indices'],1],s=20,lw=0,alpha=1)\n",
    "\n",
    "ax1.set_title(str(numIndices),fontsize = 10)"
   ]
  },
  {
   "cell_type": "code",
   "execution_count": null,
   "id": "2f8812f2-8dd0-49aa-917e-3f526c890424",
   "metadata": {
    "execution": {
     "iopub.status.busy": "2023-03-09T13:42:10.382815Z",
     "iopub.status.idle": "2023-03-09T13:42:10.383070Z",
     "shell.execute_reply": "2023-03-09T13:42:10.382949Z",
     "shell.execute_reply.started": "2023-03-09T13:42:10.382936Z"
    },
    "tags": []
   },
   "outputs": [],
   "source": [
    "[key for key in Landmarks]"
   ]
  },
  {
   "cell_type": "code",
   "execution_count": null,
   "id": "50fb2d51-23a4-4f32-a970-2571dd8585e1",
   "metadata": {
    "execution": {
     "iopub.status.busy": "2023-03-09T13:42:10.383603Z",
     "iopub.status.idle": "2023-03-09T13:42:10.383848Z",
     "shell.execute_reply": "2023-03-09T13:42:10.383730Z",
     "shell.execute_reply.started": "2023-03-09T13:42:10.383718Z"
    },
    "tags": []
   },
   "outputs": [],
   "source": [
    "print('indices-len', len(Landmarks['indices']))\n",
    "print('Ds-shape', Landmarks['Ds'].shape)\n",
    "print('W', Landmarks['W'].shape)"
   ]
  },
  {
   "cell_type": "code",
   "execution_count": null,
   "id": "ba4419c3-9755-47d3-9c1b-5b6bbf7e6f83",
   "metadata": {
    "execution": {
     "iopub.status.busy": "2023-03-09T13:42:10.384470Z",
     "iopub.status.idle": "2023-03-09T13:42:10.384719Z",
     "shell.execute_reply": "2023-03-09T13:42:10.384599Z",
     "shell.execute_reply.started": "2023-03-09T13:42:10.384586Z"
    },
    "tags": []
   },
   "outputs": [],
   "source": [
    "print(D.shape)\n",
    "print(min(D[0,:]), max(D[0,:]))\n",
    "print(min(D[1,:]), max(D[1,:]))\n",
    "print(min(D[2,:]), max(D[2,:]))"
   ]
  },
  {
   "cell_type": "code",
   "execution_count": null,
   "id": "260f6375-79dc-42dd-8add-db382ced2316",
   "metadata": {
    "execution": {
     "iopub.status.busy": "2023-03-09T13:42:10.385729Z",
     "iopub.status.idle": "2023-03-09T13:42:10.385993Z",
     "shell.execute_reply": "2023-03-09T13:42:10.385870Z",
     "shell.execute_reply.started": "2023-03-09T13:42:10.385856Z"
    },
    "tags": []
   },
   "outputs": [],
   "source": [
    "color"
   ]
  },
  {
   "cell_type": "code",
   "execution_count": null,
   "id": "cb5972b8-9fb5-49be-80a0-0ea4168ecb8f",
   "metadata": {
    "execution": {
     "iopub.status.busy": "2023-03-09T13:42:10.386854Z",
     "iopub.status.idle": "2023-03-09T13:42:10.387109Z",
     "shell.execute_reply": "2023-03-09T13:42:10.386987Z",
     "shell.execute_reply.started": "2023-03-09T13:42:10.386973Z"
    },
    "tags": []
   },
   "outputs": [],
   "source": [
    "index = np.random.permutation(np.arange(D.shape[0]))\n",
    "print(np.random.permutation(np.arange(10)))"
   ]
  },
  {
   "cell_type": "code",
   "execution_count": null,
   "id": "956e52c2-209c-4335-9f0f-2fe658418337",
   "metadata": {
    "execution": {
     "iopub.status.busy": "2023-03-09T13:42:10.388040Z",
     "iopub.status.idle": "2023-03-09T13:42:10.388295Z",
     "shell.execute_reply": "2023-03-09T13:42:10.388172Z",
     "shell.execute_reply.started": "2023-03-09T13:42:10.388159Z"
    },
    "tags": []
   },
   "outputs": [],
   "source": [
    "X = [[0, 0], [3, 0], [1, 0]]\n",
    "from sklearn.neighbors import kneighbors_graph\n",
    "A = kneighbors_graph(X, 1, mode='distance', include_self=False)\n",
    "A.toarray()"
   ]
  }
 ],
 "metadata": {
  "kernelspec": {
   "display_name": "Python 3 (ipykernel)",
   "language": "python",
   "name": "python3"
  },
  "language_info": {
   "codemirror_mode": {
    "name": "ipython",
    "version": 3
   },
   "file_extension": ".py",
   "mimetype": "text/x-python",
   "name": "python",
   "nbconvert_exporter": "python",
   "pygments_lexer": "ipython3",
   "version": "3.8.10"
  }
 },
 "nbformat": 4,
 "nbformat_minor": 5
}
